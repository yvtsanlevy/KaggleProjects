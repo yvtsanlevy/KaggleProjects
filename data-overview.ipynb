{
 "cells": [
  {
   "cell_type": "code",
   "execution_count": 1,
   "id": "7aae38ac",
   "metadata": {
    "_cell_guid": "b1076dfc-b9ad-4769-8c92-a6c4dae69d19",
    "_uuid": "8f2839f25d086af736a60e9eeb907d3b93b6e0e5",
    "execution": {
     "iopub.execute_input": "2021-11-04T11:29:43.685162Z",
     "iopub.status.busy": "2021-11-04T11:29:43.683355Z",
     "iopub.status.idle": "2021-11-04T11:29:44.818813Z",
     "shell.execute_reply": "2021-11-04T11:29:44.819721Z",
     "shell.execute_reply.started": "2021-11-04T11:27:38.561541Z"
    },
    "papermill": {
     "duration": 1.149886,
     "end_time": "2021-11-04T11:29:44.820133",
     "exception": false,
     "start_time": "2021-11-04T11:29:43.670247",
     "status": "completed"
    },
    "tags": []
   },
   "outputs": [],
   "source": [
    "import pandas as pd\n",
    "import numpy as np\n",
    "import seaborn as sns\n",
    "import matplotlib.pyplot as plt\n",
    "import cv2"
   ]
  },
  {
   "cell_type": "code",
   "execution_count": 2,
   "id": "f7ce3038",
   "metadata": {
    "execution": {
     "iopub.execute_input": "2021-11-04T11:29:44.839285Z",
     "iopub.status.busy": "2021-11-04T11:29:44.838625Z",
     "iopub.status.idle": "2021-11-04T11:29:45.492990Z",
     "shell.execute_reply": "2021-11-04T11:29:45.491996Z",
     "shell.execute_reply.started": "2021-11-04T11:27:39.798379Z"
    },
    "papermill": {
     "duration": 0.66547,
     "end_time": "2021-11-04T11:29:45.493163",
     "exception": false,
     "start_time": "2021-11-04T11:29:44.827693",
     "status": "completed"
    },
    "tags": []
   },
   "outputs": [],
   "source": [
    "df = pd.read_csv(\"../input/sartorius-cell-instance-segmentation/train.csv\")\n"
   ]
  },
  {
   "cell_type": "code",
   "execution_count": 3,
   "id": "0db9d59c",
   "metadata": {
    "execution": {
     "iopub.execute_input": "2021-11-04T11:29:45.513638Z",
     "iopub.status.busy": "2021-11-04T11:29:45.512912Z",
     "iopub.status.idle": "2021-11-04T11:29:45.538291Z",
     "shell.execute_reply": "2021-11-04T11:29:45.538823Z",
     "shell.execute_reply.started": "2021-11-04T11:27:44.860524Z"
    },
    "papermill": {
     "duration": 0.040181,
     "end_time": "2021-11-04T11:29:45.538993",
     "exception": false,
     "start_time": "2021-11-04T11:29:45.498812",
     "status": "completed"
    },
    "tags": []
   },
   "outputs": [
    {
     "data": {
      "text/html": [
       "<div>\n",
       "<style scoped>\n",
       "    .dataframe tbody tr th:only-of-type {\n",
       "        vertical-align: middle;\n",
       "    }\n",
       "\n",
       "    .dataframe tbody tr th {\n",
       "        vertical-align: top;\n",
       "    }\n",
       "\n",
       "    .dataframe thead th {\n",
       "        text-align: right;\n",
       "    }\n",
       "</style>\n",
       "<table border=\"1\" class=\"dataframe\">\n",
       "  <thead>\n",
       "    <tr style=\"text-align: right;\">\n",
       "      <th></th>\n",
       "      <th>id</th>\n",
       "      <th>annotation</th>\n",
       "      <th>width</th>\n",
       "      <th>height</th>\n",
       "      <th>cell_type</th>\n",
       "      <th>plate_time</th>\n",
       "      <th>sample_date</th>\n",
       "      <th>sample_id</th>\n",
       "      <th>elapsed_timedelta</th>\n",
       "    </tr>\n",
       "  </thead>\n",
       "  <tbody>\n",
       "    <tr>\n",
       "      <th>0</th>\n",
       "      <td>0030fd0e6378</td>\n",
       "      <td>118145 6 118849 7 119553 8 120257 8 120961 9 1...</td>\n",
       "      <td>704</td>\n",
       "      <td>520</td>\n",
       "      <td>shsy5y</td>\n",
       "      <td>11h30m00s</td>\n",
       "      <td>2019-06-16</td>\n",
       "      <td>shsy5y[diff]_E10-4_Vessel-714_Ph_3</td>\n",
       "      <td>0 days 11:30:00</td>\n",
       "    </tr>\n",
       "    <tr>\n",
       "      <th>1</th>\n",
       "      <td>0030fd0e6378</td>\n",
       "      <td>189036 1 189739 3 190441 6 191144 7 191848 8 1...</td>\n",
       "      <td>704</td>\n",
       "      <td>520</td>\n",
       "      <td>shsy5y</td>\n",
       "      <td>11h30m00s</td>\n",
       "      <td>2019-06-16</td>\n",
       "      <td>shsy5y[diff]_E10-4_Vessel-714_Ph_3</td>\n",
       "      <td>0 days 11:30:00</td>\n",
       "    </tr>\n",
       "    <tr>\n",
       "      <th>2</th>\n",
       "      <td>0030fd0e6378</td>\n",
       "      <td>173567 3 174270 5 174974 5 175678 6 176382 7 1...</td>\n",
       "      <td>704</td>\n",
       "      <td>520</td>\n",
       "      <td>shsy5y</td>\n",
       "      <td>11h30m00s</td>\n",
       "      <td>2019-06-16</td>\n",
       "      <td>shsy5y[diff]_E10-4_Vessel-714_Ph_3</td>\n",
       "      <td>0 days 11:30:00</td>\n",
       "    </tr>\n",
       "    <tr>\n",
       "      <th>3</th>\n",
       "      <td>0030fd0e6378</td>\n",
       "      <td>196723 4 197427 6 198130 7 198834 8 199538 8 2...</td>\n",
       "      <td>704</td>\n",
       "      <td>520</td>\n",
       "      <td>shsy5y</td>\n",
       "      <td>11h30m00s</td>\n",
       "      <td>2019-06-16</td>\n",
       "      <td>shsy5y[diff]_E10-4_Vessel-714_Ph_3</td>\n",
       "      <td>0 days 11:30:00</td>\n",
       "    </tr>\n",
       "    <tr>\n",
       "      <th>4</th>\n",
       "      <td>0030fd0e6378</td>\n",
       "      <td>167818 3 168522 5 169225 7 169928 8 170632 9 1...</td>\n",
       "      <td>704</td>\n",
       "      <td>520</td>\n",
       "      <td>shsy5y</td>\n",
       "      <td>11h30m00s</td>\n",
       "      <td>2019-06-16</td>\n",
       "      <td>shsy5y[diff]_E10-4_Vessel-714_Ph_3</td>\n",
       "      <td>0 days 11:30:00</td>\n",
       "    </tr>\n",
       "    <tr>\n",
       "      <th>...</th>\n",
       "      <td>...</td>\n",
       "      <td>...</td>\n",
       "      <td>...</td>\n",
       "      <td>...</td>\n",
       "      <td>...</td>\n",
       "      <td>...</td>\n",
       "      <td>...</td>\n",
       "      <td>...</td>\n",
       "      <td>...</td>\n",
       "    </tr>\n",
       "    <tr>\n",
       "      <th>73580</th>\n",
       "      <td>ffdb3cc02eef</td>\n",
       "      <td>3610 3 4311 7 5014 9 5717 11 6420 13 7123 15 7...</td>\n",
       "      <td>704</td>\n",
       "      <td>520</td>\n",
       "      <td>cort</td>\n",
       "      <td>11h59m00s</td>\n",
       "      <td>2020-11-01</td>\n",
       "      <td>cort[debris]_D9-3_Vessel-384_Ph_4</td>\n",
       "      <td>0 days 11:59:00</td>\n",
       "    </tr>\n",
       "    <tr>\n",
       "      <th>73581</th>\n",
       "      <td>ffdb3cc02eef</td>\n",
       "      <td>341585 2 342287 5 342988 10 343690 13 344394 1...</td>\n",
       "      <td>704</td>\n",
       "      <td>520</td>\n",
       "      <td>cort</td>\n",
       "      <td>11h59m00s</td>\n",
       "      <td>2020-11-01</td>\n",
       "      <td>cort[debris]_D9-3_Vessel-384_Ph_4</td>\n",
       "      <td>0 days 11:59:00</td>\n",
       "    </tr>\n",
       "    <tr>\n",
       "      <th>73582</th>\n",
       "      <td>ffdb3cc02eef</td>\n",
       "      <td>47788 3 48490 7 49192 11 49896 13 50599 14 513...</td>\n",
       "      <td>704</td>\n",
       "      <td>520</td>\n",
       "      <td>cort</td>\n",
       "      <td>11h59m00s</td>\n",
       "      <td>2020-11-01</td>\n",
       "      <td>cort[debris]_D9-3_Vessel-384_Ph_4</td>\n",
       "      <td>0 days 11:59:00</td>\n",
       "    </tr>\n",
       "    <tr>\n",
       "      <th>73583</th>\n",
       "      <td>ffdb3cc02eef</td>\n",
       "      <td>333290 1 333993 2 334696 4 335399 5 336102 6 3...</td>\n",
       "      <td>704</td>\n",
       "      <td>520</td>\n",
       "      <td>cort</td>\n",
       "      <td>11h59m00s</td>\n",
       "      <td>2020-11-01</td>\n",
       "      <td>cort[debris]_D9-3_Vessel-384_Ph_4</td>\n",
       "      <td>0 days 11:59:00</td>\n",
       "    </tr>\n",
       "    <tr>\n",
       "      <th>73584</th>\n",
       "      <td>ffdb3cc02eef</td>\n",
       "      <td>249775 2 250477 6 251180 8 251882 11 252585 12...</td>\n",
       "      <td>704</td>\n",
       "      <td>520</td>\n",
       "      <td>cort</td>\n",
       "      <td>11h59m00s</td>\n",
       "      <td>2020-11-01</td>\n",
       "      <td>cort[debris]_D9-3_Vessel-384_Ph_4</td>\n",
       "      <td>0 days 11:59:00</td>\n",
       "    </tr>\n",
       "  </tbody>\n",
       "</table>\n",
       "<p>73585 rows × 9 columns</p>\n",
       "</div>"
      ],
      "text/plain": [
       "                 id                                         annotation  width  \\\n",
       "0      0030fd0e6378  118145 6 118849 7 119553 8 120257 8 120961 9 1...    704   \n",
       "1      0030fd0e6378  189036 1 189739 3 190441 6 191144 7 191848 8 1...    704   \n",
       "2      0030fd0e6378  173567 3 174270 5 174974 5 175678 6 176382 7 1...    704   \n",
       "3      0030fd0e6378  196723 4 197427 6 198130 7 198834 8 199538 8 2...    704   \n",
       "4      0030fd0e6378  167818 3 168522 5 169225 7 169928 8 170632 9 1...    704   \n",
       "...             ...                                                ...    ...   \n",
       "73580  ffdb3cc02eef  3610 3 4311 7 5014 9 5717 11 6420 13 7123 15 7...    704   \n",
       "73581  ffdb3cc02eef  341585 2 342287 5 342988 10 343690 13 344394 1...    704   \n",
       "73582  ffdb3cc02eef  47788 3 48490 7 49192 11 49896 13 50599 14 513...    704   \n",
       "73583  ffdb3cc02eef  333290 1 333993 2 334696 4 335399 5 336102 6 3...    704   \n",
       "73584  ffdb3cc02eef  249775 2 250477 6 251180 8 251882 11 252585 12...    704   \n",
       "\n",
       "       height cell_type plate_time sample_date  \\\n",
       "0         520    shsy5y  11h30m00s  2019-06-16   \n",
       "1         520    shsy5y  11h30m00s  2019-06-16   \n",
       "2         520    shsy5y  11h30m00s  2019-06-16   \n",
       "3         520    shsy5y  11h30m00s  2019-06-16   \n",
       "4         520    shsy5y  11h30m00s  2019-06-16   \n",
       "...       ...       ...        ...         ...   \n",
       "73580     520      cort  11h59m00s  2020-11-01   \n",
       "73581     520      cort  11h59m00s  2020-11-01   \n",
       "73582     520      cort  11h59m00s  2020-11-01   \n",
       "73583     520      cort  11h59m00s  2020-11-01   \n",
       "73584     520      cort  11h59m00s  2020-11-01   \n",
       "\n",
       "                                sample_id elapsed_timedelta  \n",
       "0      shsy5y[diff]_E10-4_Vessel-714_Ph_3   0 days 11:30:00  \n",
       "1      shsy5y[diff]_E10-4_Vessel-714_Ph_3   0 days 11:30:00  \n",
       "2      shsy5y[diff]_E10-4_Vessel-714_Ph_3   0 days 11:30:00  \n",
       "3      shsy5y[diff]_E10-4_Vessel-714_Ph_3   0 days 11:30:00  \n",
       "4      shsy5y[diff]_E10-4_Vessel-714_Ph_3   0 days 11:30:00  \n",
       "...                                   ...               ...  \n",
       "73580   cort[debris]_D9-3_Vessel-384_Ph_4   0 days 11:59:00  \n",
       "73581   cort[debris]_D9-3_Vessel-384_Ph_4   0 days 11:59:00  \n",
       "73582   cort[debris]_D9-3_Vessel-384_Ph_4   0 days 11:59:00  \n",
       "73583   cort[debris]_D9-3_Vessel-384_Ph_4   0 days 11:59:00  \n",
       "73584   cort[debris]_D9-3_Vessel-384_Ph_4   0 days 11:59:00  \n",
       "\n",
       "[73585 rows x 9 columns]"
      ]
     },
     "execution_count": 3,
     "metadata": {},
     "output_type": "execute_result"
    }
   ],
   "source": [
    "df\n"
   ]
  },
  {
   "cell_type": "code",
   "execution_count": 4,
   "id": "7f7084ee",
   "metadata": {
    "execution": {
     "iopub.execute_input": "2021-11-04T11:29:45.616370Z",
     "iopub.status.busy": "2021-11-04T11:29:45.615112Z",
     "iopub.status.idle": "2021-11-04T11:29:45.636038Z",
     "shell.execute_reply": "2021-11-04T11:29:45.636627Z",
     "shell.execute_reply.started": "2021-11-04T11:29:07.578290Z"
    },
    "papermill": {
     "duration": 0.091207,
     "end_time": "2021-11-04T11:29:45.636809",
     "exception": false,
     "start_time": "2021-11-04T11:29:45.545602",
     "status": "completed"
    },
    "tags": []
   },
   "outputs": [
    {
     "name": "stdout",
     "output_type": "stream",
     "text": [
      "<class 'pandas.core.frame.DataFrame'>\n",
      "RangeIndex: 73585 entries, 0 to 73584\n",
      "Data columns (total 9 columns):\n",
      " #   Column             Non-Null Count  Dtype \n",
      "---  ------             --------------  ----- \n",
      " 0   id                 73585 non-null  object\n",
      " 1   annotation         73585 non-null  object\n",
      " 2   width              73585 non-null  int64 \n",
      " 3   height             73585 non-null  int64 \n",
      " 4   cell_type          73585 non-null  object\n",
      " 5   plate_time         73585 non-null  object\n",
      " 6   sample_date        73585 non-null  object\n",
      " 7   sample_id          73585 non-null  object\n",
      " 8   elapsed_timedelta  73585 non-null  object\n",
      "dtypes: int64(2), object(7)\n",
      "memory usage: 5.1+ MB\n"
     ]
    }
   ],
   "source": [
    "df.info()\n"
   ]
  },
  {
   "cell_type": "code",
   "execution_count": 5,
   "id": "288033a6",
   "metadata": {
    "execution": {
     "iopub.execute_input": "2021-11-04T11:29:45.666131Z",
     "iopub.status.busy": "2021-11-04T11:29:45.665424Z",
     "iopub.status.idle": "2021-11-04T11:29:46.015377Z",
     "shell.execute_reply": "2021-11-04T11:29:46.016164Z",
     "shell.execute_reply.started": "2021-11-04T11:28:39.901330Z"
    },
    "papermill": {
     "duration": 0.370353,
     "end_time": "2021-11-04T11:29:46.016341",
     "exception": false,
     "start_time": "2021-11-04T11:29:45.645988",
     "status": "completed"
    },
    "tags": []
   },
   "outputs": [
    {
     "data": {
      "image/png": "[encoded data removed]",
      "text/plain": [
       "<Figure size 432x288 with 1 Axes>"
      ]
     },
     "metadata": {
      "needs_background": "light"
     },
     "output_type": "display_data"
    }
   ],
   "source": [
    "sns.countplot(x= \"cell_type\", data= df)\n",
    "plt.title(\"Cell type counting\")\n",
    "plt.show()"
   ]
  }
 ],
 "metadata": {
  "kernelspec": {
   "display_name": "Python 3",
   "language": "python",
   "name": "python3"
  },
  "language_info": {
   "codemirror_mode": {
    "name": "ipython",
    "version": 3
   },
   "file_extension": ".py",
   "mimetype": "text/x-python",
   "name": "python",
   "nbconvert_exporter": "python",
   "pygments_lexer": "ipython3",
   "version": "3.7.10"
  },
  "papermill": {
   "default_parameters": {},
   "duration": 12.688736,
   "end_time": "2021-11-04T11:29:46.735091",
   "environment_variables": {},
   "exception": null,
   "input_path": "__notebook__.ipynb",
   "output_path": "__notebook__.ipynb",
   "parameters": {},
   "start_time": "2021-11-04T11:29:34.046355",
   "version": "2.3.3"
  }
 },
 "nbformat": 4,
 "nbformat_minor": 5
}
