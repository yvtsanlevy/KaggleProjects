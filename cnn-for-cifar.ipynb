{
 "cells": [
  {
   "cell_type": "code",
   "execution_count": 1,
   "id": "dfb8a36f",
   "metadata": {
    "_cell_guid": "b1076dfc-b9ad-4769-8c92-a6c4dae69d19",
    "_uuid": "8f2839f25d086af736a60e9eeb907d3b93b6e0e5",
    "execution": {
     "iopub.execute_input": "2021-11-03T10:26:10.981551Z",
     "iopub.status.busy": "2021-11-03T10:26:10.979871Z",
     "iopub.status.idle": "2021-11-03T10:26:15.838612Z",
     "shell.execute_reply": "2021-11-03T10:26:15.839157Z",
     "shell.execute_reply.started": "2021-11-03T09:30:57.565611Z"
    },
    "papermill": {
     "duration": 4.875508,
     "end_time": "2021-11-03T10:26:15.839464",
     "exception": false,
     "start_time": "2021-11-03T10:26:10.963956",
     "status": "completed"
    },
    "tags": []
   },
   "outputs": [
    {
     "name": "stdout",
     "output_type": "stream",
     "text": [
      "2.6.0\n"
     ]
    }
   ],
   "source": [
    "# This Python 3 environment comes with many helpful analytics libraries installed\n",
    "# It is defined by the kaggle/python Docker image: https://github.com/kaggle/docker-python\n",
    "# For example, here's several helpful packages to load\n",
    "\n",
    "import numpy as np # linear algebra\n",
    "import pandas as pd # data processing, CSV file I/O (e.g. pd.read_csv)\n",
    "import matplotlib.pyplot as plt\n",
    "\n",
    "import tensorflow as tf\n",
    "print(tf.__version__)\n",
    "from tensorflow.keras.layers import Input, Conv2D, Dense, Flatten, Dropout, GlobalMaxPooling2D, MaxPooling2D, BatchNormalization\n",
    "from tensorflow.keras.models import Model"
   ]
  },
  {
   "cell_type": "code",
   "execution_count": 2,
   "id": "653ac5d4",
   "metadata": {
    "execution": {
     "iopub.execute_input": "2021-11-03T10:26:15.867880Z",
     "iopub.status.busy": "2021-11-03T10:26:15.865455Z",
     "iopub.status.idle": "2021-11-03T10:26:32.139113Z",
     "shell.execute_reply": "2021-11-03T10:26:32.138287Z",
     "shell.execute_reply.started": "2021-11-03T09:30:57.577274Z"
    },
    "papermill": {
     "duration": 16.287799,
     "end_time": "2021-11-03T10:26:32.139263",
     "exception": false,
     "start_time": "2021-11-03T10:26:15.851464",
     "status": "completed"
    },
    "tags": []
   },
   "outputs": [
    {
     "name": "stdout",
     "output_type": "stream",
     "text": [
      "Downloading data from https://www.cs.toronto.edu/~kriz/cifar-10-python.tar.gz\n",
      "170500096/170498071 [==============================] - 13s 0us/step\n",
      "170508288/170498071 [==============================] - 13s 0us/step\n",
      "x_train.shape: (50000, 32, 32, 3)\n",
      "y_train.shape (50000,)\n"
     ]
    }
   ],
   "source": [
    "# Load in the data\n",
    "cifar10 = tf.keras.datasets.cifar10\n",
    "\n",
    "(x_train, y_train), (x_test, y_test) = cifar10.load_data()\n",
    "x_train, x_test = x_train / 255.0, x_test / 255.0\n",
    "y_train, y_test = y_train.flatten(), y_test.flatten()\n",
    "print(\"x_train.shape:\", x_train.shape)\n",
    "print(\"y_train.shape\", y_train.shape)"
   ]
  },
  {
   "cell_type": "code",
   "execution_count": 3,
   "id": "9341bf4c",
   "metadata": {
    "execution": {
     "iopub.execute_input": "2021-11-03T10:26:32.285340Z",
     "iopub.status.busy": "2021-11-03T10:26:32.284776Z",
     "iopub.status.idle": "2021-11-03T10:26:32.287295Z",
     "shell.execute_reply": "2021-11-03T10:26:32.287757Z",
     "shell.execute_reply.started": "2021-11-03T09:30:58.803041Z"
    },
    "papermill": {
     "duration": 0.082622,
     "end_time": "2021-11-03T10:26:32.287887",
     "exception": false,
     "start_time": "2021-11-03T10:26:32.205265",
     "status": "completed"
    },
    "tags": []
   },
   "outputs": [
    {
     "name": "stdout",
     "output_type": "stream",
     "text": [
      "number of classes: 10\n"
     ]
    }
   ],
   "source": [
    "# number of classes\n",
    "K = len(set(y_train))\n",
    "print(\"number of classes:\", K)"
   ]
  },
  {
   "cell_type": "code",
   "execution_count": 4,
   "id": "7e3e8b99",
   "metadata": {
    "execution": {
     "iopub.execute_input": "2021-11-03T10:26:32.427982Z",
     "iopub.status.busy": "2021-11-03T10:26:32.425941Z",
     "iopub.status.idle": "2021-11-03T10:26:34.748657Z",
     "shell.execute_reply": "2021-11-03T10:26:34.749488Z",
     "shell.execute_reply.started": "2021-11-03T09:30:58.822305Z"
    },
    "papermill": {
     "duration": 2.396173,
     "end_time": "2021-11-03T10:26:34.749686",
     "exception": false,
     "start_time": "2021-11-03T10:26:32.353513",
     "status": "completed"
    },
    "tags": []
   },
   "outputs": [
    {
     "name": "stderr",
     "output_type": "stream",
     "text": [
      "2021-11-03 10:26:32.509484: I tensorflow/stream_executor/cuda/cuda_gpu_executor.cc:937] successful NUMA node read from SysFS had negative value (-1), but there must be at least one NUMA node, so returning NUMA node zero\n",
      "2021-11-03 10:26:32.606632: I tensorflow/stream_executor/cuda/cuda_gpu_executor.cc:937] successful NUMA node read from SysFS had negative value (-1), but there must be at least one NUMA node, so returning NUMA node zero\n",
      "2021-11-03 10:26:32.607284: I tensorflow/stream_executor/cuda/cuda_gpu_executor.cc:937] successful NUMA node read from SysFS had negative value (-1), but there must be at least one NUMA node, so returning NUMA node zero\n",
      "2021-11-03 10:26:32.608724: I tensorflow/core/platform/cpu_feature_guard.cc:142] This TensorFlow binary is optimized with oneAPI Deep Neural Network Library (oneDNN) to use the following CPU instructions in performance-critical operations:  AVX2 AVX512F FMA\n",
      "To enable them in other operations, rebuild TensorFlow with the appropriate compiler flags.\n",
      "2021-11-03 10:26:32.609685: I tensorflow/stream_executor/cuda/cuda_gpu_executor.cc:937] successful NUMA node read from SysFS had negative value (-1), but there must be at least one NUMA node, so returning NUMA node zero\n",
      "2021-11-03 10:26:32.610325: I tensorflow/stream_executor/cuda/cuda_gpu_executor.cc:937] successful NUMA node read from SysFS had negative value (-1), but there must be at least one NUMA node, so returning NUMA node zero\n",
      "2021-11-03 10:26:32.610968: I tensorflow/stream_executor/cuda/cuda_gpu_executor.cc:937] successful NUMA node read from SysFS had negative value (-1), but there must be at least one NUMA node, so returning NUMA node zero\n",
      "2021-11-03 10:26:34.308374: I tensorflow/stream_executor/cuda/cuda_gpu_executor.cc:937] successful NUMA node read from SysFS had negative value (-1), but there must be at least one NUMA node, so returning NUMA node zero\n",
      "2021-11-03 10:26:34.309150: I tensorflow/stream_executor/cuda/cuda_gpu_executor.cc:937] successful NUMA node read from SysFS had negative value (-1), but there must be at least one NUMA node, so returning NUMA node zero\n",
      "2021-11-03 10:26:34.309832: I tensorflow/stream_executor/cuda/cuda_gpu_executor.cc:937] successful NUMA node read from SysFS had negative value (-1), but there must be at least one NUMA node, so returning NUMA node zero\n",
      "2021-11-03 10:26:34.310401: I tensorflow/core/common_runtime/gpu/gpu_device.cc:1510] Created device /job:localhost/replica:0/task:0/device:GPU:0 with 15403 MB memory:  -> device: 0, name: Tesla P100-PCIE-16GB, pci bus id: 0000:00:04.0, compute capability: 6.0\n"
     ]
    }
   ],
   "source": [
    "# Build the model using the functional API\n",
    "i = Input(shape=x_train[0].shape)\n",
    "# x = Conv2D(32, (3, 3), strides=2, activation='relu')(i)\n",
    "# x = Conv2D(64, (3, 3), strides=2, activation='relu')(x)\n",
    "# x = Conv2D(128, (3, 3), strides=2, activation='relu')(x)\n",
    "\n",
    "x = Conv2D(32, (3, 3), activation='relu', padding='same')(i)\n",
    "x = BatchNormalization()(x)\n",
    "x = Conv2D(32, (3, 3), activation='relu', padding='same')(x)\n",
    "x = BatchNormalization()(x)\n",
    "x = MaxPooling2D((2, 2))(x)\n",
    "# x = Dropout(0.2)(x)\n",
    "x = Conv2D(64, (3, 3), activation='relu', padding='same')(x)\n",
    "x = BatchNormalization()(x)\n",
    "x = Conv2D(64, (3, 3), activation='relu', padding='same')(x)\n",
    "x = BatchNormalization()(x)\n",
    "x = MaxPooling2D((2, 2))(x)\n",
    "# x = Dropout(0.2)(x)\n",
    "x = Conv2D(128, (3, 3), activation='relu', padding='same')(x)\n",
    "x = BatchNormalization()(x)\n",
    "x = Conv2D(128, (3, 3), activation='relu', padding='same')(x)\n",
    "x = BatchNormalization()(x)\n",
    "x = MaxPooling2D((2, 2))(x)\n",
    "# x = Dropout(0.2)(x)\n",
    "\n",
    "# x = GlobalMaxPooling2D()(x)\n",
    "x = Flatten()(x)\n",
    "x = Dropout(0.2)(x)\n",
    "x = Dense(1024, activation='relu')(x)\n",
    "x = Dropout(0.2)(x)\n",
    "x = Dense(K, activation='softmax')(x)\n",
    "\n",
    "model = Model(i, x)"
   ]
  },
  {
   "cell_type": "code",
   "execution_count": 5,
   "id": "822882fe",
   "metadata": {
    "execution": {
     "iopub.execute_input": "2021-11-03T10:26:34.895727Z",
     "iopub.status.busy": "2021-11-03T10:26:34.894903Z",
     "iopub.status.idle": "2021-11-03T10:26:34.901083Z",
     "shell.execute_reply": "2021-11-03T10:26:34.900676Z",
     "shell.execute_reply.started": "2021-11-03T09:31:01.371165Z"
    },
    "papermill": {
     "duration": 0.083901,
     "end_time": "2021-11-03T10:26:34.901192",
     "exception": false,
     "start_time": "2021-11-03T10:26:34.817291",
     "status": "completed"
    },
    "tags": []
   },
   "outputs": [],
   "source": [
    "# Compile\n",
    "# Note: make sure you are using the GPU for this!\n",
    "model.compile(optimizer='adam',\n",
    "              loss='sparse_categorical_crossentropy',\n",
    "              metrics=['accuracy'])"
   ]
  },
  {
   "cell_type": "code",
   "execution_count": 6,
   "id": "a3eee9f2",
   "metadata": {
    "execution": {
     "iopub.execute_input": "2021-11-03T10:26:35.037559Z",
     "iopub.status.busy": "2021-11-03T10:26:35.036773Z",
     "iopub.status.idle": "2021-11-03T10:26:35.050575Z",
     "shell.execute_reply": "2021-11-03T10:26:35.049955Z",
     "shell.execute_reply.started": "2021-11-03T09:31:01.386212Z"
    },
    "papermill": {
     "duration": 0.083485,
     "end_time": "2021-11-03T10:26:35.050727",
     "exception": false,
     "start_time": "2021-11-03T10:26:34.967242",
     "status": "completed"
    },
    "tags": []
   },
   "outputs": [
    {
     "name": "stdout",
     "output_type": "stream",
     "text": [
      "Model: \"model\"\n",
      "_________________________________________________________________\n",
      "Layer (type)                 Output Shape              Param #   \n",
      "=================================================================\n",
      "input_1 (InputLayer)         [(None, 32, 32, 3)]       0         \n",
      "_________________________________________________________________\n",
      "conv2d (Conv2D)              (None, 32, 32, 32)        896       \n",
      "_________________________________________________________________\n",
      "batch_normalization (BatchNo (None, 32, 32, 32)        128       \n",
      "_________________________________________________________________\n",
      "conv2d_1 (Conv2D)            (None, 32, 32, 32)        9248      \n",
      "_________________________________________________________________\n",
      "batch_normalization_1 (Batch (None, 32, 32, 32)        128       \n",
      "_________________________________________________________________\n",
      "max_pooling2d (MaxPooling2D) (None, 16, 16, 32)        0         \n",
      "_________________________________________________________________\n",
      "conv2d_2 (Conv2D)            (None, 16, 16, 64)        18496     \n",
      "_________________________________________________________________\n",
      "batch_normalization_2 (Batch (None, 16, 16, 64)        256       \n",
      "_________________________________________________________________\n",
      "conv2d_3 (Conv2D)            (None, 16, 16, 64)        36928     \n",
      "_________________________________________________________________\n",
      "batch_normalization_3 (Batch (None, 16, 16, 64)        256       \n",
      "_________________________________________________________________\n",
      "max_pooling2d_1 (MaxPooling2 (None, 8, 8, 64)          0         \n",
      "_________________________________________________________________\n",
      "conv2d_4 (Conv2D)            (None, 8, 8, 128)         73856     \n",
      "_________________________________________________________________\n",
      "batch_normalization_4 (Batch (None, 8, 8, 128)         512       \n",
      "_________________________________________________________________\n",
      "conv2d_5 (Conv2D)            (None, 8, 8, 128)         147584    \n",
      "_________________________________________________________________\n",
      "batch_normalization_5 (Batch (None, 8, 8, 128)         512       \n",
      "_________________________________________________________________\n",
      "max_pooling2d_2 (MaxPooling2 (None, 4, 4, 128)         0         \n",
      "_________________________________________________________________\n",
      "flatten (Flatten)            (None, 2048)              0         \n",
      "_________________________________________________________________\n",
      "dropout (Dropout)            (None, 2048)              0         \n",
      "_________________________________________________________________\n",
      "dense (Dense)                (None, 1024)              2098176   \n",
      "_________________________________________________________________\n",
      "dropout_1 (Dropout)          (None, 1024)              0         \n",
      "_________________________________________________________________\n",
      "dense_1 (Dense)              (None, 10)                10250     \n",
      "=================================================================\n",
      "Total params: 2,397,226\n",
      "Trainable params: 2,396,330\n",
      "Non-trainable params: 896\n",
      "_________________________________________________________________\n"
     ]
    }
   ],
   "source": [
    "# Now that the model is so large, it's useful to summarize it\n",
    "model.summary()"
   ]
  },
  {
   "cell_type": "code",
   "execution_count": 7,
   "id": "a3891531",
   "metadata": {
    "execution": {
     "iopub.execute_input": "2021-11-03T10:26:35.189459Z",
     "iopub.status.busy": "2021-11-03T10:26:35.188560Z",
     "iopub.status.idle": "2021-11-03T10:55:56.172607Z",
     "shell.execute_reply": "2021-11-03T10:55:56.171807Z",
     "shell.execute_reply.started": "2021-11-03T09:31:01.404732Z"
    },
    "papermill": {
     "duration": 1761.055118,
     "end_time": "2021-11-03T10:55:56.172737",
     "exception": false,
     "start_time": "2021-11-03T10:26:35.117619",
     "status": "completed"
    },
    "tags": []
   },
   "outputs": [
    {
     "name": "stderr",
     "output_type": "stream",
     "text": [
      "2021-11-03 10:26:35.503626: I tensorflow/compiler/mlir/mlir_graph_optimization_pass.cc:185] None of the MLIR Optimization Passes are enabled (registered 2)\n"
     ]
    },
    {
     "name": "stdout",
     "output_type": "stream",
     "text": [
      "Epoch 1/50\n"
     ]
    },
    {
     "name": "stderr",
     "output_type": "stream",
     "text": [
      "2021-11-03 10:26:37.331974: I tensorflow/stream_executor/cuda/cuda_dnn.cc:369] Loaded cuDNN version 8005\n"
     ]
    },
    {
     "name": "stdout",
     "output_type": "stream",
     "text": [
      "1562/1562 [==============================] - 36s 19ms/step - loss: 1.4405 - accuracy: 0.5017 - val_loss: 1.2342 - val_accuracy: 0.5770\n",
      "Epoch 2/50\n",
      "1562/1562 [==============================] - 28s 18ms/step - loss: 0.9866 - accuracy: 0.6577 - val_loss: 0.9019 - val_accuracy: 0.7024\n",
      "Epoch 3/50\n",
      "1562/1562 [==============================] - 28s 18ms/step - loss: 0.8403 - accuracy: 0.7079 - val_loss: 0.9167 - val_accuracy: 0.6995\n",
      "Epoch 4/50\n",
      "1562/1562 [==============================] - 28s 18ms/step - loss: 0.7541 - accuracy: 0.7421 - val_loss: 0.7183 - val_accuracy: 0.7546\n",
      "Epoch 5/50\n",
      "1562/1562 [==============================] - 28s 18ms/step - loss: 0.6858 - accuracy: 0.7670 - val_loss: 0.6803 - val_accuracy: 0.7750\n",
      "Epoch 6/50\n",
      "1562/1562 [==============================] - 28s 18ms/step - loss: 0.6353 - accuracy: 0.7845 - val_loss: 0.6159 - val_accuracy: 0.7883\n",
      "Epoch 7/50\n",
      "1562/1562 [==============================] - 29s 18ms/step - loss: 0.5902 - accuracy: 0.7974 - val_loss: 0.6139 - val_accuracy: 0.7924\n",
      "Epoch 8/50\n",
      "1562/1562 [==============================] - 29s 19ms/step - loss: 0.5474 - accuracy: 0.8130 - val_loss: 0.6358 - val_accuracy: 0.7894\n",
      "Epoch 9/50\n",
      "1562/1562 [==============================] - 30s 19ms/step - loss: 0.5269 - accuracy: 0.8224 - val_loss: 0.5245 - val_accuracy: 0.8207\n",
      "Epoch 10/50\n",
      "1562/1562 [==============================] - 29s 19ms/step - loss: 0.4880 - accuracy: 0.8341 - val_loss: 0.4989 - val_accuracy: 0.8368\n",
      "Epoch 11/50\n",
      "1562/1562 [==============================] - 30s 19ms/step - loss: 0.4662 - accuracy: 0.8415 - val_loss: 0.5022 - val_accuracy: 0.8308\n",
      "Epoch 12/50\n",
      "1562/1562 [==============================] - 29s 19ms/step - loss: 0.4447 - accuracy: 0.8474 - val_loss: 0.4406 - val_accuracy: 0.8540\n",
      "Epoch 13/50\n",
      "1562/1562 [==============================] - 30s 19ms/step - loss: 0.4280 - accuracy: 0.8543 - val_loss: 0.4654 - val_accuracy: 0.8464\n",
      "Epoch 14/50\n",
      "1562/1562 [==============================] - 30s 19ms/step - loss: 0.4054 - accuracy: 0.8615 - val_loss: 0.4742 - val_accuracy: 0.8418\n",
      "Epoch 15/50\n",
      "1562/1562 [==============================] - 30s 20ms/step - loss: 0.3901 - accuracy: 0.8664 - val_loss: 0.4421 - val_accuracy: 0.8554\n",
      "Epoch 16/50\n",
      "1562/1562 [==============================] - 31s 20ms/step - loss: 0.3753 - accuracy: 0.8718 - val_loss: 0.4778 - val_accuracy: 0.8450\n",
      "Epoch 17/50\n",
      "1562/1562 [==============================] - 31s 20ms/step - loss: 0.3640 - accuracy: 0.8753 - val_loss: 0.5170 - val_accuracy: 0.8313\n",
      "Epoch 18/50\n",
      "1562/1562 [==============================] - 30s 19ms/step - loss: 0.3513 - accuracy: 0.8785 - val_loss: 0.5044 - val_accuracy: 0.8372\n",
      "Epoch 19/50\n",
      "1562/1562 [==============================] - 31s 20ms/step - loss: 0.3432 - accuracy: 0.8811 - val_loss: 0.4735 - val_accuracy: 0.8488\n",
      "Epoch 20/50\n",
      "1562/1562 [==============================] - 30s 19ms/step - loss: 0.3245 - accuracy: 0.8878 - val_loss: 0.4598 - val_accuracy: 0.8485\n",
      "Epoch 21/50\n",
      "1562/1562 [==============================] - 31s 20ms/step - loss: 0.3192 - accuracy: 0.8894 - val_loss: 0.4149 - val_accuracy: 0.8645\n",
      "Epoch 22/50\n",
      "1562/1562 [==============================] - 30s 19ms/step - loss: 0.3104 - accuracy: 0.8924 - val_loss: 0.4270 - val_accuracy: 0.8591\n",
      "Epoch 23/50\n",
      "1562/1562 [==============================] - 30s 20ms/step - loss: 0.3016 - accuracy: 0.8965 - val_loss: 0.3993 - val_accuracy: 0.8707\n",
      "Epoch 24/50\n",
      "1562/1562 [==============================] - 31s 20ms/step - loss: 0.2936 - accuracy: 0.8982 - val_loss: 0.4100 - val_accuracy: 0.8662\n",
      "Epoch 25/50\n",
      "1562/1562 [==============================] - 30s 19ms/step - loss: 0.2823 - accuracy: 0.9012 - val_loss: 0.4284 - val_accuracy: 0.8640\n",
      "Epoch 26/50\n",
      "1562/1562 [==============================] - 31s 20ms/step - loss: 0.2788 - accuracy: 0.9046 - val_loss: 0.4030 - val_accuracy: 0.8707\n",
      "Epoch 27/50\n",
      "1562/1562 [==============================] - 31s 20ms/step - loss: 0.2700 - accuracy: 0.9071 - val_loss: 0.4269 - val_accuracy: 0.8647\n",
      "Epoch 28/50\n",
      "1562/1562 [==============================] - 32s 20ms/step - loss: 0.2701 - accuracy: 0.9064 - val_loss: 0.4210 - val_accuracy: 0.8673\n",
      "Epoch 29/50\n",
      "1562/1562 [==============================] - 32s 21ms/step - loss: 0.2566 - accuracy: 0.9119 - val_loss: 0.4229 - val_accuracy: 0.8696\n",
      "Epoch 30/50\n",
      "1562/1562 [==============================] - 28s 18ms/step - loss: 0.2521 - accuracy: 0.9136 - val_loss: 0.3895 - val_accuracy: 0.8792\n",
      "Epoch 31/50\n",
      "1562/1562 [==============================] - 31s 20ms/step - loss: 0.2494 - accuracy: 0.9139 - val_loss: 0.3816 - val_accuracy: 0.8805\n",
      "Epoch 32/50\n",
      "1562/1562 [==============================] - 28s 18ms/step - loss: 0.2432 - accuracy: 0.9156 - val_loss: 0.4049 - val_accuracy: 0.8738\n",
      "Epoch 33/50\n",
      "1562/1562 [==============================] - 32s 20ms/step - loss: 0.2398 - accuracy: 0.9170 - val_loss: 0.3719 - val_accuracy: 0.8793\n",
      "Epoch 34/50\n",
      "1562/1562 [==============================] - 29s 18ms/step - loss: 0.2318 - accuracy: 0.9187 - val_loss: 0.4128 - val_accuracy: 0.8756\n",
      "Epoch 35/50\n",
      "1562/1562 [==============================] - 32s 20ms/step - loss: 0.2266 - accuracy: 0.9230 - val_loss: 0.3771 - val_accuracy: 0.8845\n",
      "Epoch 36/50\n",
      "1562/1562 [==============================] - 28s 18ms/step - loss: 0.2232 - accuracy: 0.9235 - val_loss: 0.4295 - val_accuracy: 0.8710\n",
      "Epoch 37/50\n",
      "1562/1562 [==============================] - 32s 21ms/step - loss: 0.2207 - accuracy: 0.9234 - val_loss: 0.4085 - val_accuracy: 0.8775\n",
      "Epoch 38/50\n",
      "1562/1562 [==============================] - 28s 18ms/step - loss: 0.2150 - accuracy: 0.9249 - val_loss: 0.3846 - val_accuracy: 0.8821\n",
      "Epoch 39/50\n",
      "1562/1562 [==============================] - 32s 21ms/step - loss: 0.2158 - accuracy: 0.9256 - val_loss: 0.4013 - val_accuracy: 0.8749\n",
      "Epoch 40/50\n",
      "1562/1562 [==============================] - 28s 18ms/step - loss: 0.2139 - accuracy: 0.9258 - val_loss: 0.4353 - val_accuracy: 0.8746\n",
      "Epoch 41/50\n",
      "1562/1562 [==============================] - 33s 21ms/step - loss: 0.2093 - accuracy: 0.9277 - val_loss: 0.4153 - val_accuracy: 0.8744\n",
      "Epoch 42/50\n",
      "1562/1562 [==============================] - 28s 18ms/step - loss: 0.2024 - accuracy: 0.9306 - val_loss: 0.4302 - val_accuracy: 0.8724\n",
      "Epoch 43/50\n",
      "1562/1562 [==============================] - 33s 21ms/step - loss: 0.2008 - accuracy: 0.9313 - val_loss: 0.4286 - val_accuracy: 0.8777\n",
      "Epoch 44/50\n",
      "1562/1562 [==============================] - 29s 19ms/step - loss: 0.1952 - accuracy: 0.9341 - val_loss: 0.3742 - val_accuracy: 0.8871\n",
      "Epoch 45/50\n",
      "1562/1562 [==============================] - 33s 21ms/step - loss: 0.1996 - accuracy: 0.9315 - val_loss: 0.3765 - val_accuracy: 0.8887\n",
      "Epoch 46/50\n",
      "1562/1562 [==============================] - 28s 18ms/step - loss: 0.1956 - accuracy: 0.9329 - val_loss: 0.4184 - val_accuracy: 0.8810\n",
      "Epoch 47/50\n",
      "1562/1562 [==============================] - 33s 21ms/step - loss: 0.1854 - accuracy: 0.9365 - val_loss: 0.3779 - val_accuracy: 0.8839\n",
      "Epoch 48/50\n",
      "1562/1562 [==============================] - 28s 18ms/step - loss: 0.1858 - accuracy: 0.9362 - val_loss: 0.4095 - val_accuracy: 0.8868\n",
      "Epoch 49/50\n",
      "1562/1562 [==============================] - 34s 22ms/step - loss: 0.1876 - accuracy: 0.9356 - val_loss: 0.4357 - val_accuracy: 0.8772\n",
      "Epoch 50/50\n",
      "1562/1562 [==============================] - 28s 18ms/step - loss: 0.1831 - accuracy: 0.9382 - val_loss: 0.4164 - val_accuracy: 0.8832\n"
     ]
    }
   ],
   "source": [
    "# Fit with data augmentation\n",
    "batch_size = 32\n",
    "data_generator = tf.keras.preprocessing.image.ImageDataGenerator(width_shift_range=0.1, height_shift_range=0.1, horizontal_flip=True)\n",
    "train_generator = data_generator.flow(x_train, y_train, batch_size)\n",
    "steps_per_epoch = x_train.shape[0] // batch_size\n",
    "r = model.fit(train_generator, validation_data=(x_test, y_test), steps_per_epoch=steps_per_epoch, epochs=50)"
   ]
  },
  {
   "cell_type": "code",
   "execution_count": 8,
   "id": "3b43c85b",
   "metadata": {
    "execution": {
     "iopub.execute_input": "2021-11-03T10:56:09.880391Z",
     "iopub.status.busy": "2021-11-03T10:56:09.879500Z",
     "iopub.status.idle": "2021-11-03T10:56:10.096001Z",
     "shell.execute_reply": "2021-11-03T10:56:10.095129Z",
     "shell.execute_reply.started": "2021-11-03T10:00:44.960457Z"
    },
    "papermill": {
     "duration": 7.081603,
     "end_time": "2021-11-03T10:56:10.096137",
     "exception": false,
     "start_time": "2021-11-03T10:56:03.014534",
     "status": "completed"
    },
    "tags": []
   },
   "outputs": [
    {
     "data": {
      "text/plain": [
       "<matplotlib.legend.Legend at 0x7fab15de2850>"
      ]
     },
     "execution_count": 8,
     "metadata": {},
     "output_type": "execute_result"
    },
    {
     "data": {
      "image/png": "[encoded data removed]",
      "text/plain": [
       "<Figure size 432x288 with 1 Axes>"
      ]
     },
     "metadata": {
      "needs_background": "light"
     },
     "output_type": "display_data"
    }
   ],
   "source": [
    "# Plot loss per iteration\n",
    "import matplotlib.pyplot as plt\n",
    "plt.plot(r.history['loss'], label='loss')\n",
    "plt.plot(r.history['val_loss'], label='val_loss')\n",
    "plt.legend()"
   ]
  },
  {
   "cell_type": "code",
   "execution_count": 9,
   "id": "5880d718",
   "metadata": {
    "execution": {
     "iopub.execute_input": "2021-11-03T10:56:23.813969Z",
     "iopub.status.busy": "2021-11-03T10:56:23.813180Z",
     "iopub.status.idle": "2021-11-03T10:56:24.040552Z",
     "shell.execute_reply": "2021-11-03T10:56:24.039967Z",
     "shell.execute_reply.started": "2021-11-03T10:00:45.200506Z"
    },
    "papermill": {
     "duration": 7.405415,
     "end_time": "2021-11-03T10:56:24.040692",
     "exception": false,
     "start_time": "2021-11-03T10:56:16.635277",
     "status": "completed"
    },
    "tags": []
   },
   "outputs": [
    {
     "data": {
      "text/plain": [
       "<matplotlib.legend.Legend at 0x7fab15c03cd0>"
      ]
     },
     "execution_count": 9,
     "metadata": {},
     "output_type": "execute_result"
    },
    {
     "data": {
      "image/png": "[encoded data removed]",
      "text/plain": [
       "<Figure size 432x288 with 1 Axes>"
      ]
     },
     "metadata": {
      "needs_background": "light"
     },
     "output_type": "display_data"
    }
   ],
   "source": [
    "# Plot accuracy per iteration\n",
    "plt.plot(r.history['accuracy'], label='acc')\n",
    "plt.plot(r.history['val_accuracy'], label='val_acc')\n",
    "plt.legend()"
   ]
  },
  {
   "cell_type": "code",
   "execution_count": 10,
   "id": "0f2ed003",
   "metadata": {
    "execution": {
     "iopub.execute_input": "2021-11-03T10:56:37.409129Z",
     "iopub.status.busy": "2021-11-03T10:56:37.408576Z",
     "iopub.status.idle": "2021-11-03T10:56:39.682439Z",
     "shell.execute_reply": "2021-11-03T10:56:39.681864Z",
     "shell.execute_reply.started": "2021-11-03T10:00:45.410804Z"
    },
    "papermill": {
     "duration": 8.814543,
     "end_time": "2021-11-03T10:56:39.682568",
     "exception": false,
     "start_time": "2021-11-03T10:56:30.868025",
     "status": "completed"
    },
    "tags": []
   },
   "outputs": [
    {
     "name": "stdout",
     "output_type": "stream",
     "text": [
      "Confusion matrix, without normalization\n",
      "[[917   7  13   8   3   0   2   7  28  15]\n",
      " [  4 944   0   1   0   0   0   0  11  40]\n",
      " [ 47   0 847  25  26  17  22   5   7   4]\n",
      " [ 22   4  37 753  50  68  34  12  15   5]\n",
      " [ 12   1  50  20 881  12   9   9   5   1]\n",
      " [  6   1  35  83  40 800   6  18   5   6]\n",
      " [  3   2  33  33  17   7 895   2   7   1]\n",
      " [ 10   1  16  12  30  22   3 900   3   3]\n",
      " [ 34   8   0   1   1   2   3   0 937  14]\n",
      " [  6  19   2   2   2   0   0   1  10 958]]\n"
     ]
    },
    {
     "data": {
      "image/png": "[encoded data removed]",
      "text/plain": [
       "<Figure size 432x288 with 2 Axes>"
      ]
     },
     "metadata": {
      "needs_background": "light"
     },
     "output_type": "display_data"
    }
   ],
   "source": [
    "# Plot confusion matrix\n",
    "from sklearn.metrics import confusion_matrix\n",
    "import itertools\n",
    "\n",
    "def plot_confusion_matrix(cm, classes,\n",
    "                          normalize=False,\n",
    "                          title='Confusion matrix',\n",
    "                          cmap=plt.cm.Blues):\n",
    "  \"\"\"\n",
    "  This function prints and plots the confusion matrix.\n",
    "  Normalization can be applied by setting `normalize=True`.\n",
    "  \"\"\"\n",
    "  if normalize:\n",
    "      cm = cm.astype('float') / cm.sum(axis=1)[:, np.newaxis]\n",
    "      print(\"Normalized confusion matrix\")\n",
    "  else:\n",
    "      print('Confusion matrix, without normalization')\n",
    "\n",
    "  print(cm)\n",
    "\n",
    "  plt.imshow(cm, interpolation='nearest', cmap=cmap)\n",
    "  plt.title(title)\n",
    "  plt.colorbar()\n",
    "  tick_marks = np.arange(len(classes))\n",
    "  plt.xticks(tick_marks, classes, rotation=45)\n",
    "  plt.yticks(tick_marks, classes)\n",
    "\n",
    "  fmt = '.2f' if normalize else 'd'\n",
    "  thresh = cm.max() / 2.\n",
    "  for i, j in itertools.product(range(cm.shape[0]), range(cm.shape[1])):\n",
    "      plt.text(j, i, format(cm[i, j], fmt),\n",
    "               horizontalalignment=\"center\",\n",
    "               color=\"white\" if cm[i, j] > thresh else \"black\")\n",
    "\n",
    "  plt.tight_layout()\n",
    "  plt.ylabel('True label')\n",
    "  plt.xlabel('Predicted label')\n",
    "  plt.show()\n",
    "\n",
    "\n",
    "p_test = model.predict(x_test).argmax(axis=1)\n",
    "cm = confusion_matrix(y_test, p_test)\n",
    "plot_confusion_matrix(cm, list(range(10)))\n",
    "\n"
   ]
  },
  {
   "cell_type": "code",
   "execution_count": 11,
   "id": "65e41db1",
   "metadata": {
    "execution": {
     "iopub.execute_input": "2021-11-03T10:56:53.783659Z",
     "iopub.status.busy": "2021-11-03T10:56:53.780773Z",
     "iopub.status.idle": "2021-11-03T10:56:53.787253Z",
     "shell.execute_reply": "2021-11-03T10:56:53.788007Z",
     "shell.execute_reply.started": "2021-11-03T10:00:47.711363Z"
    },
    "papermill": {
     "duration": 7.234624,
     "end_time": "2021-11-03T10:56:53.788219",
     "exception": false,
     "start_time": "2021-11-03T10:56:46.553595",
     "status": "completed"
    },
    "tags": []
   },
   "outputs": [],
   "source": [
    "# label mapping\n",
    "labels = '''airplane\n",
    "automobile\n",
    "bird\n",
    "cat\n",
    "deer\n",
    "dog\n",
    "frog\n",
    "horse\n",
    "ship\n",
    "truck'''.split()"
   ]
  },
  {
   "cell_type": "code",
   "execution_count": 12,
   "id": "1d1241da",
   "metadata": {
    "execution": {
     "iopub.execute_input": "2021-11-03T10:57:07.232139Z",
     "iopub.status.busy": "2021-11-03T10:57:07.231253Z",
     "iopub.status.idle": "2021-11-03T10:57:07.413143Z",
     "shell.execute_reply": "2021-11-03T10:57:07.412719Z",
     "shell.execute_reply.started": "2021-11-03T10:00:47.718017Z"
    },
    "papermill": {
     "duration": 7.061931,
     "end_time": "2021-11-03T10:57:07.413262",
     "exception": false,
     "start_time": "2021-11-03T10:57:00.351331",
     "status": "completed"
    },
    "tags": []
   },
   "outputs": [
    {
     "data": {
      "image/png": "[encoded data removed]",
      "text/plain": [
       "<Figure size 432x288 with 1 Axes>"
      ]
     },
     "metadata": {
      "needs_background": "light"
     },
     "output_type": "display_data"
    }
   ],
   "source": [
    "# Show some misclassified examples\n",
    "misclassified_idx = np.where(p_test != y_test)[0]\n",
    "i = np.random.choice(misclassified_idx)\n",
    "plt.imshow(x_test[i], cmap='gray')\n",
    "plt.title(\"True label: %s Predicted: %s\" % (labels[y_test[i]], labels[p_test[i]]));"
   ]
  }
 ],
 "metadata": {
  "kernelspec": {
   "display_name": "Python 3",
   "language": "python",
   "name": "python3"
  },
  "language_info": {
   "codemirror_mode": {
    "name": "ipython",
    "version": 3
   },
   "file_extension": ".py",
   "mimetype": "text/x-python",
   "name": "python",
   "nbconvert_exporter": "python",
   "pygments_lexer": "ipython3",
   "version": "3.7.10"
  },
  "papermill": {
   "default_parameters": {},
   "duration": 1873.715408,
   "end_time": "2021-11-03T10:57:17.207396",
   "environment_variables": {},
   "exception": null,
   "input_path": "__notebook__.ipynb",
   "output_path": "__notebook__.ipynb",
   "parameters": {},
   "start_time": "2021-11-03T10:26:03.491988",
   "version": "2.3.3"
  }
 },
 "nbformat": 4,
 "nbformat_minor": 5
}
