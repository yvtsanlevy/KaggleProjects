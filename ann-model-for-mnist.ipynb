{
 "cells": [
  {
   "cell_type": "code",
   "execution_count": 1,
   "id": "f63df5bf",
   "metadata": {
    "_cell_guid": "b1076dfc-b9ad-4769-8c92-a6c4dae69d19",
    "_uuid": "8f2839f25d086af736a60e9eeb907d3b93b6e0e5",
    "execution": {
     "iopub.execute_input": "2021-11-02T10:36:52.764450Z",
     "iopub.status.busy": "2021-11-02T10:36:52.757580Z",
     "iopub.status.idle": "2021-11-02T10:36:59.630140Z",
     "shell.execute_reply": "2021-11-02T10:36:59.630650Z",
     "shell.execute_reply.started": "2021-11-02T10:34:09.007686Z"
    },
    "papermill": {
     "duration": 6.890089,
     "end_time": "2021-11-02T10:36:59.631039",
     "exception": false,
     "start_time": "2021-11-02T10:36:52.740950",
     "status": "completed"
    },
    "tags": []
   },
   "outputs": [
    {
     "name": "stdout",
     "output_type": "stream",
     "text": [
      "2.6.0\n"
     ]
    }
   ],
   "source": [
    "# This Python 3 environment comes with many helpful analytics libraries installed\n",
    "# It is defined by the kaggle/python Docker image: https://github.com/kaggle/docker-python\n",
    "# For example, here's several helpful packages to load\n",
    "\n",
    "import numpy as np # linear algebra\n",
    "import pandas as pd # data processing, CSV file I/O (e.g. pd.read_csv)\n",
    "import matplotlib.pyplot as plt\n",
    "from tensorflow.keras.datasets import mnist\n",
    "\n",
    "import tensorflow as tf\n",
    "print(tf.__version__)"
   ]
  },
  {
   "cell_type": "code",
   "execution_count": 2,
   "id": "b874eb31",
   "metadata": {
    "execution": {
     "iopub.execute_input": "2021-11-02T10:36:59.658113Z",
     "iopub.status.busy": "2021-11-02T10:36:59.657408Z",
     "iopub.status.idle": "2021-11-02T10:37:00.680444Z",
     "shell.execute_reply": "2021-11-02T10:37:00.681001Z",
     "shell.execute_reply.started": "2021-11-02T10:34:09.015455Z"
    },
    "papermill": {
     "duration": 1.039307,
     "end_time": "2021-11-02T10:37:00.681186",
     "exception": false,
     "start_time": "2021-11-02T10:36:59.641879",
     "status": "completed"
    },
    "tags": []
   },
   "outputs": [
    {
     "name": "stdout",
     "output_type": "stream",
     "text": [
      "Downloading data from https://storage.googleapis.com/tensorflow/tf-keras-datasets/mnist.npz\n",
      "11493376/11490434 [==============================] - 0s 0us/step\n",
      "11501568/11490434 [==============================] - 0s 0us/step\n",
      "x_train.shape: (60000, 28, 28)\n"
     ]
    }
   ],
   "source": [
    "# Load in the data\n",
    "\n",
    "(x_train, y_train), (x_test, y_test) = mnist.load_data()\n",
    "x_train, x_test = x_train / 255.0, x_test / 255.0\n",
    "print(\"x_train.shape:\", x_train.shape)"
   ]
  },
  {
   "cell_type": "code",
   "execution_count": 3,
   "id": "fa897689",
   "metadata": {
    "execution": {
     "iopub.execute_input": "2021-11-02T10:37:00.714388Z",
     "iopub.status.busy": "2021-11-02T10:37:00.710390Z",
     "iopub.status.idle": "2021-11-02T10:37:00.842647Z",
     "shell.execute_reply": "2021-11-02T10:37:00.841683Z",
     "shell.execute_reply.started": "2021-11-02T10:34:10.373892Z"
    },
    "papermill": {
     "duration": 0.149779,
     "end_time": "2021-11-02T10:37:00.842870",
     "exception": false,
     "start_time": "2021-11-02T10:37:00.693091",
     "status": "completed"
    },
    "tags": []
   },
   "outputs": [
    {
     "name": "stderr",
     "output_type": "stream",
     "text": [
      "\n",
      "User settings:\n",
      "\n",
      "   KMP_AFFINITY=granularity=fine,verbose,compact,1,0\n",
      "   KMP_BLOCKTIME=0\n",
      "   KMP_SETTINGS=1\n",
      "   KMP_WARNINGS=0\n",
      "\n",
      "Effective settings:\n",
      "\n",
      "   KMP_ABORT_DELAY=0\n",
      "   KMP_ADAPTIVE_LOCK_PROPS='1,1024'\n",
      "   KMP_ALIGN_ALLOC=64\n",
      "   KMP_ALL_THREADPRIVATE=128\n",
      "   KMP_ATOMIC_MODE=2\n",
      "   KMP_BLOCKTIME=0\n",
      "   KMP_CPUINFO_FILE: value is not defined\n",
      "   KMP_DETERMINISTIC_REDUCTION=false\n",
      "   KMP_DEVICE_THREAD_LIMIT=2147483647\n",
      "   KMP_DISP_NUM_BUFFERS=7\n",
      "   KMP_DUPLICATE_LIB_OK=false\n",
      "   KMP_ENABLE_TASK_THROTTLING=true\n",
      "   KMP_FORCE_REDUCTION: value is not defined\n",
      "   KMP_FOREIGN_THREADS_THREADPRIVATE=true\n",
      "   KMP_FORKJOIN_BARRIER='2,2'\n",
      "   KMP_FORKJOIN_BARRIER_PATTERN='hyper,hyper'\n",
      "   KMP_GTID_MODE=3\n",
      "   KMP_HANDLE_SIGNALS=false\n",
      "   KMP_HOT_TEAMS_MAX_LEVEL=1\n",
      "   KMP_HOT_TEAMS_MODE=0\n",
      "   KMP_INIT_AT_FORK=true\n",
      "   KMP_LIBRARY=throughput\n",
      "   KMP_LOCK_KIND=queuing\n",
      "   KMP_MALLOC_POOL_INCR=1M\n",
      "   KMP_NUM_LOCKS_IN_BLOCK=1\n",
      "   KMP_PLAIN_BARRIER='2,2'\n",
      "   KMP_PLAIN_BARRIER_PATTERN='hyper,hyper'\n",
      "   KMP_REDUCTION_BARRIER='1,1'\n",
      "   KMP_REDUCTION_BARRIER_PATTERN='hyper,hyper'\n",
      "   KMP_SCHEDULE='static,balanced;guided,iterative'\n",
      "   KMP_SETTINGS=true\n",
      "   KMP_SPIN_BACKOFF_PARAMS='4096,100'\n",
      "   KMP_STACKOFFSET=64\n",
      "   KMP_STACKPAD=0\n",
      "   KMP_STACKSIZE=8M\n",
      "   KMP_STORAGE_MAP=false\n",
      "   KMP_TASKING=2\n",
      "   KMP_TASKLOOP_MIN_TASKS=0\n",
      "   KMP_TASK_STEALING_CONSTRAINT=1\n",
      "   KMP_TEAMS_THREAD_LIMIT=4\n",
      "   KMP_TOPOLOGY_METHOD=all\n",
      "   KMP_USE_YIELD=1\n",
      "   KMP_VERSION=false\n",
      "   KMP_WARNINGS=false\n",
      "   OMP_AFFINITY_FORMAT='OMP: pid %P tid %i thread %n bound to OS proc set {%A}'\n",
      "   OMP_ALLOCATOR=omp_default_mem_alloc\n",
      "   OMP_CANCELLATION=false\n",
      "   OMP_DEFAULT_DEVICE=0\n",
      "   OMP_DISPLAY_AFFINITY=false\n",
      "   OMP_DISPLAY_ENV=false\n",
      "   OMP_DYNAMIC=false\n",
      "   OMP_MAX_ACTIVE_LEVELS=1\n",
      "   OMP_MAX_TASK_PRIORITY=0\n",
      "   OMP_NESTED: deprecated; max-active-levels-var=1\n",
      "   OMP_NUM_THREADS: value is not defined\n",
      "   OMP_PLACES: value is not defined\n",
      "   OMP_PROC_BIND='intel'\n",
      "   OMP_SCHEDULE='static'\n",
      "   OMP_STACKSIZE=8M\n",
      "   OMP_TARGET_OFFLOAD=DEFAULT\n",
      "   OMP_THREAD_LIMIT=2147483647\n",
      "   OMP_WAIT_POLICY=PASSIVE\n",
      "   KMP_AFFINITY='verbose,warnings,respect,granularity=fine,compact,1,0'\n",
      "\n",
      "2021-11-02 10:37:00.757057: I tensorflow/core/common_runtime/process_util.cc:146] Creating new thread pool with default inter op setting: 2. Tune using inter_op_parallelism_threads for best performance.\n"
     ]
    }
   ],
   "source": [
    "# Build the model\n",
    "model = tf.keras.models.Sequential([\n",
    "  tf.keras.layers.Flatten(input_shape=(28, 28)), # flatt the images to 2D array\n",
    "  tf.keras.layers.Dense(128, activation='relu'),\n",
    "  tf.keras.layers.Dropout(0.2),\n",
    "  tf.keras.layers.Dense(10, activation='softmax') # the output layer whith 10 neuron 1 for each number\n",
    "])"
   ]
  },
  {
   "cell_type": "code",
   "execution_count": 4,
   "id": "d4bf52df",
   "metadata": {
    "execution": {
     "iopub.execute_input": "2021-11-02T10:37:00.875190Z",
     "iopub.status.busy": "2021-11-02T10:37:00.874490Z",
     "iopub.status.idle": "2021-11-02T10:37:00.885817Z",
     "shell.execute_reply": "2021-11-02T10:37:00.885195Z",
     "shell.execute_reply.started": "2021-11-02T10:34:10.410012Z"
    },
    "papermill": {
     "duration": 0.029878,
     "end_time": "2021-11-02T10:37:00.885977",
     "exception": false,
     "start_time": "2021-11-02T10:37:00.856099",
     "status": "completed"
    },
    "tags": []
   },
   "outputs": [],
   "source": [
    "# Compile the model\n",
    "model.compile(optimizer='adam',\n",
    "              loss='sparse_categorical_crossentropy',\n",
    "              metrics=['accuracy'])"
   ]
  },
  {
   "cell_type": "code",
   "execution_count": 5,
   "id": "3ecbab2a",
   "metadata": {
    "execution": {
     "iopub.execute_input": "2021-11-02T10:37:00.915525Z",
     "iopub.status.busy": "2021-11-02T10:37:00.914480Z",
     "iopub.status.idle": "2021-11-02T10:38:02.785302Z",
     "shell.execute_reply": "2021-11-02T10:38:02.784472Z",
     "shell.execute_reply.started": "2021-11-02T10:34:10.421795Z"
    },
    "papermill": {
     "duration": 61.887294,
     "end_time": "2021-11-02T10:38:02.785476",
     "exception": false,
     "start_time": "2021-11-02T10:37:00.898182",
     "status": "completed"
    },
    "tags": []
   },
   "outputs": [
    {
     "name": "stderr",
     "output_type": "stream",
     "text": [
      "2021-11-02 10:37:01.285178: I tensorflow/compiler/mlir/mlir_graph_optimization_pass.cc:185] None of the MLIR Optimization Passes are enabled (registered 2)\n"
     ]
    },
    {
     "name": "stdout",
     "output_type": "stream",
     "text": [
      "Epoch 1/10\n",
      "1875/1875 [==============================] - 7s 4ms/step - loss: 0.2995 - accuracy: 0.9126 - val_loss: 0.1418 - val_accuracy: 0.9584\n",
      "Epoch 2/10\n",
      "1875/1875 [==============================] - 6s 3ms/step - loss: 0.1454 - accuracy: 0.9564 - val_loss: 0.1047 - val_accuracy: 0.9679\n",
      "Epoch 3/10\n",
      "1875/1875 [==============================] - 6s 3ms/step - loss: 0.1080 - accuracy: 0.9676 - val_loss: 0.0915 - val_accuracy: 0.9722\n",
      "Epoch 4/10\n",
      "1875/1875 [==============================] - 6s 3ms/step - loss: 0.0882 - accuracy: 0.9730 - val_loss: 0.0788 - val_accuracy: 0.9751\n",
      "Epoch 5/10\n",
      "1875/1875 [==============================] - 6s 3ms/step - loss: 0.0769 - accuracy: 0.9762 - val_loss: 0.0746 - val_accuracy: 0.9781\n",
      "Epoch 6/10\n",
      "1875/1875 [==============================] - 6s 3ms/step - loss: 0.0661 - accuracy: 0.9790 - val_loss: 0.0768 - val_accuracy: 0.9771\n",
      "Epoch 7/10\n",
      "1875/1875 [==============================] - 6s 3ms/step - loss: 0.0595 - accuracy: 0.9805 - val_loss: 0.0739 - val_accuracy: 0.9786\n",
      "Epoch 8/10\n",
      "1875/1875 [==============================] - 6s 3ms/step - loss: 0.0524 - accuracy: 0.9830 - val_loss: 0.0828 - val_accuracy: 0.9763\n",
      "Epoch 9/10\n",
      "1875/1875 [==============================] - 6s 3ms/step - loss: 0.0482 - accuracy: 0.9835 - val_loss: 0.0737 - val_accuracy: 0.9777\n",
      "Epoch 10/10\n",
      "1875/1875 [==============================] - 6s 3ms/step - loss: 0.0434 - accuracy: 0.9854 - val_loss: 0.0767 - val_accuracy: 0.9803\n"
     ]
    }
   ],
   "source": [
    "# Train the model\n",
    "r = model.fit(x_train, y_train, validation_data=(x_test, y_test), epochs=10)"
   ]
  },
  {
   "cell_type": "code",
   "execution_count": 6,
   "id": "29ec6e05",
   "metadata": {
    "execution": {
     "iopub.execute_input": "2021-11-02T10:38:03.506276Z",
     "iopub.status.busy": "2021-11-02T10:38:03.505121Z",
     "iopub.status.idle": "2021-11-02T10:38:03.774636Z",
     "shell.execute_reply": "2021-11-02T10:38:03.775236Z",
     "shell.execute_reply.started": "2021-11-02T10:34:54.642646Z"
    },
    "papermill": {
     "duration": 0.639502,
     "end_time": "2021-11-02T10:38:03.775419",
     "exception": false,
     "start_time": "2021-11-02T10:38:03.135917",
     "status": "completed"
    },
    "tags": []
   },
   "outputs": [
    {
     "data": {
      "text/plain": [
       "<matplotlib.legend.Legend at 0x7f2eb38bfd90>"
      ]
     },
     "execution_count": 6,
     "metadata": {},
     "output_type": "execute_result"
    },
    {
     "data": {
      "image/png": "[encoded data removed]",
      "text/plain": [
       "<Figure size 432x288 with 1 Axes>"
      ]
     },
     "metadata": {
      "needs_background": "light"
     },
     "output_type": "display_data"
    }
   ],
   "source": [
    "# Plot loss per iteration\n",
    "import matplotlib.pyplot as plt\n",
    "plt.plot(r.history['loss'], label='loss')\n",
    "plt.plot(r.history['val_loss'], label='val_loss')\n",
    "plt.legend()"
   ]
  },
  {
   "cell_type": "code",
   "execution_count": 7,
   "id": "f7b97fe9",
   "metadata": {
    "execution": {
     "iopub.execute_input": "2021-11-02T10:38:04.474667Z",
     "iopub.status.busy": "2021-11-02T10:38:04.473931Z",
     "iopub.status.idle": "2021-11-02T10:38:04.723659Z",
     "shell.execute_reply": "2021-11-02T10:38:04.724390Z",
     "shell.execute_reply.started": "2021-11-02T10:34:54.897435Z"
    },
    "papermill": {
     "duration": 0.596335,
     "end_time": "2021-11-02T10:38:04.724581",
     "exception": false,
     "start_time": "2021-11-02T10:38:04.128246",
     "status": "completed"
    },
    "tags": []
   },
   "outputs": [
    {
     "data": {
      "text/plain": [
       "<matplotlib.legend.Legend at 0x7f2e94204d10>"
      ]
     },
     "execution_count": 7,
     "metadata": {},
     "output_type": "execute_result"
    },
    {
     "data": {
      "image/png": "[encoded data removed]",
      "text/plain": [
       "<Figure size 432x288 with 1 Axes>"
      ]
     },
     "metadata": {
      "needs_background": "light"
     },
     "output_type": "display_data"
    }
   ],
   "source": [
    "# Plot accuracy per iteration\n",
    "plt.plot(r.history['accuracy'], label='acc')\n",
    "plt.plot(r.history['val_accuracy'], label='val_acc')\n",
    "plt.legend()"
   ]
  },
  {
   "cell_type": "code",
   "execution_count": 8,
   "id": "51b3ca8f",
   "metadata": {
    "execution": {
     "iopub.execute_input": "2021-11-02T10:38:05.433248Z",
     "iopub.status.busy": "2021-11-02T10:38:05.432532Z",
     "iopub.status.idle": "2021-11-02T10:38:06.122691Z",
     "shell.execute_reply": "2021-11-02T10:38:06.121950Z",
     "shell.execute_reply.started": "2021-11-02T10:34:55.127664Z"
    },
    "papermill": {
     "duration": 1.047266,
     "end_time": "2021-11-02T10:38:06.122856",
     "exception": false,
     "start_time": "2021-11-02T10:38:05.075590",
     "status": "completed"
    },
    "tags": []
   },
   "outputs": [
    {
     "name": "stdout",
     "output_type": "stream",
     "text": [
      "313/313 [==============================] - 1s 2ms/step - loss: 0.0767 - accuracy: 0.9803\n",
      "[0.0767316073179245, 0.9803000092506409]\n"
     ]
    }
   ],
   "source": [
    "# Evaluate the model\n",
    "print(model.evaluate(x_test, y_test))"
   ]
  },
  {
   "cell_type": "code",
   "execution_count": 9,
   "id": "6ea31239",
   "metadata": {
    "execution": {
     "iopub.execute_input": "2021-11-02T10:38:06.846928Z",
     "iopub.status.busy": "2021-11-02T10:38:06.846238Z",
     "iopub.status.idle": "2021-11-02T10:38:08.861865Z",
     "shell.execute_reply": "2021-11-02T10:38:08.861231Z",
     "shell.execute_reply.started": "2021-11-02T10:34:55.670470Z"
    },
    "papermill": {
     "duration": 2.382498,
     "end_time": "2021-11-02T10:38:08.862014",
     "exception": false,
     "start_time": "2021-11-02T10:38:06.479516",
     "status": "completed"
    },
    "tags": []
   },
   "outputs": [
    {
     "name": "stdout",
     "output_type": "stream",
     "text": [
      "Confusion matrix, without normalization\n",
      "[[ 969    1    2    1    0    2    2    1    2    0]\n",
      " [   0 1128    2    1    0    1    2    0    1    0]\n",
      " [   1    1 1015    6    1    0    3    3    2    0]\n",
      " [   0    0    6  992    0    4    0    4    2    2]\n",
      " [   1    3    4    1  965    0    4    1    0    3]\n",
      " [   1    0    0    9    1  867   11    1    1    1]\n",
      " [   3    2    2    1    3    2  944    0    1    0]\n",
      " [   1    7   12    3    0    0    0  999    0    6]\n",
      " [   1    0    3   10    3    6    2    3  941    5]\n",
      " [   1    3    0    6   12    3    0    1    0  983]]\n"
     ]
    },
    {
     "data": {
      "image/png": "[encoded data removed]",
      "text/plain": [
       "<Figure size 432x288 with 2 Axes>"
      ]
     },
     "metadata": {
      "needs_background": "light"
     },
     "output_type": "display_data"
    }
   ],
   "source": [
    "# Plot confusion matrix\n",
    "from sklearn.metrics import confusion_matrix\n",
    "import numpy as np\n",
    "import itertools\n",
    "\n",
    "def plot_confusion_matrix(cm, classes,\n",
    "                          normalize=False,\n",
    "                          title='Confusion matrix',\n",
    "                          cmap=plt.cm.Blues):\n",
    "  \"\"\"\n",
    "  This function prints and plots the confusion matrix.\n",
    "  Normalization can be applied by setting `normalize=True`.\n",
    "  \"\"\"\n",
    "  if normalize:\n",
    "      cm = cm.astype('float') / cm.sum(axis=1)[:, np.newaxis]\n",
    "      print(\"Normalized confusion matrix\")\n",
    "  else:\n",
    "      print('Confusion matrix, without normalization')\n",
    "\n",
    "  print(cm)\n",
    "\n",
    "  plt.imshow(cm, interpolation='nearest', cmap=cmap)\n",
    "  plt.title(title)\n",
    "  plt.colorbar()\n",
    "  tick_marks = np.arange(len(classes))\n",
    "  plt.xticks(tick_marks, classes, rotation=45)\n",
    "  plt.yticks(tick_marks, classes)\n",
    "\n",
    "  fmt = '.2f' if normalize else 'd'\n",
    "  thresh = cm.max() / 2.\n",
    "  for i, j in itertools.product(range(cm.shape[0]), range(cm.shape[1])):\n",
    "      plt.text(j, i, format(cm[i, j], fmt),\n",
    "               horizontalalignment=\"center\",\n",
    "               color=\"white\" if cm[i, j] > thresh else \"black\")\n",
    "\n",
    "  plt.tight_layout()\n",
    "  plt.ylabel('True label')\n",
    "  plt.xlabel('Predicted label')\n",
    "  plt.show()\n",
    "\n",
    "\n",
    "p_test = model.predict(x_test).argmax(axis=1)\n",
    "cm = confusion_matrix(y_test, p_test)\n",
    "plot_confusion_matrix(cm, list(range(10)))\n",
    "\n",
    "# Do these results make sense?\n",
    "# It's easy to confuse 9 <--> 4, 9 <--> 7, 2 <--> 7, etc. "
   ]
  },
  {
   "cell_type": "code",
   "execution_count": 10,
   "id": "20e774a5",
   "metadata": {
    "execution": {
     "iopub.execute_input": "2021-11-02T10:38:09.622072Z",
     "iopub.status.busy": "2021-11-02T10:38:09.609762Z",
     "iopub.status.idle": "2021-11-02T10:38:09.814426Z",
     "shell.execute_reply": "2021-11-02T10:38:09.813811Z",
     "shell.execute_reply.started": "2021-11-02T10:36:24.383553Z"
    },
    "papermill": {
     "duration": 0.589231,
     "end_time": "2021-11-02T10:38:09.814575",
     "exception": false,
     "start_time": "2021-11-02T10:38:09.225344",
     "status": "completed"
    },
    "tags": []
   },
   "outputs": [
    {
     "data": {
      "image/png": "[encoded data removed]",
      "text/plain": [
       "<Figure size 432x288 with 1 Axes>"
      ]
     },
     "metadata": {
      "needs_background": "light"
     },
     "output_type": "display_data"
    }
   ],
   "source": [
    "# Show some misclassified examples\n",
    "misclassified_idx = np.where(p_test != y_test)[0]\n",
    "i = np.random.choice(misclassified_idx)\n",
    "plt.imshow(x_test[i], cmap='gray')\n",
    "plt.title(\"True label: %s Predicted: %s\" % (y_test[i], p_test[i]));"
   ]
  }
 ],
 "metadata": {
  "kernelspec": {
   "display_name": "Python 3",
   "language": "python",
   "name": "python3"
  },
  "language_info": {
   "codemirror_mode": {
    "name": "ipython",
    "version": 3
   },
   "file_extension": ".py",
   "mimetype": "text/x-python",
   "name": "python",
   "nbconvert_exporter": "python",
   "pygments_lexer": "ipython3",
   "version": "3.7.10"
  },
  "papermill": {
   "default_parameters": {},
   "duration": 90.727818,
   "end_time": "2021-11-02T10:38:13.510376",
   "environment_variables": {},
   "exception": null,
   "input_path": "__notebook__.ipynb",
   "output_path": "__notebook__.ipynb",
   "parameters": {},
   "start_time": "2021-11-02T10:36:42.782558",
   "version": "2.3.3"
  }
 },
 "nbformat": 4,
 "nbformat_minor": 5
}
