{
 "cells": [
  {
   "cell_type": "code",
   "execution_count": 1,
   "id": "d23a05ee",
   "metadata": {
    "_cell_guid": "b1076dfc-b9ad-4769-8c92-a6c4dae69d19",
    "_uuid": "8f2839f25d086af736a60e9eeb907d3b93b6e0e5",
    "execution": {
     "iopub.execute_input": "2021-10-31T09:45:05.025884Z",
     "iopub.status.busy": "2021-10-31T09:45:05.024615Z",
     "iopub.status.idle": "2021-10-31T09:45:06.238871Z",
     "shell.execute_reply": "2021-10-31T09:45:06.238101Z",
     "shell.execute_reply.started": "2021-10-31T09:30:33.011026Z"
    },
    "papermill": {
     "duration": 1.245807,
     "end_time": "2021-10-31T09:45:06.239053",
     "exception": false,
     "start_time": "2021-10-31T09:45:04.993246",
     "status": "completed"
    },
    "tags": []
   },
   "outputs": [],
   "source": [
    "# This Python 3 environment comes with many helpful analytics libraries installed\n",
    "# It is defined by the kaggle/python Docker image: https://github.com/kaggle/docker-python\n",
    "# For example, here's several helpful packages to load\n",
    "\n",
    "import numpy as np # linear algebra\n",
    "import matplotlib.pyplot as plt\n",
    "from sklearn.model_selection import train_test_split\n",
    "from sklearn.preprocessing import StandardScaler\n",
    "\n"
   ]
  },
  {
   "cell_type": "code",
   "execution_count": 2,
   "id": "1ce53566",
   "metadata": {
    "execution": {
     "iopub.execute_input": "2021-10-31T09:45:06.271473Z",
     "iopub.status.busy": "2021-10-31T09:45:06.270487Z",
     "iopub.status.idle": "2021-10-31T09:45:11.143769Z",
     "shell.execute_reply": "2021-10-31T09:45:11.144323Z",
     "shell.execute_reply.started": "2021-10-31T09:23:53.650077Z"
    },
    "papermill": {
     "duration": 4.890976,
     "end_time": "2021-10-31T09:45:11.144505",
     "exception": false,
     "start_time": "2021-10-31T09:45:06.253529",
     "status": "completed"
    },
    "tags": []
   },
   "outputs": [
    {
     "name": "stdout",
     "output_type": "stream",
     "text": [
      "2.6.0\n"
     ]
    }
   ],
   "source": [
    "import tensorflow as tf\n",
    "print(tf.__version__)"
   ]
  },
  {
   "cell_type": "code",
   "execution_count": 3,
   "id": "935c2486",
   "metadata": {
    "execution": {
     "iopub.execute_input": "2021-10-31T09:45:11.178707Z",
     "iopub.status.busy": "2021-10-31T09:45:11.177967Z",
     "iopub.status.idle": "2021-10-31T09:45:11.276471Z",
     "shell.execute_reply": "2021-10-31T09:45:11.277045Z",
     "shell.execute_reply.started": "2021-10-31T09:25:15.559232Z"
    },
    "papermill": {
     "duration": 0.117862,
     "end_time": "2021-10-31T09:45:11.277239",
     "exception": false,
     "start_time": "2021-10-31T09:45:11.159377",
     "status": "completed"
    },
    "tags": []
   },
   "outputs": [],
   "source": [
    "# Load in the data\n",
    "from sklearn.datasets import load_breast_cancer\n",
    "data = load_breast_cancer()"
   ]
  },
  {
   "cell_type": "code",
   "execution_count": 4,
   "id": "ad50107a",
   "metadata": {
    "execution": {
     "iopub.execute_input": "2021-10-31T09:45:11.309510Z",
     "iopub.status.busy": "2021-10-31T09:45:11.308863Z",
     "iopub.status.idle": "2021-10-31T09:45:11.316611Z",
     "shell.execute_reply": "2021-10-31T09:45:11.315940Z",
     "shell.execute_reply.started": "2021-10-31T09:26:02.120302Z"
    },
    "papermill": {
     "duration": 0.025085,
     "end_time": "2021-10-31T09:45:11.316759",
     "exception": false,
     "start_time": "2021-10-31T09:45:11.291674",
     "status": "completed"
    },
    "tags": []
   },
   "outputs": [
    {
     "data": {
      "text/plain": [
       "dict_keys(['data', 'target', 'frame', 'target_names', 'DESCR', 'feature_names', 'filename'])"
      ]
     },
     "execution_count": 4,
     "metadata": {},
     "output_type": "execute_result"
    }
   ],
   "source": [
    "data.keys()"
   ]
  },
  {
   "cell_type": "code",
   "execution_count": 5,
   "id": "e64101dd",
   "metadata": {
    "execution": {
     "iopub.execute_input": "2021-10-31T09:45:11.352540Z",
     "iopub.status.busy": "2021-10-31T09:45:11.351719Z",
     "iopub.status.idle": "2021-10-31T09:45:11.355516Z",
     "shell.execute_reply": "2021-10-31T09:45:11.354880Z",
     "shell.execute_reply.started": "2021-10-31T09:26:21.198286Z"
    },
    "papermill": {
     "duration": 0.024299,
     "end_time": "2021-10-31T09:45:11.355701",
     "exception": false,
     "start_time": "2021-10-31T09:45:11.331402",
     "status": "completed"
    },
    "tags": []
   },
   "outputs": [
    {
     "data": {
      "text/plain": [
       "(569, 30)"
      ]
     },
     "execution_count": 5,
     "metadata": {},
     "output_type": "execute_result"
    }
   ],
   "source": [
    "# 'data' (the attribute) means the input data\n",
    "data.data.shape"
   ]
  },
  {
   "cell_type": "code",
   "execution_count": 6,
   "id": "c56fa266",
   "metadata": {
    "execution": {
     "iopub.execute_input": "2021-10-31T09:45:11.392151Z",
     "iopub.status.busy": "2021-10-31T09:45:11.391216Z",
     "iopub.status.idle": "2021-10-31T09:45:11.394499Z",
     "shell.execute_reply": "2021-10-31T09:45:11.395039Z",
     "shell.execute_reply.started": "2021-10-31T09:27:00.569791Z"
    },
    "papermill": {
     "duration": 0.023681,
     "end_time": "2021-10-31T09:45:11.395222",
     "exception": false,
     "start_time": "2021-10-31T09:45:11.371541",
     "status": "completed"
    },
    "tags": []
   },
   "outputs": [
    {
     "data": {
      "text/plain": [
       "array(['malignant', 'benign'], dtype='<U9')"
      ]
     },
     "execution_count": 6,
     "metadata": {},
     "output_type": "execute_result"
    }
   ],
   "source": [
    "# the meaning of the 0/1 target\n",
    "data.target_names"
   ]
  },
  {
   "cell_type": "code",
   "execution_count": 7,
   "id": "392aad51",
   "metadata": {
    "execution": {
     "iopub.execute_input": "2021-10-31T09:45:11.431706Z",
     "iopub.status.busy": "2021-10-31T09:45:11.430680Z",
     "iopub.status.idle": "2021-10-31T09:45:11.435076Z",
     "shell.execute_reply": "2021-10-31T09:45:11.434497Z",
     "shell.execute_reply.started": "2021-10-31T09:28:20.446085Z"
    },
    "papermill": {
     "duration": 0.024788,
     "end_time": "2021-10-31T09:45:11.435225",
     "exception": false,
     "start_time": "2021-10-31T09:45:11.410437",
     "status": "completed"
    },
    "tags": []
   },
   "outputs": [
    {
     "data": {
      "text/plain": [
       "array(['mean radius', 'mean texture', 'mean perimeter', 'mean area',\n",
       "       'mean smoothness', 'mean compactness', 'mean concavity',\n",
       "       'mean concave points', 'mean symmetry', 'mean fractal dimension',\n",
       "       'radius error', 'texture error', 'perimeter error', 'area error',\n",
       "       'smoothness error', 'compactness error', 'concavity error',\n",
       "       'concave points error', 'symmetry error',\n",
       "       'fractal dimension error', 'worst radius', 'worst texture',\n",
       "       'worst perimeter', 'worst area', 'worst smoothness',\n",
       "       'worst compactness', 'worst concavity', 'worst concave points',\n",
       "       'worst symmetry', 'worst fractal dimension'], dtype='<U23')"
      ]
     },
     "execution_count": 7,
     "metadata": {},
     "output_type": "execute_result"
    }
   ],
   "source": [
    "#  the meaning of each feature\n",
    "data.feature_names"
   ]
  },
  {
   "cell_type": "code",
   "execution_count": 8,
   "id": "3d2f0066",
   "metadata": {
    "execution": {
     "iopub.execute_input": "2021-10-31T09:45:11.477153Z",
     "iopub.status.busy": "2021-10-31T09:45:11.476165Z",
     "iopub.status.idle": "2021-10-31T09:45:11.479277Z",
     "shell.execute_reply": "2021-10-31T09:45:11.478731Z",
     "shell.execute_reply.started": "2021-10-31T09:31:11.637125Z"
    },
    "papermill": {
     "duration": 0.028189,
     "end_time": "2021-10-31T09:45:11.479421",
     "exception": false,
     "start_time": "2021-10-31T09:45:11.451232",
     "status": "completed"
    },
    "tags": []
   },
   "outputs": [],
   "source": [
    "# split the data into train and test sets\n",
    "# this lets us simulate how our model will perform in the future\n",
    "X_train, X_test, y_train, y_test = train_test_split(data.data, data.target, test_size=0.33)\n",
    "N, D = X_train.shape"
   ]
  },
  {
   "cell_type": "code",
   "execution_count": 9,
   "id": "eef90c2e",
   "metadata": {
    "execution": {
     "iopub.execute_input": "2021-10-31T09:45:11.516720Z",
     "iopub.status.busy": "2021-10-31T09:45:11.515575Z",
     "iopub.status.idle": "2021-10-31T09:45:11.520467Z",
     "shell.execute_reply": "2021-10-31T09:45:11.519794Z",
     "shell.execute_reply.started": "2021-10-31T09:34:37.792871Z"
    },
    "papermill": {
     "duration": 0.025642,
     "end_time": "2021-10-31T09:45:11.520638",
     "exception": false,
     "start_time": "2021-10-31T09:45:11.494996",
     "status": "completed"
    },
    "tags": []
   },
   "outputs": [],
   "source": [
    "# Scale the data\n",
    "\n",
    "scaler = StandardScaler()\n",
    "X_train = scaler.fit_transform(X_train)\n",
    "X_test = scaler.transform(X_test)"
   ]
  },
  {
   "cell_type": "code",
   "execution_count": 10,
   "id": "6d5dc51f",
   "metadata": {
    "execution": {
     "iopub.execute_input": "2021-10-31T09:45:11.558485Z",
     "iopub.status.busy": "2021-10-31T09:45:11.557478Z",
     "iopub.status.idle": "2021-10-31T09:45:12.927624Z",
     "shell.execute_reply": "2021-10-31T09:45:12.928594Z",
     "shell.execute_reply.started": "2021-10-31T09:34:37.800963Z"
    },
    "papermill": {
     "duration": 1.392704,
     "end_time": "2021-10-31T09:45:12.928844",
     "exception": false,
     "start_time": "2021-10-31T09:45:11.536140",
     "status": "completed"
    },
    "tags": []
   },
   "outputs": [
    {
     "name": "stderr",
     "output_type": "stream",
     "text": [
      "\n",
      "User settings:\n",
      "\n",
      "   KMP_AFFINITY=granularity=fine,verbose,compact,1,0\n",
      "   KMP_BLOCKTIME=0\n",
      "   KMP_DUPLICATE_LIB_OK=True\n",
      "   KMP_INIT_AT_FORK=FALSE\n",
      "   KMP_SETTINGS=1\n",
      "   KMP_WARNINGS=0\n",
      "\n",
      "Effective settings:\n",
      "\n",
      "   KMP_ABORT_DELAY=0\n",
      "   KMP_ADAPTIVE_LOCK_PROPS='1,1024'\n",
      "   KMP_ALIGN_ALLOC=64\n",
      "   KMP_ALL_THREADPRIVATE=128\n",
      "   KMP_ATOMIC_MODE=2\n",
      "   KMP_BLOCKTIME=0\n",
      "   KMP_CPUINFO_FILE: value is not defined\n",
      "   KMP_DETERMINISTIC_REDUCTION=false\n",
      "   KMP_DEVICE_THREAD_LIMIT=2147483647\n",
      "   KMP_DISP_NUM_BUFFERS=7\n",
      "   KMP_DUPLICATE_LIB_OK=true\n",
      "   KMP_ENABLE_TASK_THROTTLING=true\n",
      "   KMP_FORCE_REDUCTION: value is not defined\n",
      "   KMP_FOREIGN_THREADS_THREADPRIVATE=true\n",
      "   KMP_FORKJOIN_BARRIER='2,2'\n",
      "   KMP_FORKJOIN_BARRIER_PATTERN='hyper,hyper'\n",
      "   KMP_GTID_MODE=3\n",
      "   KMP_HANDLE_SIGNALS=false\n",
      "   KMP_HOT_TEAMS_MAX_LEVEL=1\n",
      "   KMP_HOT_TEAMS_MODE=0\n",
      "   KMP_INIT_AT_FORK=true\n",
      "   KMP_LIBRARY=throughput\n",
      "   KMP_LOCK_KIND=queuing\n",
      "   KMP_MALLOC_POOL_INCR=1M\n",
      "   KMP_NUM_LOCKS_IN_BLOCK=1\n",
      "   KMP_PLAIN_BARRIER='2,2'\n",
      "   KMP_PLAIN_BARRIER_PATTERN='hyper,hyper'\n",
      "   KMP_REDUCTION_BARRIER='1,1'\n",
      "   KMP_REDUCTION_BARRIER_PATTERN='hyper,hyper'\n",
      "   KMP_SCHEDULE='static,balanced;guided,iterative'\n",
      "   KMP_SETTINGS=true\n",
      "   KMP_SPIN_BACKOFF_PARAMS='4096,100'\n",
      "   KMP_STACKOFFSET=64\n",
      "   KMP_STACKPAD=0\n",
      "   KMP_STACKSIZE=8M\n",
      "   KMP_STORAGE_MAP=false\n",
      "   KMP_TASKING=2\n",
      "   KMP_TASKLOOP_MIN_TASKS=0\n",
      "   KMP_TASK_STEALING_CONSTRAINT=1\n",
      "   KMP_TEAMS_THREAD_LIMIT=4\n",
      "   KMP_TOPOLOGY_METHOD=all\n",
      "   KMP_USE_YIELD=1\n",
      "   KMP_VERSION=false\n",
      "   KMP_WARNINGS=false\n",
      "   OMP_AFFINITY_FORMAT='OMP: pid %P tid %i thread %n bound to OS proc set {%A}'\n",
      "   OMP_ALLOCATOR=omp_default_mem_alloc\n",
      "   OMP_CANCELLATION=false\n",
      "   OMP_DEFAULT_DEVICE=0\n",
      "   OMP_DISPLAY_AFFINITY=false\n",
      "   OMP_DISPLAY_ENV=false\n",
      "   OMP_DYNAMIC=false\n",
      "   OMP_MAX_ACTIVE_LEVELS=1\n",
      "   OMP_MAX_TASK_PRIORITY=0\n",
      "   OMP_NESTED: deprecated; max-active-levels-var=1\n",
      "   OMP_NUM_THREADS: value is not defined\n",
      "   OMP_PLACES: value is not defined\n",
      "   OMP_PROC_BIND='intel'\n",
      "   OMP_SCHEDULE='static'\n",
      "   OMP_STACKSIZE=8M\n",
      "   OMP_TARGET_OFFLOAD=DEFAULT\n",
      "   OMP_THREAD_LIMIT=2147483647\n",
      "   OMP_WAIT_POLICY=PASSIVE\n",
      "   KMP_AFFINITY='verbose,warnings,respect,granularity=fine,compact,1,0'\n",
      "\n",
      "2021-10-31 09:45:12.856293: I tensorflow/core/common_runtime/process_util.cc:146] Creating new thread pool with default inter op setting: 2. Tune using inter_op_parallelism_threads for best performance.\n"
     ]
    }
   ],
   "source": [
    "# Build the model\n",
    "\n",
    "model = tf.keras.models.Sequential([\n",
    "  tf.keras.layers.Input(shape=(D,)),\n",
    "  tf.keras.layers.Dense(1, activation='sigmoid')\n",
    "])\n",
    "\n",
    "\n",
    "model.compile(optimizer='adam',\n",
    "              loss='binary_crossentropy',\n",
    "              metrics=['accuracy'])\n"
   ]
  },
  {
   "cell_type": "code",
   "execution_count": 11,
   "id": "f40d7758",
   "metadata": {
    "execution": {
     "iopub.execute_input": "2021-10-31T09:45:12.965334Z",
     "iopub.status.busy": "2021-10-31T09:45:12.964702Z",
     "iopub.status.idle": "2021-10-31T09:45:23.986909Z",
     "shell.execute_reply": "2021-10-31T09:45:23.986213Z",
     "shell.execute_reply.started": "2021-10-31T09:34:37.831813Z"
    },
    "papermill": {
     "duration": 11.041253,
     "end_time": "2021-10-31T09:45:23.987067",
     "exception": false,
     "start_time": "2021-10-31T09:45:12.945814",
     "status": "completed"
    },
    "tags": []
   },
   "outputs": [
    {
     "name": "stderr",
     "output_type": "stream",
     "text": [
      "2021-10-31 09:45:13.048851: I tensorflow/compiler/mlir/mlir_graph_optimization_pass.cc:185] None of the MLIR Optimization Passes are enabled (registered 2)\n"
     ]
    },
    {
     "name": "stdout",
     "output_type": "stream",
     "text": [
      "Epoch 1/100\n",
      "12/12 [==============================] - 1s 21ms/step - loss: 1.0693 - accuracy: 0.3832 - val_loss: 1.1212 - val_accuracy: 0.3777\n",
      "Epoch 2/100\n",
      "12/12 [==============================] - 0s 4ms/step - loss: 0.9642 - accuracy: 0.4173 - val_loss: 1.0108 - val_accuracy: 0.4149\n",
      "Epoch 3/100\n",
      "12/12 [==============================] - 0s 4ms/step - loss: 0.8669 - accuracy: 0.4672 - val_loss: 0.9119 - val_accuracy: 0.4521\n",
      "Epoch 4/100\n",
      "12/12 [==============================] - 0s 4ms/step - loss: 0.7811 - accuracy: 0.5092 - val_loss: 0.8234 - val_accuracy: 0.5000\n",
      "Epoch 5/100\n",
      "12/12 [==============================] - 0s 5ms/step - loss: 0.7050 - accuracy: 0.5774 - val_loss: 0.7467 - val_accuracy: 0.5532\n",
      "Epoch 6/100\n",
      "12/12 [==============================] - 0s 4ms/step - loss: 0.6411 - accuracy: 0.6194 - val_loss: 0.6792 - val_accuracy: 0.6117\n",
      "Epoch 7/100\n",
      "12/12 [==============================] - 0s 4ms/step - loss: 0.5863 - accuracy: 0.6798 - val_loss: 0.6203 - val_accuracy: 0.6596\n",
      "Epoch 8/100\n",
      "12/12 [==============================] - 0s 4ms/step - loss: 0.5396 - accuracy: 0.7113 - val_loss: 0.5698 - val_accuracy: 0.7128\n",
      "Epoch 9/100\n",
      "12/12 [==============================] - 0s 4ms/step - loss: 0.4988 - accuracy: 0.7402 - val_loss: 0.5276 - val_accuracy: 0.7447\n",
      "Epoch 10/100\n",
      "12/12 [==============================] - 0s 6ms/step - loss: 0.4660 - accuracy: 0.7874 - val_loss: 0.4900 - val_accuracy: 0.7500\n",
      "Epoch 11/100\n",
      "12/12 [==============================] - 0s 5ms/step - loss: 0.4351 - accuracy: 0.8136 - val_loss: 0.4597 - val_accuracy: 0.7819\n",
      "Epoch 12/100\n",
      "12/12 [==============================] - 0s 4ms/step - loss: 0.4092 - accuracy: 0.8425 - val_loss: 0.4343 - val_accuracy: 0.8138\n",
      "Epoch 13/100\n",
      "12/12 [==============================] - 0s 4ms/step - loss: 0.3879 - accuracy: 0.8583 - val_loss: 0.4114 - val_accuracy: 0.8245\n",
      "Epoch 14/100\n",
      "12/12 [==============================] - 0s 4ms/step - loss: 0.3680 - accuracy: 0.8688 - val_loss: 0.3921 - val_accuracy: 0.8404\n",
      "Epoch 15/100\n",
      "12/12 [==============================] - 0s 4ms/step - loss: 0.3515 - accuracy: 0.8845 - val_loss: 0.3747 - val_accuracy: 0.8511\n",
      "Epoch 16/100\n",
      "12/12 [==============================] - 0s 5ms/step - loss: 0.3359 - accuracy: 0.8924 - val_loss: 0.3600 - val_accuracy: 0.8564\n",
      "Epoch 17/100\n",
      "12/12 [==============================] - 0s 5ms/step - loss: 0.3228 - accuracy: 0.9003 - val_loss: 0.3466 - val_accuracy: 0.8723\n",
      "Epoch 18/100\n",
      "12/12 [==============================] - 0s 6ms/step - loss: 0.3107 - accuracy: 0.9081 - val_loss: 0.3347 - val_accuracy: 0.8830\n",
      "Epoch 19/100\n",
      "12/12 [==============================] - 0s 5ms/step - loss: 0.3001 - accuracy: 0.9160 - val_loss: 0.3237 - val_accuracy: 0.8830\n",
      "Epoch 20/100\n",
      "12/12 [==============================] - 0s 5ms/step - loss: 0.2903 - accuracy: 0.9213 - val_loss: 0.3138 - val_accuracy: 0.8830\n",
      "Epoch 21/100\n",
      "12/12 [==============================] - 0s 5ms/step - loss: 0.2814 - accuracy: 0.9213 - val_loss: 0.3047 - val_accuracy: 0.8883\n",
      "Epoch 22/100\n",
      "12/12 [==============================] - 0s 4ms/step - loss: 0.2731 - accuracy: 0.9213 - val_loss: 0.2965 - val_accuracy: 0.8883\n",
      "Epoch 23/100\n",
      "12/12 [==============================] - 0s 4ms/step - loss: 0.2656 - accuracy: 0.9239 - val_loss: 0.2889 - val_accuracy: 0.8883\n",
      "Epoch 24/100\n",
      "12/12 [==============================] - 0s 6ms/step - loss: 0.2588 - accuracy: 0.9239 - val_loss: 0.2815 - val_accuracy: 0.8883\n",
      "Epoch 25/100\n",
      "12/12 [==============================] - 0s 5ms/step - loss: 0.2520 - accuracy: 0.9318 - val_loss: 0.2749 - val_accuracy: 0.8936\n",
      "Epoch 26/100\n",
      "12/12 [==============================] - 0s 6ms/step - loss: 0.2460 - accuracy: 0.9344 - val_loss: 0.2686 - val_accuracy: 0.8989\n",
      "Epoch 27/100\n",
      "12/12 [==============================] - 0s 5ms/step - loss: 0.2403 - accuracy: 0.9344 - val_loss: 0.2627 - val_accuracy: 0.8989\n",
      "Epoch 28/100\n",
      "12/12 [==============================] - 0s 4ms/step - loss: 0.2349 - accuracy: 0.9370 - val_loss: 0.2571 - val_accuracy: 0.8989\n",
      "Epoch 29/100\n",
      "12/12 [==============================] - 0s 5ms/step - loss: 0.2299 - accuracy: 0.9396 - val_loss: 0.2518 - val_accuracy: 0.8989\n",
      "Epoch 30/100\n",
      "12/12 [==============================] - 0s 5ms/step - loss: 0.2250 - accuracy: 0.9396 - val_loss: 0.2470 - val_accuracy: 0.8989\n",
      "Epoch 31/100\n",
      "12/12 [==============================] - 0s 5ms/step - loss: 0.2204 - accuracy: 0.9396 - val_loss: 0.2423 - val_accuracy: 0.8989\n",
      "Epoch 32/100\n",
      "12/12 [==============================] - 0s 5ms/step - loss: 0.2161 - accuracy: 0.9423 - val_loss: 0.2378 - val_accuracy: 0.9043\n",
      "Epoch 33/100\n",
      "12/12 [==============================] - 0s 5ms/step - loss: 0.2120 - accuracy: 0.9449 - val_loss: 0.2334 - val_accuracy: 0.9043\n",
      "Epoch 34/100\n",
      "12/12 [==============================] - 0s 5ms/step - loss: 0.2080 - accuracy: 0.9475 - val_loss: 0.2293 - val_accuracy: 0.9202\n",
      "Epoch 35/100\n",
      "12/12 [==============================] - 0s 5ms/step - loss: 0.2042 - accuracy: 0.9449 - val_loss: 0.2253 - val_accuracy: 0.9202\n",
      "Epoch 36/100\n",
      "12/12 [==============================] - 0s 5ms/step - loss: 0.2005 - accuracy: 0.9449 - val_loss: 0.2217 - val_accuracy: 0.9202\n",
      "Epoch 37/100\n",
      "12/12 [==============================] - 0s 5ms/step - loss: 0.1971 - accuracy: 0.9449 - val_loss: 0.2180 - val_accuracy: 0.9202\n",
      "Epoch 38/100\n",
      "12/12 [==============================] - 0s 5ms/step - loss: 0.1937 - accuracy: 0.9449 - val_loss: 0.2147 - val_accuracy: 0.9309\n",
      "Epoch 39/100\n",
      "12/12 [==============================] - 0s 5ms/step - loss: 0.1905 - accuracy: 0.9449 - val_loss: 0.2113 - val_accuracy: 0.9309\n",
      "Epoch 40/100\n",
      "12/12 [==============================] - 0s 5ms/step - loss: 0.1874 - accuracy: 0.9449 - val_loss: 0.2082 - val_accuracy: 0.9309\n",
      "Epoch 41/100\n",
      "12/12 [==============================] - 0s 5ms/step - loss: 0.1844 - accuracy: 0.9475 - val_loss: 0.2052 - val_accuracy: 0.9309\n",
      "Epoch 42/100\n",
      "12/12 [==============================] - 0s 5ms/step - loss: 0.1816 - accuracy: 0.9475 - val_loss: 0.2022 - val_accuracy: 0.9309\n",
      "Epoch 43/100\n",
      "12/12 [==============================] - 0s 4ms/step - loss: 0.1789 - accuracy: 0.9501 - val_loss: 0.1993 - val_accuracy: 0.9362\n",
      "Epoch 44/100\n",
      "12/12 [==============================] - 0s 4ms/step - loss: 0.1760 - accuracy: 0.9501 - val_loss: 0.1967 - val_accuracy: 0.9415\n",
      "Epoch 45/100\n",
      "12/12 [==============================] - 0s 4ms/step - loss: 0.1734 - accuracy: 0.9501 - val_loss: 0.1941 - val_accuracy: 0.9415\n",
      "Epoch 46/100\n",
      "12/12 [==============================] - 0s 6ms/step - loss: 0.1710 - accuracy: 0.9528 - val_loss: 0.1915 - val_accuracy: 0.9468\n",
      "Epoch 47/100\n",
      "12/12 [==============================] - 0s 5ms/step - loss: 0.1686 - accuracy: 0.9528 - val_loss: 0.1891 - val_accuracy: 0.9521\n",
      "Epoch 48/100\n",
      "12/12 [==============================] - 0s 5ms/step - loss: 0.1662 - accuracy: 0.9528 - val_loss: 0.1868 - val_accuracy: 0.9521\n",
      "Epoch 49/100\n",
      "12/12 [==============================] - 0s 4ms/step - loss: 0.1639 - accuracy: 0.9528 - val_loss: 0.1845 - val_accuracy: 0.9574\n",
      "Epoch 50/100\n",
      "12/12 [==============================] - 0s 5ms/step - loss: 0.1617 - accuracy: 0.9528 - val_loss: 0.1824 - val_accuracy: 0.9574\n",
      "Epoch 51/100\n",
      "12/12 [==============================] - 0s 7ms/step - loss: 0.1595 - accuracy: 0.9528 - val_loss: 0.1803 - val_accuracy: 0.9574\n",
      "Epoch 52/100\n",
      "12/12 [==============================] - 0s 6ms/step - loss: 0.1575 - accuracy: 0.9554 - val_loss: 0.1784 - val_accuracy: 0.9574\n",
      "Epoch 53/100\n",
      "12/12 [==============================] - 0s 4ms/step - loss: 0.1555 - accuracy: 0.9554 - val_loss: 0.1765 - val_accuracy: 0.9574\n",
      "Epoch 54/100\n",
      "12/12 [==============================] - 0s 5ms/step - loss: 0.1536 - accuracy: 0.9554 - val_loss: 0.1746 - val_accuracy: 0.9574\n",
      "Epoch 55/100\n",
      "12/12 [==============================] - 0s 6ms/step - loss: 0.1516 - accuracy: 0.9554 - val_loss: 0.1728 - val_accuracy: 0.9574\n",
      "Epoch 56/100\n",
      "12/12 [==============================] - 0s 5ms/step - loss: 0.1497 - accuracy: 0.9554 - val_loss: 0.1711 - val_accuracy: 0.9574\n",
      "Epoch 57/100\n",
      "12/12 [==============================] - 0s 5ms/step - loss: 0.1480 - accuracy: 0.9606 - val_loss: 0.1695 - val_accuracy: 0.9574\n",
      "Epoch 58/100\n",
      "12/12 [==============================] - 0s 5ms/step - loss: 0.1462 - accuracy: 0.9606 - val_loss: 0.1679 - val_accuracy: 0.9574\n",
      "Epoch 59/100\n",
      "12/12 [==============================] - 0s 5ms/step - loss: 0.1446 - accuracy: 0.9606 - val_loss: 0.1663 - val_accuracy: 0.9574\n",
      "Epoch 60/100\n",
      "12/12 [==============================] - 0s 5ms/step - loss: 0.1429 - accuracy: 0.9606 - val_loss: 0.1648 - val_accuracy: 0.9574\n",
      "Epoch 61/100\n",
      "12/12 [==============================] - 0s 5ms/step - loss: 0.1413 - accuracy: 0.9606 - val_loss: 0.1633 - val_accuracy: 0.9574\n",
      "Epoch 62/100\n",
      "12/12 [==============================] - 0s 5ms/step - loss: 0.1397 - accuracy: 0.9606 - val_loss: 0.1618 - val_accuracy: 0.9574\n",
      "Epoch 63/100\n",
      "12/12 [==============================] - 0s 4ms/step - loss: 0.1382 - accuracy: 0.9606 - val_loss: 0.1606 - val_accuracy: 0.9574\n",
      "Epoch 64/100\n",
      "12/12 [==============================] - 0s 5ms/step - loss: 0.1368 - accuracy: 0.9606 - val_loss: 0.1593 - val_accuracy: 0.9574\n",
      "Epoch 65/100\n",
      "12/12 [==============================] - 0s 5ms/step - loss: 0.1353 - accuracy: 0.9606 - val_loss: 0.1580 - val_accuracy: 0.9574\n",
      "Epoch 66/100\n",
      "12/12 [==============================] - 0s 4ms/step - loss: 0.1340 - accuracy: 0.9606 - val_loss: 0.1567 - val_accuracy: 0.9574\n",
      "Epoch 67/100\n",
      "12/12 [==============================] - 0s 5ms/step - loss: 0.1325 - accuracy: 0.9659 - val_loss: 0.1556 - val_accuracy: 0.9574\n",
      "Epoch 68/100\n",
      "12/12 [==============================] - 0s 5ms/step - loss: 0.1312 - accuracy: 0.9659 - val_loss: 0.1544 - val_accuracy: 0.9574\n",
      "Epoch 69/100\n",
      "12/12 [==============================] - 0s 5ms/step - loss: 0.1299 - accuracy: 0.9659 - val_loss: 0.1533 - val_accuracy: 0.9574\n",
      "Epoch 70/100\n",
      "12/12 [==============================] - 0s 4ms/step - loss: 0.1287 - accuracy: 0.9659 - val_loss: 0.1521 - val_accuracy: 0.9574\n",
      "Epoch 71/100\n",
      "12/12 [==============================] - 0s 5ms/step - loss: 0.1274 - accuracy: 0.9659 - val_loss: 0.1510 - val_accuracy: 0.9574\n",
      "Epoch 72/100\n",
      "12/12 [==============================] - 0s 5ms/step - loss: 0.1262 - accuracy: 0.9659 - val_loss: 0.1502 - val_accuracy: 0.9574\n",
      "Epoch 73/100\n",
      "12/12 [==============================] - 0s 5ms/step - loss: 0.1251 - accuracy: 0.9685 - val_loss: 0.1491 - val_accuracy: 0.9574\n",
      "Epoch 74/100\n",
      "12/12 [==============================] - 0s 5ms/step - loss: 0.1240 - accuracy: 0.9685 - val_loss: 0.1482 - val_accuracy: 0.9574\n",
      "Epoch 75/100\n",
      "12/12 [==============================] - 0s 5ms/step - loss: 0.1228 - accuracy: 0.9685 - val_loss: 0.1472 - val_accuracy: 0.9574\n",
      "Epoch 76/100\n",
      "12/12 [==============================] - 0s 5ms/step - loss: 0.1218 - accuracy: 0.9685 - val_loss: 0.1462 - val_accuracy: 0.9574\n",
      "Epoch 77/100\n",
      "12/12 [==============================] - 0s 4ms/step - loss: 0.1207 - accuracy: 0.9685 - val_loss: 0.1454 - val_accuracy: 0.9574\n",
      "Epoch 78/100\n",
      "12/12 [==============================] - 0s 5ms/step - loss: 0.1196 - accuracy: 0.9685 - val_loss: 0.1445 - val_accuracy: 0.9574\n",
      "Epoch 79/100\n",
      "12/12 [==============================] - 0s 5ms/step - loss: 0.1187 - accuracy: 0.9685 - val_loss: 0.1437 - val_accuracy: 0.9574\n",
      "Epoch 80/100\n",
      "12/12 [==============================] - 0s 5ms/step - loss: 0.1177 - accuracy: 0.9685 - val_loss: 0.1429 - val_accuracy: 0.9574\n",
      "Epoch 81/100\n",
      "12/12 [==============================] - 0s 5ms/step - loss: 0.1167 - accuracy: 0.9711 - val_loss: 0.1420 - val_accuracy: 0.9574\n",
      "Epoch 82/100\n",
      "12/12 [==============================] - 0s 5ms/step - loss: 0.1158 - accuracy: 0.9711 - val_loss: 0.1413 - val_accuracy: 0.9574\n",
      "Epoch 83/100\n",
      "12/12 [==============================] - 0s 4ms/step - loss: 0.1149 - accuracy: 0.9711 - val_loss: 0.1405 - val_accuracy: 0.9628\n",
      "Epoch 84/100\n",
      "12/12 [==============================] - 0s 4ms/step - loss: 0.1140 - accuracy: 0.9738 - val_loss: 0.1397 - val_accuracy: 0.9628\n",
      "Epoch 85/100\n",
      "12/12 [==============================] - 0s 4ms/step - loss: 0.1131 - accuracy: 0.9764 - val_loss: 0.1390 - val_accuracy: 0.9628\n",
      "Epoch 86/100\n",
      "12/12 [==============================] - 0s 6ms/step - loss: 0.1122 - accuracy: 0.9764 - val_loss: 0.1383 - val_accuracy: 0.9628\n",
      "Epoch 87/100\n",
      "12/12 [==============================] - 0s 5ms/step - loss: 0.1114 - accuracy: 0.9764 - val_loss: 0.1376 - val_accuracy: 0.9628\n",
      "Epoch 88/100\n",
      "12/12 [==============================] - 0s 5ms/step - loss: 0.1105 - accuracy: 0.9764 - val_loss: 0.1370 - val_accuracy: 0.9628\n",
      "Epoch 89/100\n",
      "12/12 [==============================] - 0s 5ms/step - loss: 0.1098 - accuracy: 0.9764 - val_loss: 0.1363 - val_accuracy: 0.9628\n",
      "Epoch 90/100\n",
      "12/12 [==============================] - 0s 5ms/step - loss: 0.1090 - accuracy: 0.9764 - val_loss: 0.1357 - val_accuracy: 0.9628\n",
      "Epoch 91/100\n",
      "12/12 [==============================] - 0s 5ms/step - loss: 0.1082 - accuracy: 0.9764 - val_loss: 0.1351 - val_accuracy: 0.9628\n",
      "Epoch 92/100\n",
      "12/12 [==============================] - 0s 5ms/step - loss: 0.1074 - accuracy: 0.9764 - val_loss: 0.1344 - val_accuracy: 0.9628\n",
      "Epoch 93/100\n",
      "12/12 [==============================] - 0s 5ms/step - loss: 0.1067 - accuracy: 0.9764 - val_loss: 0.1338 - val_accuracy: 0.9628\n",
      "Epoch 94/100\n",
      "12/12 [==============================] - 0s 5ms/step - loss: 0.1060 - accuracy: 0.9764 - val_loss: 0.1332 - val_accuracy: 0.9628\n",
      "Epoch 95/100\n",
      "12/12 [==============================] - 0s 5ms/step - loss: 0.1053 - accuracy: 0.9738 - val_loss: 0.1326 - val_accuracy: 0.9628\n",
      "Epoch 96/100\n",
      "12/12 [==============================] - 0s 5ms/step - loss: 0.1046 - accuracy: 0.9738 - val_loss: 0.1320 - val_accuracy: 0.9628\n",
      "Epoch 97/100\n",
      "12/12 [==============================] - 0s 4ms/step - loss: 0.1039 - accuracy: 0.9738 - val_loss: 0.1315 - val_accuracy: 0.9628\n",
      "Epoch 98/100\n",
      "12/12 [==============================] - 0s 5ms/step - loss: 0.1033 - accuracy: 0.9738 - val_loss: 0.1309 - val_accuracy: 0.9628\n",
      "Epoch 99/100\n",
      "12/12 [==============================] - 0s 5ms/step - loss: 0.1026 - accuracy: 0.9738 - val_loss: 0.1305 - val_accuracy: 0.9628\n",
      "Epoch 100/100\n",
      "12/12 [==============================] - 0s 5ms/step - loss: 0.1020 - accuracy: 0.9738 - val_loss: 0.1300 - val_accuracy: 0.9628\n",
      "12/12 [==============================] - 0s 1ms/step - loss: 0.1016 - accuracy: 0.9764\n",
      "Train score: [0.10155568271875381, 0.9763779640197754]\n",
      "6/6 [==============================] - 0s 1ms/step - loss: 0.1300 - accuracy: 0.9628\n",
      "Test score: [0.12995898723602295, 0.9627659320831299]\n"
     ]
    }
   ],
   "source": [
    "# Train the model\n",
    "r = model.fit(X_train, y_train, validation_data=(X_test, y_test), epochs=100)\n",
    "\n",
    "\n",
    "# Evaluate the model - evaluate() returns loss and accuracy\n",
    "print(\"Train score:\", model.evaluate(X_train, y_train))\n",
    "print(\"Test score:\", model.evaluate(X_test, y_test))"
   ]
  },
  {
   "cell_type": "code",
   "execution_count": 12,
   "id": "3af6d371",
   "metadata": {
    "execution": {
     "iopub.execute_input": "2021-10-31T09:45:24.150876Z",
     "iopub.status.busy": "2021-10-31T09:45:24.150071Z",
     "iopub.status.idle": "2021-10-31T09:45:24.372984Z",
     "shell.execute_reply": "2021-10-31T09:45:24.373478Z",
     "shell.execute_reply.started": "2021-10-31T09:34:44.570479Z"
    },
    "papermill": {
     "duration": 0.306134,
     "end_time": "2021-10-31T09:45:24.373697",
     "exception": false,
     "start_time": "2021-10-31T09:45:24.067563",
     "status": "completed"
    },
    "tags": []
   },
   "outputs": [
    {
     "data": {
      "text/plain": [
       "<matplotlib.legend.Legend at 0x7fe6b441b7d0>"
      ]
     },
     "execution_count": 12,
     "metadata": {},
     "output_type": "execute_result"
    },
    {
     "data": {
      "image/png": "[encoded data removed]",
      "text/plain": [
       "<Figure size 432x288 with 1 Axes>"
      ]
     },
     "metadata": {
      "needs_background": "light"
     },
     "output_type": "display_data"
    }
   ],
   "source": [
    "# Plot what's returned by model.fit()\n",
    "import matplotlib.pyplot as plt\n",
    "plt.plot(r.history['loss'], label='loss')\n",
    "plt.plot(r.history['val_loss'], label='val_loss')\n",
    "plt.legend()"
   ]
  },
  {
   "cell_type": "code",
   "execution_count": 13,
   "id": "428ab8e2",
   "metadata": {
    "execution": {
     "iopub.execute_input": "2021-10-31T09:45:24.547301Z",
     "iopub.status.busy": "2021-10-31T09:45:24.546610Z",
     "iopub.status.idle": "2021-10-31T09:45:24.743658Z",
     "shell.execute_reply": "2021-10-31T09:45:24.743072Z",
     "shell.execute_reply.started": "2021-10-31T09:35:01.623812Z"
    },
    "papermill": {
     "duration": 0.287999,
     "end_time": "2021-10-31T09:45:24.743807",
     "exception": false,
     "start_time": "2021-10-31T09:45:24.455808",
     "status": "completed"
    },
    "tags": []
   },
   "outputs": [
    {
     "data": {
      "text/plain": [
       "<matplotlib.legend.Legend at 0x7fe6b42903d0>"
      ]
     },
     "execution_count": 13,
     "metadata": {},
     "output_type": "execute_result"
    },
    {
     "data": {
      "image/png": "[encoded data removed]",
      "text/plain": [
       "<Figure size 432x288 with 1 Axes>"
      ]
     },
     "metadata": {
      "needs_background": "light"
     },
     "output_type": "display_data"
    }
   ],
   "source": [
    "# Plot the accuracy too\n",
    "plt.plot(r.history['accuracy'], label='acc')\n",
    "plt.plot(r.history['val_accuracy'], label='val_acc')\n",
    "plt.legend()"
   ]
  },
  {
   "cell_type": "code",
   "execution_count": 14,
   "id": "ca5ea9e1",
   "metadata": {
    "execution": {
     "iopub.execute_input": "2021-10-31T09:45:24.909744Z",
     "iopub.status.busy": "2021-10-31T09:45:24.909045Z",
     "iopub.status.idle": "2021-10-31T09:45:25.039822Z",
     "shell.execute_reply": "2021-10-31T09:45:25.039196Z",
     "shell.execute_reply.started": "2021-10-31T09:35:51.816283Z"
    },
    "papermill": {
     "duration": 0.215798,
     "end_time": "2021-10-31T09:45:25.039994",
     "exception": false,
     "start_time": "2021-10-31T09:45:24.824196",
     "status": "completed"
    },
    "tags": []
   },
   "outputs": [
    {
     "name": "stdout",
     "output_type": "stream",
     "text": [
      "[[8.5278249e-01]\n",
      " [9.6395218e-01]\n",
      " [4.1881713e-06]\n",
      " [9.6658123e-01]\n",
      " [9.8880041e-01]\n",
      " [9.3668103e-03]\n",
      " [6.1360300e-03]\n",
      " [9.6410191e-01]\n",
      " [9.8316932e-01]\n",
      " [9.9377298e-01]\n",
      " [2.4918616e-03]\n",
      " [3.1002760e-03]\n",
      " [5.7344586e-02]\n",
      " [8.5476828e-01]\n",
      " [9.9203432e-01]\n",
      " [5.3754300e-02]\n",
      " [9.9971843e-01]\n",
      " [5.9538335e-01]\n",
      " [1.8803239e-02]\n",
      " [1.0946989e-03]\n",
      " [8.7201452e-01]\n",
      " [9.0797770e-01]\n",
      " [9.9676871e-01]\n",
      " [5.1397890e-02]\n",
      " [9.3072939e-01]\n",
      " [8.2914913e-01]\n",
      " [9.0436637e-01]\n",
      " [3.1080455e-02]\n",
      " [4.7453642e-03]\n",
      " [6.5373850e-01]\n",
      " [9.9833310e-01]\n",
      " [6.3651800e-03]\n",
      " [9.8287749e-01]\n",
      " [9.8368835e-01]\n",
      " [9.3634200e-01]\n",
      " [6.6066384e-03]\n",
      " [8.1777549e-01]\n",
      " [9.8739552e-01]\n",
      " [9.2578053e-01]\n",
      " [9.9379706e-01]\n",
      " [1.4384088e-01]\n",
      " [2.9066205e-04]\n",
      " [9.8210508e-01]\n",
      " [9.9719375e-01]\n",
      " [5.3137837e-06]\n",
      " [9.7569263e-01]\n",
      " [9.9588394e-01]\n",
      " [4.0532649e-03]\n",
      " [9.8674321e-01]\n",
      " [8.5498905e-01]\n",
      " [2.1757007e-02]\n",
      " [9.6905661e-01]\n",
      " [9.9789584e-01]\n",
      " [4.6700239e-04]\n",
      " [3.4056658e-01]\n",
      " [9.4295621e-01]\n",
      " [9.8540592e-01]\n",
      " [1.4104971e-01]\n",
      " [1.0131788e-01]\n",
      " [9.8282409e-01]\n",
      " [9.8732251e-01]\n",
      " [9.8888016e-01]\n",
      " [4.4631958e-04]\n",
      " [5.6428313e-03]\n",
      " [1.3990581e-01]\n",
      " [1.5177645e-07]\n",
      " [9.9945194e-01]\n",
      " [9.9509490e-01]\n",
      " [5.3019631e-01]\n",
      " [9.4919884e-01]\n",
      " [9.8475492e-01]\n",
      " [9.4200009e-01]\n",
      " [9.5670009e-01]\n",
      " [9.9158657e-01]\n",
      " [9.9161899e-01]\n",
      " [9.8350930e-01]\n",
      " [9.8182863e-01]\n",
      " [9.9810469e-01]\n",
      " [1.0130852e-02]\n",
      " [2.4117231e-02]\n",
      " [9.9514747e-01]\n",
      " [9.9954379e-01]\n",
      " [8.4407926e-01]\n",
      " [9.7221780e-01]\n",
      " [9.9346709e-01]\n",
      " [9.9706191e-01]\n",
      " [9.6663761e-01]\n",
      " [9.0814233e-03]\n",
      " [9.9692070e-01]\n",
      " [8.4570050e-04]\n",
      " [2.8259251e-01]\n",
      " [9.4087064e-01]\n",
      " [9.5203364e-01]\n",
      " [8.7938237e-01]\n",
      " [1.9037604e-02]\n",
      " [8.1191212e-02]\n",
      " [5.7389677e-02]\n",
      " [9.9822879e-01]\n",
      " [9.5924205e-01]\n",
      " [4.8566759e-03]\n",
      " [9.9938083e-01]\n",
      " [8.9873970e-03]\n",
      " [9.8288655e-01]\n",
      " [9.5873356e-01]\n",
      " [1.0458529e-03]\n",
      " [9.0667868e-01]\n",
      " [9.8410654e-01]\n",
      " [1.3593072e-01]\n",
      " [6.9688016e-01]\n",
      " [9.9318188e-01]\n",
      " [5.1571727e-03]\n",
      " [9.2933023e-01]\n",
      " [5.9928560e-01]\n",
      " [9.4919807e-01]\n",
      " [8.0379748e-01]\n",
      " [9.5159566e-01]\n",
      " [6.2793064e-01]\n",
      " [5.9971213e-04]\n",
      " [9.0630162e-01]\n",
      " [9.8766762e-01]\n",
      " [9.7939074e-01]\n",
      " [9.9806416e-01]\n",
      " [9.7006404e-01]\n",
      " [6.6170096e-03]\n",
      " [9.8356056e-01]\n",
      " [9.2863047e-01]\n",
      " [2.9615372e-02]\n",
      " [3.2611361e-01]\n",
      " [1.1126818e-08]\n",
      " [7.3257935e-01]\n",
      " [9.8001957e-01]\n",
      " [4.3787056e-01]\n",
      " [7.0752382e-01]\n",
      " [9.9945664e-01]\n",
      " [2.2256374e-04]\n",
      " [9.8948753e-01]\n",
      " [9.4833767e-01]\n",
      " [7.2951496e-01]\n",
      " [2.8963387e-03]\n",
      " [4.8720813e-05]\n",
      " [9.8836952e-01]\n",
      " [9.4106352e-01]\n",
      " [9.7652841e-01]\n",
      " [4.2327940e-03]\n",
      " [9.7872245e-01]\n",
      " [6.1517954e-04]\n",
      " [9.9176604e-01]\n",
      " [4.4282377e-03]\n",
      " [9.9296021e-01]\n",
      " [6.8113887e-01]\n",
      " [4.4231838e-01]\n",
      " [3.3125579e-03]\n",
      " [9.9622852e-01]\n",
      " [8.1010884e-01]\n",
      " [4.3961966e-01]\n",
      " [9.4498950e-01]\n",
      " [6.2428349e-01]\n",
      " [9.6640617e-01]\n",
      " [9.9881649e-01]\n",
      " [9.9127626e-01]\n",
      " [9.6484625e-01]\n",
      " [5.4538996e-06]\n",
      " [9.1454923e-01]\n",
      " [1.9529462e-04]\n",
      " [5.9289461e-01]\n",
      " [9.6989477e-01]\n",
      " [9.4297814e-01]\n",
      " [9.9428308e-01]\n",
      " [1.7645013e-01]\n",
      " [9.9862778e-01]\n",
      " [3.0274838e-02]\n",
      " [9.9651706e-01]\n",
      " [9.8342204e-01]\n",
      " [1.9895434e-03]\n",
      " [6.6062057e-05]\n",
      " [7.2762370e-04]\n",
      " [8.0601186e-01]\n",
      " [9.7896421e-01]\n",
      " [9.9078548e-01]\n",
      " [1.7364323e-03]\n",
      " [9.9630105e-01]\n",
      " [3.5327941e-02]\n",
      " [1.2833834e-02]\n",
      " [4.2733788e-02]\n",
      " [6.1826819e-01]\n",
      " [9.7529584e-01]\n",
      " [3.7365258e-02]\n",
      " [9.8782057e-01]]\n"
     ]
    }
   ],
   "source": [
    "# Make predictions\n",
    "P = model.predict(X_test)\n",
    "print(P) # they are outputs of the sigmoid, interpreted as probabilities p(y = 1 | x)"
   ]
  },
  {
   "cell_type": "code",
   "execution_count": 15,
   "id": "fdaea1ca",
   "metadata": {
    "execution": {
     "iopub.execute_input": "2021-10-31T09:45:25.272379Z",
     "iopub.status.busy": "2021-10-31T09:45:25.271312Z",
     "iopub.status.idle": "2021-10-31T09:45:25.280129Z",
     "shell.execute_reply": "2021-10-31T09:45:25.280687Z",
     "shell.execute_reply.started": "2021-10-31T09:36:19.420285Z"
    },
    "papermill": {
     "duration": 0.156299,
     "end_time": "2021-10-31T09:45:25.280870",
     "exception": false,
     "start_time": "2021-10-31T09:45:25.124571",
     "status": "completed"
    },
    "tags": []
   },
   "outputs": [
    {
     "name": "stdout",
     "output_type": "stream",
     "text": [
      "[1. 1. 0. 1. 1. 0. 0. 1. 1. 1. 0. 0. 0. 1. 1. 0. 1. 1. 0. 0. 1. 1. 1. 0.\n",
      " 1. 1. 1. 0. 0. 1. 1. 0. 1. 1. 1. 0. 1. 1. 1. 1. 0. 0. 1. 1. 0. 1. 1. 0.\n",
      " 1. 1. 0. 1. 1. 0. 0. 1. 1. 0. 0. 1. 1. 1. 0. 0. 0. 0. 1. 1. 1. 1. 1. 1.\n",
      " 1. 1. 1. 1. 1. 1. 0. 0. 1. 1. 1. 1. 1. 1. 1. 0. 1. 0. 0. 1. 1. 1. 0. 0.\n",
      " 0. 1. 1. 0. 1. 0. 1. 1. 0. 1. 1. 0. 1. 1. 0. 1. 1. 1. 1. 1. 1. 0. 1. 1.\n",
      " 1. 1. 1. 0. 1. 1. 0. 0. 0. 1. 1. 0. 1. 1. 0. 1. 1. 1. 0. 0. 1. 1. 1. 0.\n",
      " 1. 0. 1. 0. 1. 1. 0. 0. 1. 1. 0. 1. 1. 1. 1. 1. 1. 0. 1. 0. 1. 1. 1. 1.\n",
      " 0. 1. 0. 1. 1. 0. 0. 0. 1. 1. 1. 0. 1. 0. 0. 0. 1. 1. 0. 1.]\n"
     ]
    }
   ],
   "source": [
    "# Round to get the actual predictions\n",
    "# Note: has to be flattened since the targets are size (N,) while the predictions are size (N,1)\n",
    "\n",
    "P = np.round(P).flatten()\n",
    "print(P)"
   ]
  },
  {
   "cell_type": "code",
   "execution_count": 16,
   "id": "a0716ab9",
   "metadata": {
    "execution": {
     "iopub.execute_input": "2021-10-31T09:45:25.449547Z",
     "iopub.status.busy": "2021-10-31T09:45:25.448879Z",
     "iopub.status.idle": "2021-10-31T09:45:25.520957Z",
     "shell.execute_reply": "2021-10-31T09:45:25.521534Z",
     "shell.execute_reply.started": "2021-10-31T09:37:00.780139Z"
    },
    "papermill": {
     "duration": 0.159008,
     "end_time": "2021-10-31T09:45:25.521740",
     "exception": false,
     "start_time": "2021-10-31T09:45:25.362732",
     "status": "completed"
    },
    "tags": []
   },
   "outputs": [
    {
     "name": "stdout",
     "output_type": "stream",
     "text": [
      "Manually calculated accuracy: 0.9627659574468085\n",
      "6/6 [==============================] - 0s 1ms/step - loss: 0.1300 - accuracy: 0.9628\n",
      "Evaluate output: [0.12995898723602295, 0.9627659320831299]\n"
     ]
    }
   ],
   "source": [
    "# Calculate the accuracy, compare it to evaluate() output\n",
    "print(\"Manually calculated accuracy:\", np.mean(P == y_test))\n",
    "print(\"Evaluate output:\", model.evaluate(X_test, y_test))"
   ]
  }
 ],
 "metadata": {
  "kernelspec": {
   "display_name": "Python 3",
   "language": "python",
   "name": "python3"
  },
  "language_info": {
   "codemirror_mode": {
    "name": "ipython",
    "version": 3
   },
   "file_extension": ".py",
   "mimetype": "text/x-python",
   "name": "python",
   "nbconvert_exporter": "python",
   "pygments_lexer": "ipython3",
   "version": "3.7.10"
  },
  "papermill": {
   "default_parameters": {},
   "duration": 33.730155,
   "end_time": "2021-10-31T09:45:29.074842",
   "environment_variables": {},
   "exception": null,
   "input_path": "__notebook__.ipynb",
   "output_path": "__notebook__.ipynb",
   "parameters": {},
   "start_time": "2021-10-31T09:44:55.344687",
   "version": "2.3.3"
  }
 },
 "nbformat": 4,
 "nbformat_minor": 5
}
