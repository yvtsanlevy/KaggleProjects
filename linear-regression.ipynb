{
 "cells": [
  {
   "cell_type": "code",
   "execution_count": 1,
   "id": "26cc39be",
   "metadata": {
    "_cell_guid": "b1076dfc-b9ad-4769-8c92-a6c4dae69d19",
    "_uuid": "8f2839f25d086af736a60e9eeb907d3b93b6e0e5",
    "execution": {
     "iopub.execute_input": "2021-11-01T09:31:48.403759Z",
     "iopub.status.busy": "2021-11-01T09:31:48.401903Z",
     "iopub.status.idle": "2021-11-01T09:31:53.287139Z",
     "shell.execute_reply": "2021-11-01T09:31:53.286200Z",
     "shell.execute_reply.started": "2021-11-01T09:03:33.240849Z"
    },
    "papermill": {
     "duration": 4.904571,
     "end_time": "2021-11-01T09:31:53.287381",
     "exception": false,
     "start_time": "2021-11-01T09:31:48.382810",
     "status": "completed"
    },
    "tags": []
   },
   "outputs": [
    {
     "name": "stdout",
     "output_type": "stream",
     "text": [
      "2.6.0\n"
     ]
    }
   ],
   "source": [
    "# This Python 3 environment comes with many helpful analytics libraries installed\n",
    "# It is defined by the kaggle/python Docker image: https://github.com/kaggle/docker-python\n",
    "# For example, here's several helpful packages to load\n",
    "\n",
    "import numpy as np # linear algebra\n",
    "import pandas as pd # data processing, CSV file I/O (e.g. pd.read_csv)\n",
    "import matplotlib.pyplot as plt\n",
    "\n",
    "import tensorflow as tf\n",
    "print(tf.__version__)"
   ]
  },
  {
   "cell_type": "code",
   "execution_count": 2,
   "id": "fd7e0d45",
   "metadata": {
    "execution": {
     "iopub.execute_input": "2021-11-01T09:31:53.314475Z",
     "iopub.status.busy": "2021-11-01T09:31:53.313748Z",
     "iopub.status.idle": "2021-11-01T09:31:53.334560Z",
     "shell.execute_reply": "2021-11-01T09:31:53.333907Z",
     "shell.execute_reply.started": "2021-11-01T09:25:53.173859Z"
    },
    "papermill": {
     "duration": 0.034868,
     "end_time": "2021-11-01T09:31:53.334704",
     "exception": false,
     "start_time": "2021-11-01T09:31:53.299836",
     "status": "completed"
    },
    "tags": []
   },
   "outputs": [],
   "source": [
    "# Load in the data\n",
    "data = pd.read_csv('../input/moore-law/moore.csv', header=None).values\n",
    "X = data[:,0].reshape(-1, 1) # make it a 2-D array of size N x D where D = 1\n",
    "Y = data[:,1]"
   ]
  },
  {
   "cell_type": "code",
   "execution_count": 3,
   "id": "a1eb532d",
   "metadata": {
    "execution": {
     "iopub.execute_input": "2021-11-01T09:31:53.362596Z",
     "iopub.status.busy": "2021-11-01T09:31:53.361887Z",
     "iopub.status.idle": "2021-11-01T09:31:53.614042Z",
     "shell.execute_reply": "2021-11-01T09:31:53.613188Z",
     "shell.execute_reply.started": "2021-11-01T09:25:53.190996Z"
    },
    "papermill": {
     "duration": 0.268017,
     "end_time": "2021-11-01T09:31:53.614241",
     "exception": false,
     "start_time": "2021-11-01T09:31:53.346224",
     "status": "completed"
    },
    "tags": []
   },
   "outputs": [
    {
     "data": {
      "text/plain": [
       "<matplotlib.collections.PathCollection at 0x7f76dc5ddf50>"
      ]
     },
     "execution_count": 3,
     "metadata": {},
     "output_type": "execute_result"
    },
    {
     "data": {
      "image/png": "[encoded data removed]",
      "text/plain": [
       "<Figure size 432x288 with 1 Axes>"
      ]
     },
     "metadata": {
      "needs_background": "light"
     },
     "output_type": "display_data"
    }
   ],
   "source": [
    "# Plot the data - it is exponential!\n",
    "plt.scatter(X, Y)"
   ]
  },
  {
   "cell_type": "code",
   "execution_count": 4,
   "id": "c59074d1",
   "metadata": {
    "execution": {
     "iopub.execute_input": "2021-11-01T09:31:53.672640Z",
     "iopub.status.busy": "2021-11-01T09:31:53.671069Z",
     "iopub.status.idle": "2021-11-01T09:31:53.898848Z",
     "shell.execute_reply": "2021-11-01T09:31:53.898156Z",
     "shell.execute_reply.started": "2021-11-01T09:25:53.404400Z"
    },
    "papermill": {
     "duration": 0.271815,
     "end_time": "2021-11-01T09:31:53.899032",
     "exception": false,
     "start_time": "2021-11-01T09:31:53.627217",
     "status": "completed"
    },
    "tags": []
   },
   "outputs": [
    {
     "data": {
      "text/plain": [
       "<matplotlib.collections.PathCollection at 0x7f76d4487210>"
      ]
     },
     "execution_count": 4,
     "metadata": {},
     "output_type": "execute_result"
    },
    {
     "data": {
      "image/png": "[encoded data removed]",
      "text/plain": [
       "<Figure size 432x288 with 1 Axes>"
      ]
     },
     "metadata": {
      "needs_background": "light"
     },
     "output_type": "display_data"
    }
   ],
   "source": [
    "# Since we want a linear model, let's take the log\n",
    "Y = np.log(Y)\n",
    "plt.scatter(X, Y)"
   ]
  },
  {
   "cell_type": "code",
   "execution_count": 5,
   "id": "fd722ae6",
   "metadata": {
    "execution": {
     "iopub.execute_input": "2021-11-01T09:31:53.933113Z",
     "iopub.status.busy": "2021-11-01T09:31:53.932124Z",
     "iopub.status.idle": "2021-11-01T09:31:53.934428Z",
     "shell.execute_reply": "2021-11-01T09:31:53.934944Z",
     "shell.execute_reply.started": "2021-11-01T09:25:53.632442Z"
    },
    "papermill": {
     "duration": 0.021952,
     "end_time": "2021-11-01T09:31:53.935119",
     "exception": false,
     "start_time": "2021-11-01T09:31:53.913167",
     "status": "completed"
    },
    "tags": []
   },
   "outputs": [],
   "source": [
    "# Let's also center the X data so the values are not too large\n",
    "# We could scale it too but then we'd have to reverse the transformation later\n",
    "X = X - X.mean()\n"
   ]
  },
  {
   "cell_type": "code",
   "execution_count": 6,
   "id": "ddd9b2c6",
   "metadata": {
    "execution": {
     "iopub.execute_input": "2021-11-01T09:31:53.966981Z",
     "iopub.status.busy": "2021-11-01T09:31:53.965941Z",
     "iopub.status.idle": "2021-11-01T09:31:58.315584Z",
     "shell.execute_reply": "2021-11-01T09:31:58.314966Z",
     "shell.execute_reply.started": "2021-11-01T09:25:53.638977Z"
    },
    "papermill": {
     "duration": 4.366985,
     "end_time": "2021-11-01T09:31:58.315746",
     "exception": false,
     "start_time": "2021-11-01T09:31:53.948761",
     "status": "completed"
    },
    "tags": []
   },
   "outputs": [
    {
     "name": "stderr",
     "output_type": "stream",
     "text": [
      "\n",
      "User settings:\n",
      "\n",
      "   KMP_AFFINITY=granularity=fine,verbose,compact,1,0\n",
      "   KMP_BLOCKTIME=0\n",
      "   KMP_SETTINGS=1\n",
      "   KMP_WARNINGS=0\n",
      "\n",
      "Effective settings:\n",
      "\n",
      "   KMP_ABORT_DELAY=0\n",
      "   KMP_ADAPTIVE_LOCK_PROPS='1,1024'\n",
      "   KMP_ALIGN_ALLOC=64\n",
      "   KMP_ALL_THREADPRIVATE=128\n",
      "   KMP_ATOMIC_MODE=2\n",
      "   KMP_BLOCKTIME=0\n",
      "   KMP_CPUINFO_FILE: value is not defined\n",
      "   KMP_DETERMINISTIC_REDUCTION=false\n",
      "   KMP_DEVICE_THREAD_LIMIT=2147483647\n",
      "   KMP_DISP_NUM_BUFFERS=7\n",
      "   KMP_DUPLICATE_LIB_OK=false\n",
      "   KMP_ENABLE_TASK_THROTTLING=true\n",
      "   KMP_FORCE_REDUCTION: value is not defined\n",
      "   KMP_FOREIGN_THREADS_THREADPRIVATE=true\n",
      "   KMP_FORKJOIN_BARRIER='2,2'\n",
      "   KMP_FORKJOIN_BARRIER_PATTERN='hyper,hyper'\n",
      "   KMP_GTID_MODE=3\n",
      "   KMP_HANDLE_SIGNALS=false\n",
      "   KMP_HOT_TEAMS_MAX_LEVEL=1\n",
      "   KMP_HOT_TEAMS_MODE=0\n",
      "   KMP_INIT_AT_FORK=true\n",
      "   KMP_LIBRARY=throughput\n",
      "   KMP_LOCK_KIND=queuing\n",
      "   KMP_MALLOC_POOL_INCR=1M\n",
      "   KMP_NUM_LOCKS_IN_BLOCK=1\n",
      "   KMP_PLAIN_BARRIER='2,2'\n",
      "   KMP_PLAIN_BARRIER_PATTERN='hyper,hyper'\n",
      "   KMP_REDUCTION_BARRIER='1,1'\n",
      "   KMP_REDUCTION_BARRIER_PATTERN='hyper,hyper'\n",
      "   KMP_SCHEDULE='static,balanced;guided,iterative'\n",
      "   KMP_SETTINGS=true\n",
      "   KMP_SPIN_BACKOFF_PARAMS='4096,100'\n",
      "   KMP_STACKOFFSET=64\n",
      "   KMP_STACKPAD=0\n",
      "   KMP_STACKSIZE=8M\n",
      "   KMP_STORAGE_MAP=false\n",
      "   KMP_TASKING=2\n",
      "   KMP_TASKLOOP_MIN_TASKS=0\n",
      "   KMP_TASK_STEALING_CONSTRAINT=1\n",
      "   KMP_TEAMS_THREAD_LIMIT=4\n",
      "   KMP_TOPOLOGY_METHOD=all\n",
      "   KMP_USE_YIELD=1\n",
      "   KMP_VERSION=false\n",
      "   KMP_WARNINGS=false\n",
      "   OMP_AFFINITY_FORMAT='OMP: pid %P tid %i thread %n bound to OS proc set {%A}'\n",
      "   OMP_ALLOCATOR=omp_default_mem_alloc\n",
      "   OMP_CANCELLATION=false\n",
      "   OMP_DEFAULT_DEVICE=0\n",
      "   OMP_DISPLAY_AFFINITY=false\n",
      "   OMP_DISPLAY_ENV=false\n",
      "   OMP_DYNAMIC=false\n",
      "   OMP_MAX_ACTIVE_LEVELS=1\n",
      "   OMP_MAX_TASK_PRIORITY=0\n",
      "   OMP_NESTED: deprecated; max-active-levels-var=1\n",
      "   OMP_NUM_THREADS: value is not defined\n",
      "   OMP_PLACES: value is not defined\n",
      "   OMP_PROC_BIND='intel'\n",
      "   OMP_SCHEDULE='static'\n",
      "   OMP_STACKSIZE=8M\n",
      "   OMP_TARGET_OFFLOAD=DEFAULT\n",
      "   OMP_THREAD_LIMIT=2147483647\n",
      "   OMP_WAIT_POLICY=PASSIVE\n",
      "   KMP_AFFINITY='verbose,warnings,respect,granularity=fine,compact,1,0'\n",
      "\n",
      "2021-11-01 09:31:55.085701: I tensorflow/core/common_runtime/process_util.cc:146] Creating new thread pool with default inter op setting: 2. Tune using inter_op_parallelism_threads for best performance.\n",
      "2021-11-01 09:31:55.226756: I tensorflow/compiler/mlir/mlir_graph_optimization_pass.cc:185] None of the MLIR Optimization Passes are enabled (registered 2)\n"
     ]
    },
    {
     "name": "stdout",
     "output_type": "stream",
     "text": [
      "Epoch 1/200\n",
      "6/6 [==============================] - 1s 2ms/step - loss: 405.2039\n",
      "Epoch 2/200\n",
      "6/6 [==============================] - 0s 1ms/step - loss: 327.2491\n",
      "Epoch 3/200\n",
      "6/6 [==============================] - 0s 1ms/step - loss: 247.0356\n",
      "Epoch 4/200\n",
      "6/6 [==============================] - 0s 1ms/step - loss: 204.2453\n",
      "Epoch 5/200\n",
      "6/6 [==============================] - 0s 1ms/step - loss: 174.9512\n",
      "Epoch 6/200\n",
      "6/6 [==============================] - 0s 1ms/step - loss: 138.0818\n",
      "Epoch 7/200\n",
      "6/6 [==============================] - 0s 1ms/step - loss: 86.7780\n",
      "Epoch 8/200\n",
      "6/6 [==============================] - 0s 1ms/step - loss: 63.5052\n",
      "Epoch 9/200\n",
      "6/6 [==============================] - 0s 1ms/step - loss: 51.5740\n",
      "Epoch 10/200\n",
      "6/6 [==============================] - 0s 1ms/step - loss: 34.6747\n",
      "Epoch 11/200\n",
      "6/6 [==============================] - 0s 1ms/step - loss: 25.0678\n",
      "Epoch 12/200\n",
      "6/6 [==============================] - 0s 1ms/step - loss: 23.5557\n",
      "Epoch 13/200\n",
      "6/6 [==============================] - 0s 1ms/step - loss: 17.0034\n",
      "Epoch 14/200\n",
      "6/6 [==============================] - 0s 1ms/step - loss: 12.5238\n",
      "Epoch 15/200\n",
      "6/6 [==============================] - 0s 1ms/step - loss: 12.4510\n",
      "Epoch 16/200\n",
      "6/6 [==============================] - 0s 1ms/step - loss: 11.3725\n",
      "Epoch 17/200\n",
      "6/6 [==============================] - 0s 1ms/step - loss: 6.7121\n",
      "Epoch 18/200\n",
      "6/6 [==============================] - 0s 1ms/step - loss: 8.8836\n",
      "Epoch 19/200\n",
      "6/6 [==============================] - 0s 1ms/step - loss: 7.4099\n",
      "Epoch 20/200\n",
      "6/6 [==============================] - 0s 1ms/step - loss: 6.3839\n",
      "Epoch 21/200\n",
      "6/6 [==============================] - 0s 1ms/step - loss: 3.5444\n",
      "Epoch 22/200\n",
      "6/6 [==============================] - 0s 1ms/step - loss: 2.6965\n",
      "Epoch 23/200\n",
      "6/6 [==============================] - 0s 1ms/step - loss: 2.7377\n",
      "Epoch 24/200\n",
      "6/6 [==============================] - 0s 1ms/step - loss: 1.8077\n",
      "Epoch 25/200\n",
      "6/6 [==============================] - 0s 1ms/step - loss: 1.6100\n",
      "Epoch 26/200\n",
      "6/6 [==============================] - 0s 1ms/step - loss: 1.2824\n",
      "Epoch 27/200\n",
      "6/6 [==============================] - 0s 1ms/step - loss: 1.2142\n",
      "Epoch 28/200\n",
      "6/6 [==============================] - 0s 1ms/step - loss: 1.7200\n",
      "Epoch 29/200\n",
      "6/6 [==============================] - 0s 1ms/step - loss: 1.4547\n",
      "Epoch 30/200\n",
      "6/6 [==============================] - 0s 1ms/step - loss: 1.1882\n",
      "Epoch 31/200\n",
      "6/6 [==============================] - 0s 1ms/step - loss: 1.1465\n",
      "Epoch 32/200\n",
      "6/6 [==============================] - 0s 1ms/step - loss: 0.9209\n",
      "Epoch 33/200\n",
      "6/6 [==============================] - 0s 1ms/step - loss: 0.8962\n",
      "Epoch 34/200\n",
      "6/6 [==============================] - 0s 1ms/step - loss: 0.9641\n",
      "Epoch 35/200\n",
      "6/6 [==============================] - 0s 1ms/step - loss: 0.9809\n",
      "Epoch 36/200\n",
      "6/6 [==============================] - 0s 1ms/step - loss: 0.9400\n",
      "Epoch 37/200\n",
      "6/6 [==============================] - 0s 1ms/step - loss: 1.0014\n",
      "Epoch 38/200\n",
      "6/6 [==============================] - 0s 1ms/step - loss: 0.9108\n",
      "Epoch 39/200\n",
      "6/6 [==============================] - 0s 1ms/step - loss: 0.8913\n",
      "Epoch 40/200\n",
      "6/6 [==============================] - 0s 1ms/step - loss: 1.0215\n",
      "Epoch 41/200\n",
      "6/6 [==============================] - 0s 1ms/step - loss: 0.9627\n",
      "Epoch 42/200\n",
      "6/6 [==============================] - 0s 1ms/step - loss: 0.9178\n",
      "Epoch 43/200\n",
      "6/6 [==============================] - 0s 1ms/step - loss: 0.9016\n",
      "Epoch 44/200\n",
      "6/6 [==============================] - 0s 1ms/step - loss: 0.8885\n",
      "Epoch 45/200\n",
      "6/6 [==============================] - 0s 1ms/step - loss: 1.0255\n",
      "Epoch 46/200\n",
      "6/6 [==============================] - 0s 1ms/step - loss: 0.9547\n",
      "Epoch 47/200\n",
      "6/6 [==============================] - 0s 1ms/step - loss: 0.9452\n",
      "Epoch 48/200\n",
      "6/6 [==============================] - 0s 1ms/step - loss: 0.8816\n",
      "Epoch 49/200\n",
      "6/6 [==============================] - 0s 1ms/step - loss: 0.9020\n",
      "Epoch 50/200\n",
      "6/6 [==============================] - 0s 1ms/step - loss: 0.8850\n",
      "Epoch 51/200\n",
      "6/6 [==============================] - 0s 1ms/step - loss: 1.1094\n",
      "Epoch 52/200\n",
      "6/6 [==============================] - 0s 1ms/step - loss: 1.2351\n",
      "Epoch 53/200\n",
      "6/6 [==============================] - 0s 988us/step - loss: 0.8833\n",
      "Epoch 54/200\n",
      "6/6 [==============================] - 0s 1ms/step - loss: 0.9165\n",
      "Epoch 55/200\n",
      "6/6 [==============================] - 0s 1ms/step - loss: 0.8904\n",
      "Epoch 56/200\n",
      "6/6 [==============================] - 0s 1ms/step - loss: 0.8774\n",
      "Epoch 57/200\n",
      "6/6 [==============================] - 0s 1ms/step - loss: 0.8792\n",
      "Epoch 58/200\n",
      "6/6 [==============================] - 0s 1ms/step - loss: 0.8796\n",
      "Epoch 59/200\n",
      "6/6 [==============================] - 0s 1ms/step - loss: 0.8759\n",
      "Epoch 60/200\n",
      "6/6 [==============================] - 0s 1ms/step - loss: 0.8748\n",
      "Epoch 61/200\n",
      "6/6 [==============================] - 0s 1ms/step - loss: 0.8792\n",
      "Epoch 62/200\n",
      "6/6 [==============================] - 0s 1ms/step - loss: 0.9045\n",
      "Epoch 63/200\n",
      "6/6 [==============================] - 0s 1ms/step - loss: 0.9025\n",
      "Epoch 64/200\n",
      "6/6 [==============================] - 0s 2ms/step - loss: 0.8758\n",
      "Epoch 65/200\n",
      "6/6 [==============================] - 0s 1ms/step - loss: 0.8744\n",
      "Epoch 66/200\n",
      "6/6 [==============================] - 0s 1ms/step - loss: 0.8810\n",
      "Epoch 67/200\n",
      "6/6 [==============================] - 0s 1ms/step - loss: 0.8767\n",
      "Epoch 68/200\n",
      "6/6 [==============================] - 0s 1ms/step - loss: 0.8753\n",
      "Epoch 69/200\n",
      "6/6 [==============================] - 0s 1ms/step - loss: 0.8756\n",
      "Epoch 70/200\n",
      "6/6 [==============================] - 0s 1ms/step - loss: 0.8754\n",
      "Epoch 71/200\n",
      "6/6 [==============================] - 0s 1ms/step - loss: 0.8778\n",
      "Epoch 72/200\n",
      "6/6 [==============================] - 0s 1ms/step - loss: 0.8829\n",
      "Epoch 73/200\n",
      "6/6 [==============================] - 0s 1ms/step - loss: 0.8852\n",
      "Epoch 74/200\n",
      "6/6 [==============================] - 0s 2ms/step - loss: 0.8848\n",
      "Epoch 75/200\n",
      "6/6 [==============================] - 0s 1ms/step - loss: 0.8811\n",
      "Epoch 76/200\n",
      "6/6 [==============================] - 0s 1ms/step - loss: 0.8757\n",
      "Epoch 77/200\n",
      "6/6 [==============================] - 0s 1ms/step - loss: 0.8740\n",
      "Epoch 78/200\n",
      "6/6 [==============================] - 0s 1ms/step - loss: 0.8758\n",
      "Epoch 79/200\n",
      "6/6 [==============================] - 0s 1ms/step - loss: 0.8773\n",
      "Epoch 80/200\n",
      "6/6 [==============================] - 0s 2ms/step - loss: 0.8789\n",
      "Epoch 81/200\n",
      "6/6 [==============================] - 0s 1ms/step - loss: 0.8741\n",
      "Epoch 82/200\n",
      "6/6 [==============================] - 0s 1ms/step - loss: 0.8749\n",
      "Epoch 83/200\n",
      "6/6 [==============================] - 0s 1ms/step - loss: 0.8757\n",
      "Epoch 84/200\n",
      "6/6 [==============================] - 0s 1ms/step - loss: 0.8788\n",
      "Epoch 85/200\n",
      "6/6 [==============================] - 0s 1ms/step - loss: 0.8749\n",
      "Epoch 86/200\n",
      "6/6 [==============================] - 0s 1ms/step - loss: 0.8833\n",
      "Epoch 87/200\n",
      "6/6 [==============================] - 0s 1ms/step - loss: 0.8841\n",
      "Epoch 88/200\n",
      "6/6 [==============================] - 0s 1ms/step - loss: 0.8769\n",
      "Epoch 89/200\n",
      "6/6 [==============================] - 0s 1ms/step - loss: 0.8742\n",
      "Epoch 90/200\n",
      "6/6 [==============================] - 0s 1ms/step - loss: 0.8735\n",
      "Epoch 91/200\n",
      "6/6 [==============================] - 0s 1ms/step - loss: 0.8720\n",
      "Epoch 92/200\n",
      "6/6 [==============================] - 0s 1ms/step - loss: 0.8783\n",
      "Epoch 93/200\n",
      "6/6 [==============================] - 0s 1ms/step - loss: 0.8794\n",
      "Epoch 94/200\n",
      "6/6 [==============================] - 0s 1ms/step - loss: 0.8718\n",
      "Epoch 95/200\n",
      "6/6 [==============================] - 0s 1ms/step - loss: 0.8915\n",
      "Epoch 96/200\n",
      "6/6 [==============================] - 0s 1ms/step - loss: 0.8791\n",
      "Epoch 97/200\n",
      "6/6 [==============================] - 0s 1ms/step - loss: 0.8902\n",
      "Epoch 98/200\n",
      "6/6 [==============================] - 0s 1ms/step - loss: 0.8982\n",
      "Epoch 99/200\n",
      "6/6 [==============================] - 0s 1ms/step - loss: 0.8765\n",
      "Epoch 100/200\n",
      "6/6 [==============================] - 0s 1ms/step - loss: 0.8708\n",
      "Epoch 101/200\n",
      "6/6 [==============================] - 0s 1ms/step - loss: 0.8935\n",
      "Epoch 102/200\n",
      "6/6 [==============================] - 0s 1ms/step - loss: 0.8840\n",
      "Epoch 103/200\n",
      "6/6 [==============================] - 0s 1ms/step - loss: 0.8797\n",
      "Epoch 104/200\n",
      "6/6 [==============================] - 0s 1ms/step - loss: 0.9167\n",
      "Epoch 105/200\n",
      "6/6 [==============================] - 0s 1ms/step - loss: 0.8990\n",
      "Epoch 106/200\n",
      "6/6 [==============================] - 0s 1ms/step - loss: 0.8832\n",
      "Epoch 107/200\n",
      "6/6 [==============================] - 0s 1ms/step - loss: 0.9015\n",
      "Epoch 108/200\n",
      "6/6 [==============================] - 0s 1ms/step - loss: 0.8767\n",
      "Epoch 109/200\n",
      "6/6 [==============================] - 0s 1ms/step - loss: 0.8692\n",
      "Epoch 110/200\n",
      "6/6 [==============================] - 0s 1ms/step - loss: 0.8746\n",
      "Epoch 111/200\n",
      "6/6 [==============================] - 0s 1ms/step - loss: 0.8780\n",
      "Epoch 112/200\n",
      "6/6 [==============================] - 0s 1ms/step - loss: 0.8820\n",
      "Epoch 113/200\n",
      "6/6 [==============================] - 0s 1ms/step - loss: 0.8728\n",
      "Epoch 114/200\n",
      "6/6 [==============================] - 0s 1ms/step - loss: 0.8953\n",
      "Epoch 115/200\n",
      "6/6 [==============================] - 0s 1ms/step - loss: 0.8968\n",
      "Epoch 116/200\n",
      "6/6 [==============================] - 0s 1ms/step - loss: 0.8718\n",
      "Epoch 117/200\n",
      "6/6 [==============================] - 0s 1ms/step - loss: 0.8728\n",
      "Epoch 118/200\n",
      "6/6 [==============================] - 0s 2ms/step - loss: 0.8818\n",
      "Epoch 119/200\n",
      "6/6 [==============================] - 0s 2ms/step - loss: 0.8743\n",
      "Epoch 120/200\n",
      "6/6 [==============================] - 0s 2ms/step - loss: 0.8748\n",
      "Epoch 121/200\n",
      "6/6 [==============================] - 0s 1ms/step - loss: 0.8696\n",
      "Epoch 122/200\n",
      "6/6 [==============================] - 0s 1ms/step - loss: 0.8786\n",
      "Epoch 123/200\n",
      "6/6 [==============================] - 0s 1ms/step - loss: 0.9281\n",
      "Epoch 124/200\n",
      "6/6 [==============================] - 0s 1ms/step - loss: 0.9079\n",
      "Epoch 125/200\n",
      "6/6 [==============================] - 0s 1ms/step - loss: 0.8701\n",
      "Epoch 126/200\n",
      "6/6 [==============================] - 0s 1ms/step - loss: 0.8778\n",
      "Epoch 127/200\n",
      "6/6 [==============================] - 0s 1ms/step - loss: 0.8877\n",
      "Epoch 128/200\n",
      "6/6 [==============================] - 0s 1ms/step - loss: 0.8738\n",
      "Epoch 129/200\n",
      "6/6 [==============================] - 0s 1ms/step - loss: 0.8834\n",
      "Epoch 130/200\n",
      "6/6 [==============================] - 0s 1ms/step - loss: 0.8747\n",
      "Epoch 131/200\n",
      "6/6 [==============================] - 0s 1ms/step - loss: 0.8721\n",
      "Epoch 132/200\n",
      "6/6 [==============================] - 0s 1ms/step - loss: 0.8749\n",
      "Epoch 133/200\n",
      "6/6 [==============================] - 0s 1ms/step - loss: 0.8701\n",
      "Epoch 134/200\n",
      "6/6 [==============================] - 0s 1ms/step - loss: 0.8731\n",
      "Epoch 135/200\n",
      "6/6 [==============================] - 0s 1ms/step - loss: 0.8723\n",
      "Epoch 136/200\n",
      "6/6 [==============================] - 0s 1ms/step - loss: 0.8730\n",
      "Epoch 137/200\n",
      "6/6 [==============================] - 0s 1ms/step - loss: 0.8785\n",
      "Epoch 138/200\n",
      "6/6 [==============================] - 0s 1ms/step - loss: 0.8717\n",
      "Epoch 139/200\n",
      "6/6 [==============================] - 0s 1ms/step - loss: 0.8757\n",
      "Epoch 140/200\n",
      "6/6 [==============================] - 0s 1ms/step - loss: 0.8729\n",
      "Epoch 141/200\n",
      "6/6 [==============================] - 0s 1ms/step - loss: 0.8699\n",
      "Epoch 142/200\n",
      "6/6 [==============================] - 0s 1ms/step - loss: 0.8775\n",
      "Epoch 143/200\n",
      "6/6 [==============================] - 0s 1ms/step - loss: 0.8800\n",
      "Epoch 144/200\n",
      "6/6 [==============================] - 0s 974us/step - loss: 0.8707\n",
      "Epoch 145/200\n",
      "6/6 [==============================] - 0s 1ms/step - loss: 0.8705\n",
      "Epoch 146/200\n",
      "6/6 [==============================] - 0s 1ms/step - loss: 0.8789\n",
      "Epoch 147/200\n",
      "6/6 [==============================] - 0s 1ms/step - loss: 0.8774\n",
      "Epoch 148/200\n",
      "6/6 [==============================] - 0s 1ms/step - loss: 0.8709\n",
      "Epoch 149/200\n",
      "6/6 [==============================] - 0s 1ms/step - loss: 0.8713\n",
      "Epoch 150/200\n",
      "6/6 [==============================] - 0s 1ms/step - loss: 0.8703\n",
      "Epoch 151/200\n",
      "6/6 [==============================] - 0s 1ms/step - loss: 0.8855\n",
      "Epoch 152/200\n",
      "6/6 [==============================] - 0s 1ms/step - loss: 0.8769\n",
      "Epoch 153/200\n",
      "6/6 [==============================] - 0s 1ms/step - loss: 0.8717\n",
      "Epoch 154/200\n",
      "6/6 [==============================] - 0s 1ms/step - loss: 0.8714\n",
      "Epoch 155/200\n",
      "6/6 [==============================] - 0s 1ms/step - loss: 0.8750\n",
      "Epoch 156/200\n",
      "6/6 [==============================] - 0s 1ms/step - loss: 0.8729\n",
      "Epoch 157/200\n",
      "6/6 [==============================] - 0s 1ms/step - loss: 0.8734\n",
      "Epoch 158/200\n",
      "6/6 [==============================] - 0s 1ms/step - loss: 0.8721\n",
      "Epoch 159/200\n",
      "6/6 [==============================] - 0s 1ms/step - loss: 0.8745\n",
      "Epoch 160/200\n",
      "6/6 [==============================] - 0s 1ms/step - loss: 0.8722\n",
      "Epoch 161/200\n",
      "6/6 [==============================] - 0s 1ms/step - loss: 0.8715\n",
      "Epoch 162/200\n",
      "6/6 [==============================] - 0s 1ms/step - loss: 0.8734\n",
      "Epoch 163/200\n",
      "6/6 [==============================] - 0s 1ms/step - loss: 0.8816\n",
      "Epoch 164/200\n",
      "6/6 [==============================] - 0s 1ms/step - loss: 0.8727\n",
      "Epoch 165/200\n",
      "6/6 [==============================] - 0s 1ms/step - loss: 0.8711\n",
      "Epoch 166/200\n",
      "6/6 [==============================] - 0s 1ms/step - loss: 0.8707\n",
      "Epoch 167/200\n",
      "6/6 [==============================] - 0s 1ms/step - loss: 0.8716\n",
      "Epoch 168/200\n",
      "6/6 [==============================] - 0s 1ms/step - loss: 0.8724\n",
      "Epoch 169/200\n",
      "6/6 [==============================] - 0s 1ms/step - loss: 0.8726\n",
      "Epoch 170/200\n",
      "6/6 [==============================] - 0s 1ms/step - loss: 0.8715\n",
      "Epoch 171/200\n",
      "6/6 [==============================] - 0s 1ms/step - loss: 0.8720\n",
      "Epoch 172/200\n",
      "6/6 [==============================] - 0s 1ms/step - loss: 0.8744\n",
      "Epoch 173/200\n",
      "6/6 [==============================] - 0s 1ms/step - loss: 0.8774\n",
      "Epoch 174/200\n",
      "6/6 [==============================] - 0s 1ms/step - loss: 0.9127\n",
      "Epoch 175/200\n",
      "6/6 [==============================] - 0s 1ms/step - loss: 0.9240\n",
      "Epoch 176/200\n",
      "6/6 [==============================] - 0s 1ms/step - loss: 0.8735\n",
      "Epoch 177/200\n",
      "6/6 [==============================] - 0s 1ms/step - loss: 0.8975\n",
      "Epoch 178/200\n",
      "6/6 [==============================] - 0s 1ms/step - loss: 0.8816\n",
      "Epoch 179/200\n",
      "6/6 [==============================] - 0s 1ms/step - loss: 0.8726\n",
      "Epoch 180/200\n",
      "6/6 [==============================] - 0s 1ms/step - loss: 0.8847\n",
      "Epoch 181/200\n",
      "6/6 [==============================] - 0s 1ms/step - loss: 0.8719\n",
      "Epoch 182/200\n",
      "6/6 [==============================] - 0s 1ms/step - loss: 0.8777\n",
      "Epoch 183/200\n",
      "6/6 [==============================] - 0s 1ms/step - loss: 0.8941\n",
      "Epoch 184/200\n",
      "6/6 [==============================] - 0s 1ms/step - loss: 0.8659\n",
      "Epoch 185/200\n",
      "6/6 [==============================] - 0s 2ms/step - loss: 0.8728\n",
      "Epoch 186/200\n",
      "6/6 [==============================] - 0s 1ms/step - loss: 0.8719\n",
      "Epoch 187/200\n",
      "6/6 [==============================] - 0s 1ms/step - loss: 0.8853\n",
      "Epoch 188/200\n",
      "6/6 [==============================] - 0s 1ms/step - loss: 0.8704\n",
      "Epoch 189/200\n",
      "6/6 [==============================] - 0s 1ms/step - loss: 0.8824\n",
      "Epoch 190/200\n",
      "6/6 [==============================] - 0s 1ms/step - loss: 0.8743\n",
      "Epoch 191/200\n",
      "6/6 [==============================] - 0s 1ms/step - loss: 0.8845\n",
      "Epoch 192/200\n",
      "6/6 [==============================] - 0s 1ms/step - loss: 0.8991\n",
      "Epoch 193/200\n",
      "6/6 [==============================] - 0s 1ms/step - loss: 0.8799\n",
      "Epoch 194/200\n",
      "6/6 [==============================] - 0s 1ms/step - loss: 0.8746\n",
      "Epoch 195/200\n",
      "6/6 [==============================] - 0s 1ms/step - loss: 0.8905\n",
      "Epoch 196/200\n",
      "6/6 [==============================] - 0s 1ms/step - loss: 0.8869\n",
      "Epoch 197/200\n",
      "6/6 [==============================] - 0s 1ms/step - loss: 0.8746\n",
      "Epoch 198/200\n",
      "6/6 [==============================] - 0s 1ms/step - loss: 0.8704\n",
      "Epoch 199/200\n",
      "6/6 [==============================] - 0s 1ms/step - loss: 0.8970\n",
      "Epoch 200/200\n",
      "6/6 [==============================] - 0s 1ms/step - loss: 0.9017\n"
     ]
    }
   ],
   "source": [
    "# Now create our Tensorflow model\n",
    "model = tf.keras.models.Sequential([\n",
    "  tf.keras.layers.Input(shape=(1,)),\n",
    "  tf.keras.layers.Dense(1)\n",
    "])\n",
    "\n",
    "model.compile(optimizer=tf.keras.optimizers.SGD(0.001, 0.9), loss='mse')\n",
    "# model.compile(optimizer='adam', loss='mse')\n",
    "\n",
    "\n",
    "# learning rate scheduler\n",
    "def schedule(epoch, lr):\n",
    "  if epoch >= 50:\n",
    "    return 0.0001\n",
    "  return 0.001\n",
    " \n",
    "\n",
    "scheduler = tf.keras.callbacks.LearningRateScheduler(schedule)\n",
    "\n",
    "\n",
    "# Train the model\n",
    "r = model.fit(X, Y, epochs=200, callbacks=[scheduler])"
   ]
  },
  {
   "cell_type": "code",
   "execution_count": 7,
   "id": "c83a2cc3",
   "metadata": {
    "execution": {
     "iopub.execute_input": "2021-11-01T09:31:58.653033Z",
     "iopub.status.busy": "2021-11-01T09:31:58.652256Z",
     "iopub.status.idle": "2021-11-01T09:31:58.883827Z",
     "shell.execute_reply": "2021-11-01T09:31:58.883254Z",
     "shell.execute_reply.started": "2021-11-01T09:25:55.983262Z"
    },
    "papermill": {
     "duration": 0.398365,
     "end_time": "2021-11-01T09:31:58.883975",
     "exception": false,
     "start_time": "2021-11-01T09:31:58.485610",
     "status": "completed"
    },
    "tags": []
   },
   "outputs": [
    {
     "data": {
      "text/plain": [
       "[<matplotlib.lines.Line2D at 0x7f76d007b790>]"
      ]
     },
     "execution_count": 7,
     "metadata": {},
     "output_type": "execute_result"
    },
    {
     "data": {
      "image/png": "[encoded data removed]",
      "text/plain": [
       "<Figure size 432x288 with 1 Axes>"
      ]
     },
     "metadata": {
      "needs_background": "light"
     },
     "output_type": "display_data"
    }
   ],
   "source": [
    "# Plot the loss\n",
    "plt.plot(r.history['loss'], label='loss')"
   ]
  },
  {
   "cell_type": "code",
   "execution_count": 8,
   "id": "9745a5e6",
   "metadata": {
    "execution": {
     "iopub.execute_input": "2021-11-01T09:31:59.302683Z",
     "iopub.status.busy": "2021-11-01T09:31:59.301132Z",
     "iopub.status.idle": "2021-11-01T09:31:59.305872Z",
     "shell.execute_reply": "2021-11-01T09:31:59.306388Z",
     "shell.execute_reply.started": "2021-11-01T09:28:17.091273Z"
    },
    "papermill": {
     "duration": 0.259692,
     "end_time": "2021-11-01T09:31:59.306575",
     "exception": false,
     "start_time": "2021-11-01T09:31:59.046883",
     "status": "completed"
    },
    "tags": []
   },
   "outputs": [
    {
     "name": "stdout",
     "output_type": "stream",
     "text": [
      "[array([[0.3478175]], dtype=float32), array([17.770988], dtype=float32)]\n"
     ]
    }
   ],
   "source": [
    "# Get the slope of the line\n",
    "# The slope of the line is related to the doubling rate of transistor count\n",
    "#print(model.layers) # Note: there is only 1 layer, the \"Input\" layer doesn't count\n",
    "print(model.layers[0].get_weights())"
   ]
  },
  {
   "cell_type": "code",
   "execution_count": 9,
   "id": "edde321d",
   "metadata": {
    "execution": {
     "iopub.execute_input": "2021-11-01T09:31:59.642072Z",
     "iopub.status.busy": "2021-11-01T09:31:59.641112Z",
     "iopub.status.idle": "2021-11-01T09:31:59.644863Z",
     "shell.execute_reply": "2021-11-01T09:31:59.645356Z",
     "shell.execute_reply.started": "2021-11-01T09:28:30.532837Z"
    },
    "papermill": {
     "duration": 0.173644,
     "end_time": "2021-11-01T09:31:59.645537",
     "exception": false,
     "start_time": "2021-11-01T09:31:59.471893",
     "status": "completed"
    },
    "tags": []
   },
   "outputs": [
    {
     "name": "stdout",
     "output_type": "stream",
     "text": [
      "0.3478175\n"
     ]
    }
   ],
   "source": [
    "# The slope of the line is:\n",
    "a = model.layers[0].get_weights()[0][0,0]\n",
    "print(a)"
   ]
  },
  {
   "cell_type": "code",
   "execution_count": 10,
   "id": "98e1b7bf",
   "metadata": {
    "execution": {
     "iopub.execute_input": "2021-11-01T09:31:59.981483Z",
     "iopub.status.busy": "2021-11-01T09:31:59.980450Z",
     "iopub.status.idle": "2021-11-01T09:31:59.987489Z",
     "shell.execute_reply": "2021-11-01T09:31:59.986757Z",
     "shell.execute_reply.started": "2021-11-01T09:30:21.541647Z"
    },
    "papermill": {
     "duration": 0.177001,
     "end_time": "2021-11-01T09:31:59.987657",
     "exception": false,
     "start_time": "2021-11-01T09:31:59.810656",
     "status": "completed"
    },
    "tags": []
   },
   "outputs": [
    {
     "name": "stdout",
     "output_type": "stream",
     "text": [
      "Time to double: 1.9928472831332922\n"
     ]
    }
   ],
   "source": [
    "print(\"Time to double:\", np.log(2) / a)"
   ]
  },
  {
   "cell_type": "code",
   "execution_count": 11,
   "id": "3f4d4aa5",
   "metadata": {
    "execution": {
     "iopub.execute_input": "2021-11-01T09:32:00.324438Z",
     "iopub.status.busy": "2021-11-01T09:32:00.323757Z",
     "iopub.status.idle": "2021-11-01T09:32:00.671252Z",
     "shell.execute_reply": "2021-11-01T09:32:00.670655Z",
     "shell.execute_reply.started": "2021-11-01T09:30:46.422088Z"
    },
    "papermill": {
     "duration": 0.516204,
     "end_time": "2021-11-01T09:32:00.671428",
     "exception": false,
     "start_time": "2021-11-01T09:32:00.155224",
     "status": "completed"
    },
    "tags": []
   },
   "outputs": [
    {
     "data": {
      "text/plain": [
       "[<matplotlib.lines.Line2D at 0x7f76b3f89a50>]"
      ]
     },
     "execution_count": 11,
     "metadata": {},
     "output_type": "execute_result"
    },
    {
     "data": {
      "image/png": "[encoded data removed]",
      "text/plain": [
       "<Figure size 432x288 with 1 Axes>"
      ]
     },
     "metadata": {
      "needs_background": "light"
     },
     "output_type": "display_data"
    }
   ],
   "source": [
    "# Make sure the line fits our data\n",
    "Yhat = model.predict(X).flatten()\n",
    "plt.scatter(X, Y)\n",
    "plt.plot(X, Yhat)"
   ]
  },
  {
   "cell_type": "code",
   "execution_count": null,
   "id": "8f73f8e8",
   "metadata": {
    "papermill": {
     "duration": 0.166596,
     "end_time": "2021-11-01T09:32:01.006480",
     "exception": false,
     "start_time": "2021-11-01T09:32:00.839884",
     "status": "completed"
    },
    "tags": []
   },
   "outputs": [],
   "source": []
  }
 ],
 "metadata": {
  "kernelspec": {
   "display_name": "Python 3",
   "language": "python",
   "name": "python3"
  },
  "language_info": {
   "codemirror_mode": {
    "name": "ipython",
    "version": 3
   },
   "file_extension": ".py",
   "mimetype": "text/x-python",
   "name": "python",
   "nbconvert_exporter": "python",
   "pygments_lexer": "ipython3",
   "version": "3.7.10"
  },
  "papermill": {
   "default_parameters": {},
   "duration": 25.696412,
   "end_time": "2021-11-01T09:32:04.613947",
   "environment_variables": {},
   "exception": null,
   "input_path": "__notebook__.ipynb",
   "output_path": "__notebook__.ipynb",
   "parameters": {},
   "start_time": "2021-11-01T09:31:38.917535",
   "version": "2.3.3"
  }
 },
 "nbformat": 4,
 "nbformat_minor": 5
}
