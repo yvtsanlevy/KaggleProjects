{
 "cells": [
  {
   "cell_type": "code",
   "execution_count": 1,
   "id": "3c0aad3d",
   "metadata": {
    "_cell_guid": "b1076dfc-b9ad-4769-8c92-a6c4dae69d19",
    "_uuid": "8f2839f25d086af736a60e9eeb907d3b93b6e0e5",
    "execution": {
     "iopub.execute_input": "2021-11-05T11:03:17.962364Z",
     "iopub.status.busy": "2021-11-05T11:03:17.960859Z",
     "iopub.status.idle": "2021-11-05T11:03:23.390483Z",
     "shell.execute_reply": "2021-11-05T11:03:23.389834Z",
     "shell.execute_reply.started": "2021-11-05T10:49:49.837873Z"
    },
    "papermill": {
     "duration": 5.448502,
     "end_time": "2021-11-05T11:03:23.390627",
     "exception": false,
     "start_time": "2021-11-05T11:03:17.942125",
     "status": "completed"
    },
    "tags": []
   },
   "outputs": [
    {
     "name": "stdout",
     "output_type": "stream",
     "text": [
      "2.6.0\n"
     ]
    }
   ],
   "source": [
    "# It is defined by the kaggle/python Docker image: https://github.com/kaggle/docker-python\n",
    "# For example, here's several helpful packages to load\n",
    "\n",
    "import numpy as np # linear algebra\n",
    "import pandas as pd # data processing, CSV file I/O (e.g. pd.read_csv)\n",
    "import matplotlib.pyplot as plt\n",
    "from keras.utils.np_utils import to_categorical\n",
    "from sklearn.model_selection import train_test_split\n",
    "\n",
    "import tensorflow as tf\n",
    "print(tf.__version__)\n",
    "from tensorflow.keras.layers import Input, Conv2D, Dense, Flatten, Dropout, GlobalMaxPooling2D, MaxPooling2D, BatchNormalization\n",
    "from tensorflow.keras.models import Model"
   ]
  },
  {
   "cell_type": "code",
   "execution_count": 2,
   "id": "9566f20b",
   "metadata": {
    "execution": {
     "iopub.execute_input": "2021-11-05T11:03:23.420927Z",
     "iopub.status.busy": "2021-11-05T11:03:23.420394Z",
     "iopub.status.idle": "2021-11-05T11:03:28.563150Z",
     "shell.execute_reply": "2021-11-05T11:03:28.562670Z",
     "shell.execute_reply.started": "2021-11-05T10:49:55.008504Z"
    },
    "papermill": {
     "duration": 5.158312,
     "end_time": "2021-11-05T11:03:28.563313",
     "exception": false,
     "start_time": "2021-11-05T11:03:23.405001",
     "status": "completed"
    },
    "tags": []
   },
   "outputs": [],
   "source": [
    "train  = pd.read_csv('/kaggle/input/digit-recognizer/train.csv')\n",
    "test = pd.read_csv('/kaggle/input/digit-recognizer/test.csv')"
   ]
  },
  {
   "cell_type": "code",
   "execution_count": 3,
   "id": "1679f86a",
   "metadata": {
    "execution": {
     "iopub.execute_input": "2021-11-05T11:03:28.679426Z",
     "iopub.status.busy": "2021-11-05T11:03:28.596812Z",
     "iopub.status.idle": "2021-11-05T11:03:28.682832Z",
     "shell.execute_reply": "2021-11-05T11:03:28.683274Z",
     "shell.execute_reply.started": "2021-11-05T10:50:00.134407Z"
    },
    "papermill": {
     "duration": 0.107839,
     "end_time": "2021-11-05T11:03:28.683435",
     "exception": false,
     "start_time": "2021-11-05T11:03:28.575596",
     "status": "completed"
    },
    "tags": []
   },
   "outputs": [
    {
     "name": "stdout",
     "output_type": "stream",
     "text": [
      "x_train = (42000, 784)\n",
      "test = (28000, 784)\n"
     ]
    }
   ],
   "source": [
    "# Create the X_train and y_train variables \n",
    "x_train = train.drop('label', axis=1)\n",
    "y_train = train.label\n",
    "print(f'x_train = {x_train.shape}')\n",
    "print(f'test = {test.shape}')"
   ]
  },
  {
   "cell_type": "code",
   "execution_count": 4,
   "id": "3a05ed72",
   "metadata": {
    "execution": {
     "iopub.execute_input": "2021-11-05T11:03:28.718431Z",
     "iopub.status.busy": "2021-11-05T11:03:28.717848Z",
     "iopub.status.idle": "2021-11-05T11:03:28.720877Z",
     "shell.execute_reply": "2021-11-05T11:03:28.721292Z",
     "shell.execute_reply.started": "2021-11-05T10:50:00.233930Z"
    },
    "papermill": {
     "duration": 0.025324,
     "end_time": "2021-11-05T11:03:28.721416",
     "exception": false,
     "start_time": "2021-11-05T11:03:28.696092",
     "status": "completed"
    },
    "tags": []
   },
   "outputs": [
    {
     "name": "stdout",
     "output_type": "stream",
     "text": [
      "number of classes: 10\n"
     ]
    }
   ],
   "source": [
    "# number of classes\n",
    "K = len(set(y_train))\n",
    "print(\"number of classes:\", K)"
   ]
  },
  {
   "cell_type": "code",
   "execution_count": 5,
   "id": "b15f3f32",
   "metadata": {
    "execution": {
     "iopub.execute_input": "2021-11-05T11:03:28.761194Z",
     "iopub.status.busy": "2021-11-05T11:03:28.760250Z",
     "iopub.status.idle": "2021-11-05T11:03:29.289410Z",
     "shell.execute_reply": "2021-11-05T11:03:29.289980Z",
     "shell.execute_reply.started": "2021-11-05T10:50:00.246771Z"
    },
    "papermill": {
     "duration": 0.556322,
     "end_time": "2021-11-05T11:03:29.290192",
     "exception": false,
     "start_time": "2021-11-05T11:03:28.733870",
     "status": "completed"
    },
    "tags": []
   },
   "outputs": [
    {
     "name": "stdout",
     "output_type": "stream",
     "text": [
      "x_train = (33600, 28, 28, 1)\n",
      "test = (28000, 28, 28, 1)\n"
     ]
    }
   ],
   "source": [
    "# Normalize the data \n",
    "x_train = x_train / 255.0\n",
    "test = test / 255.0\n",
    "\n",
    "# Reshape the data\n",
    "x_train = x_train.values.reshape(-1, 28, 28, 1)\n",
    "test = test.values.reshape(-1, 28, 28, 1)\n",
    "\n",
    "# label encoding \n",
    "y_train = to_categorical(y_train, num_classes = 10)\n",
    "\n",
    "# Split the data\n",
    "x_train, x_test, y_train, y_test = train_test_split(x_train, y_train, test_size=0.2, random_state=5)\n",
    "\n",
    "print(f'x_train = {x_train.shape}')\n",
    "print(f'test = {test.shape}')"
   ]
  },
  {
   "cell_type": "code",
   "execution_count": 6,
   "id": "65adcb98",
   "metadata": {
    "execution": {
     "iopub.execute_input": "2021-11-05T11:03:29.322897Z",
     "iopub.status.busy": "2021-11-05T11:03:29.322170Z",
     "iopub.status.idle": "2021-11-05T11:03:29.325238Z",
     "shell.execute_reply": "2021-11-05T11:03:29.325635Z",
     "shell.execute_reply.started": "2021-11-05T10:50:00.779817Z"
    },
    "papermill": {
     "duration": 0.022231,
     "end_time": "2021-11-05T11:03:29.325748",
     "exception": false,
     "start_time": "2021-11-05T11:03:29.303517",
     "status": "completed"
    },
    "tags": []
   },
   "outputs": [
    {
     "data": {
      "text/plain": [
       "(28, 28, 1)"
      ]
     },
     "execution_count": 6,
     "metadata": {},
     "output_type": "execute_result"
    }
   ],
   "source": [
    "x_train[0].shape"
   ]
  },
  {
   "cell_type": "code",
   "execution_count": 7,
   "id": "683cde26",
   "metadata": {
    "execution": {
     "iopub.execute_input": "2021-11-05T11:03:29.361783Z",
     "iopub.status.busy": "2021-11-05T11:03:29.360835Z",
     "iopub.status.idle": "2021-11-05T11:03:32.100416Z",
     "shell.execute_reply": "2021-11-05T11:03:32.101415Z",
     "shell.execute_reply.started": "2021-11-05T10:50:00.789806Z"
    },
    "papermill": {
     "duration": 2.762977,
     "end_time": "2021-11-05T11:03:32.101644",
     "exception": false,
     "start_time": "2021-11-05T11:03:29.338667",
     "status": "completed"
    },
    "tags": []
   },
   "outputs": [
    {
     "name": "stderr",
     "output_type": "stream",
     "text": [
      "2021-11-05 11:03:29.449231: I tensorflow/stream_executor/cuda/cuda_gpu_executor.cc:937] successful NUMA node read from SysFS had negative value (-1), but there must be at least one NUMA node, so returning NUMA node zero\n",
      "2021-11-05 11:03:29.558571: I tensorflow/stream_executor/cuda/cuda_gpu_executor.cc:937] successful NUMA node read from SysFS had negative value (-1), but there must be at least one NUMA node, so returning NUMA node zero\n",
      "2021-11-05 11:03:29.559305: I tensorflow/stream_executor/cuda/cuda_gpu_executor.cc:937] successful NUMA node read from SysFS had negative value (-1), but there must be at least one NUMA node, so returning NUMA node zero\n",
      "2021-11-05 11:03:29.560613: I tensorflow/core/platform/cpu_feature_guard.cc:142] This TensorFlow binary is optimized with oneAPI Deep Neural Network Library (oneDNN) to use the following CPU instructions in performance-critical operations:  AVX2 AVX512F FMA\n",
      "To enable them in other operations, rebuild TensorFlow with the appropriate compiler flags.\n",
      "2021-11-05 11:03:29.562219: I tensorflow/stream_executor/cuda/cuda_gpu_executor.cc:937] successful NUMA node read from SysFS had negative value (-1), but there must be at least one NUMA node, so returning NUMA node zero\n",
      "2021-11-05 11:03:29.563123: I tensorflow/stream_executor/cuda/cuda_gpu_executor.cc:937] successful NUMA node read from SysFS had negative value (-1), but there must be at least one NUMA node, so returning NUMA node zero\n",
      "2021-11-05 11:03:29.563974: I tensorflow/stream_executor/cuda/cuda_gpu_executor.cc:937] successful NUMA node read from SysFS had negative value (-1), but there must be at least one NUMA node, so returning NUMA node zero\n",
      "2021-11-05 11:03:31.397951: I tensorflow/stream_executor/cuda/cuda_gpu_executor.cc:937] successful NUMA node read from SysFS had negative value (-1), but there must be at least one NUMA node, so returning NUMA node zero\n",
      "2021-11-05 11:03:31.398821: I tensorflow/stream_executor/cuda/cuda_gpu_executor.cc:937] successful NUMA node read from SysFS had negative value (-1), but there must be at least one NUMA node, so returning NUMA node zero\n",
      "2021-11-05 11:03:31.399510: I tensorflow/stream_executor/cuda/cuda_gpu_executor.cc:937] successful NUMA node read from SysFS had negative value (-1), but there must be at least one NUMA node, so returning NUMA node zero\n",
      "2021-11-05 11:03:31.400083: I tensorflow/core/common_runtime/gpu/gpu_device.cc:1510] Created device /job:localhost/replica:0/task:0/device:GPU:0 with 15403 MB memory:  -> device: 0, name: Tesla P100-PCIE-16GB, pci bus id: 0000:00:04.0, compute capability: 6.0\n"
     ]
    }
   ],
   "source": [
    "# Build the model using the functional API\n",
    "i = Input(shape=x_train[0].shape)\n",
    "# x = Conv2D(32, (3, 3), strides=2, activation='relu')(i)\n",
    "# x = Conv2D(64, (3, 3), strides=2, activation='relu')(x)\n",
    "# x = Conv2D(128, (3, 3), strides=2, activation='relu')(x)\n",
    "\n",
    "x = Conv2D(32, (3, 3), activation='relu', padding='same')(i)\n",
    "x = BatchNormalization()(x)\n",
    "x = Conv2D(32, (3, 3), activation='relu', padding='same')(x)\n",
    "x = BatchNormalization()(x)\n",
    "x = MaxPooling2D((2, 2))(x)\n",
    "# x = Dropout(0.2)(x)\n",
    "x = Conv2D(64, (3, 3), activation='relu', padding='same')(x)\n",
    "x = BatchNormalization()(x)\n",
    "x = Conv2D(64, (3, 3), activation='relu', padding='same')(x)\n",
    "x = BatchNormalization()(x)\n",
    "x = MaxPooling2D((2, 2))(x)\n",
    "# x = Dropout(0.2)(x)\n",
    "x = Conv2D(128, (3, 3), activation='relu', padding='same')(x)\n",
    "x = BatchNormalization()(x)\n",
    "x = Conv2D(128, (3, 3), activation='relu', padding='same')(x)\n",
    "x = BatchNormalization()(x)\n",
    "x = MaxPooling2D((2, 2))(x)\n",
    "# x = Dropout(0.2)(x)\n",
    "\n",
    "# x = GlobalMaxPooling2D()(x)\n",
    "x = Flatten()(x)\n",
    "x = Dropout(0.2)(x)\n",
    "x = Dense(1024, activation='relu')(x)\n",
    "x = Dropout(0.2)(x)\n",
    "x = Dense(K, activation='softmax')(x)\n",
    "\n",
    "model = Model(i, x)"
   ]
  },
  {
   "cell_type": "code",
   "execution_count": 8,
   "id": "a1188125",
   "metadata": {
    "execution": {
     "iopub.execute_input": "2021-11-05T11:03:32.156320Z",
     "iopub.status.busy": "2021-11-05T11:03:32.155553Z",
     "iopub.status.idle": "2021-11-05T11:03:32.165688Z",
     "shell.execute_reply": "2021-11-05T11:03:32.165046Z",
     "shell.execute_reply.started": "2021-11-05T10:50:03.081921Z"
    },
    "papermill": {
     "duration": 0.042098,
     "end_time": "2021-11-05T11:03:32.165840",
     "exception": false,
     "start_time": "2021-11-05T11:03:32.123742",
     "status": "completed"
    },
    "tags": []
   },
   "outputs": [],
   "source": [
    "# Compile\n",
    "# Note: make sure you are using the GPU for this!\n",
    "model.compile(loss='categorical_crossentropy',\n",
    "              optimizer='rmsprop',\n",
    "              metrics=['accuracy'])"
   ]
  },
  {
   "cell_type": "code",
   "execution_count": 9,
   "id": "fb242c58",
   "metadata": {
    "execution": {
     "iopub.execute_input": "2021-11-05T11:03:32.221594Z",
     "iopub.status.busy": "2021-11-05T11:03:32.217770Z",
     "iopub.status.idle": "2021-11-05T11:03:32.229172Z",
     "shell.execute_reply": "2021-11-05T11:03:32.229765Z",
     "shell.execute_reply.started": "2021-11-05T10:50:03.096625Z"
    },
    "papermill": {
     "duration": 0.041964,
     "end_time": "2021-11-05T11:03:32.229936",
     "exception": false,
     "start_time": "2021-11-05T11:03:32.187972",
     "status": "completed"
    },
    "tags": []
   },
   "outputs": [
    {
     "name": "stdout",
     "output_type": "stream",
     "text": [
      "Model: \"model\"\n",
      "_________________________________________________________________\n",
      "Layer (type)                 Output Shape              Param #   \n",
      "=================================================================\n",
      "input_1 (InputLayer)         [(None, 28, 28, 1)]       0         \n",
      "_________________________________________________________________\n",
      "conv2d (Conv2D)              (None, 28, 28, 32)        320       \n",
      "_________________________________________________________________\n",
      "batch_normalization (BatchNo (None, 28, 28, 32)        128       \n",
      "_________________________________________________________________\n",
      "conv2d_1 (Conv2D)            (None, 28, 28, 32)        9248      \n",
      "_________________________________________________________________\n",
      "batch_normalization_1 (Batch (None, 28, 28, 32)        128       \n",
      "_________________________________________________________________\n",
      "max_pooling2d (MaxPooling2D) (None, 14, 14, 32)        0         \n",
      "_________________________________________________________________\n",
      "conv2d_2 (Conv2D)            (None, 14, 14, 64)        18496     \n",
      "_________________________________________________________________\n",
      "batch_normalization_2 (Batch (None, 14, 14, 64)        256       \n",
      "_________________________________________________________________\n",
      "conv2d_3 (Conv2D)            (None, 14, 14, 64)        36928     \n",
      "_________________________________________________________________\n",
      "batch_normalization_3 (Batch (None, 14, 14, 64)        256       \n",
      "_________________________________________________________________\n",
      "max_pooling2d_1 (MaxPooling2 (None, 7, 7, 64)          0         \n",
      "_________________________________________________________________\n",
      "conv2d_4 (Conv2D)            (None, 7, 7, 128)         73856     \n",
      "_________________________________________________________________\n",
      "batch_normalization_4 (Batch (None, 7, 7, 128)         512       \n",
      "_________________________________________________________________\n",
      "conv2d_5 (Conv2D)            (None, 7, 7, 128)         147584    \n",
      "_________________________________________________________________\n",
      "batch_normalization_5 (Batch (None, 7, 7, 128)         512       \n",
      "_________________________________________________________________\n",
      "max_pooling2d_2 (MaxPooling2 (None, 3, 3, 128)         0         \n",
      "_________________________________________________________________\n",
      "flatten (Flatten)            (None, 1152)              0         \n",
      "_________________________________________________________________\n",
      "dropout (Dropout)            (None, 1152)              0         \n",
      "_________________________________________________________________\n",
      "dense (Dense)                (None, 1024)              1180672   \n",
      "_________________________________________________________________\n",
      "dropout_1 (Dropout)          (None, 1024)              0         \n",
      "_________________________________________________________________\n",
      "dense_1 (Dense)              (None, 10)                10250     \n",
      "=================================================================\n",
      "Total params: 1,479,146\n",
      "Trainable params: 1,478,250\n",
      "Non-trainable params: 896\n",
      "_________________________________________________________________\n"
     ]
    }
   ],
   "source": [
    "# Now that the model is so large, it's useful to summarize it\n",
    "model.summary()"
   ]
  },
  {
   "cell_type": "code",
   "execution_count": 10,
   "id": "b46a35ec",
   "metadata": {
    "execution": {
     "iopub.execute_input": "2021-11-05T11:03:32.288858Z",
     "iopub.status.busy": "2021-11-05T11:03:32.288104Z",
     "iopub.status.idle": "2021-11-05T11:03:32.373227Z",
     "shell.execute_reply": "2021-11-05T11:03:32.372535Z",
     "shell.execute_reply.started": "2021-11-05T10:50:03.117070Z"
    },
    "papermill": {
     "duration": 0.120413,
     "end_time": "2021-11-05T11:03:32.373408",
     "exception": false,
     "start_time": "2021-11-05T11:03:32.252995",
     "status": "completed"
    },
    "tags": []
   },
   "outputs": [],
   "source": [
    "from keras.preprocessing.image import ImageDataGenerator\n",
    "\n",
    "datagen = ImageDataGenerator(\n",
    "        featurewise_center=False,  # set input mean to 0 over the dataset\n",
    "        samplewise_center=False,  # set each sample mean to 0\n",
    "        featurewise_std_normalization=False,  # divide inputs by std of the dataset\n",
    "        samplewise_std_normalization=False,  # divide each input by its std\n",
    "        zca_whitening=False,  # dimesion reduction\n",
    "        rotation_range=5,  # randomly rotate images in the range 5 degrees\n",
    "        zoom_range = 0.1, # Randomly zoom image 10%\n",
    "        width_shift_range=0.1,  # randomly shift images horizontally 10%\n",
    "        height_shift_range=0.1,  # randomly shift images vertically 10%\n",
    "        horizontal_flip=False,  # randomly flip images\n",
    "        vertical_flip=False)  # randomly flip images\n",
    "\n",
    "datagen.fit(x_train)"
   ]
  },
  {
   "cell_type": "code",
   "execution_count": 11,
   "id": "ee001df9",
   "metadata": {
    "execution": {
     "iopub.execute_input": "2021-11-05T11:03:32.423545Z",
     "iopub.status.busy": "2021-11-05T11:03:32.422770Z",
     "iopub.status.idle": "2021-11-05T11:03:32.425329Z",
     "shell.execute_reply": "2021-11-05T11:03:32.424859Z",
     "shell.execute_reply.started": "2021-11-05T10:50:03.205894Z"
    },
    "papermill": {
     "duration": 0.029728,
     "end_time": "2021-11-05T11:03:32.425444",
     "exception": false,
     "start_time": "2021-11-05T11:03:32.395716",
     "status": "completed"
    },
    "tags": []
   },
   "outputs": [],
   "source": [
    "# Set a learning rate annealer\n",
    "from tensorflow.keras import callbacks\n",
    "from keras.callbacks import ReduceLROnPlateau\n",
    "\n",
    "learning_rate_reduction = ReduceLROnPlateau(monitor='val_acc', \n",
    "                                            patience=3,  \n",
    "                                            factor=0.5, \n",
    "                                            min_lr=0.00001)"
   ]
  },
  {
   "cell_type": "code",
   "execution_count": 12,
   "id": "02b45c25",
   "metadata": {
    "execution": {
     "iopub.execute_input": "2021-11-05T11:03:32.458377Z",
     "iopub.status.busy": "2021-11-05T11:03:32.457782Z",
     "iopub.status.idle": "2021-11-05T11:18:19.295137Z",
     "shell.execute_reply": "2021-11-05T11:18:19.294616Z",
     "shell.execute_reply.started": "2021-11-05T10:50:03.213180Z"
    },
    "papermill": {
     "duration": 886.855653,
     "end_time": "2021-11-05T11:18:19.295306",
     "exception": false,
     "start_time": "2021-11-05T11:03:32.439653",
     "status": "completed"
    },
    "tags": []
   },
   "outputs": [
    {
     "name": "stderr",
     "output_type": "stream",
     "text": [
      "2021-11-05 11:03:32.594365: I tensorflow/compiler/mlir/mlir_graph_optimization_pass.cc:185] None of the MLIR Optimization Passes are enabled (registered 2)\n"
     ]
    },
    {
     "name": "stdout",
     "output_type": "stream",
     "text": [
      "Epoch 1/50\n"
     ]
    },
    {
     "name": "stderr",
     "output_type": "stream",
     "text": [
      "2021-11-05 11:03:34.658029: I tensorflow/stream_executor/cuda/cuda_dnn.cc:369] Loaded cuDNN version 8005\n"
     ]
    },
    {
     "name": "stdout",
     "output_type": "stream",
     "text": [
      "373/373 [==============================] - 19s 30ms/step - loss: 0.3892 - accuracy: 0.9141 - val_loss: 0.7734 - val_accuracy: 0.8123\n",
      "Epoch 2/50\n",
      "373/373 [==============================] - 12s 32ms/step - loss: 0.0880 - accuracy: 0.9763 - val_loss: 0.0867 - val_accuracy: 0.9746\n",
      "Epoch 3/50\n",
      "373/373 [==============================] - 11s 31ms/step - loss: 0.0673 - accuracy: 0.9817 - val_loss: 0.0695 - val_accuracy: 0.9806\n",
      "Epoch 4/50\n",
      "373/373 [==============================] - 11s 30ms/step - loss: 0.0607 - accuracy: 0.9842 - val_loss: 0.0532 - val_accuracy: 0.9868\n",
      "Epoch 5/50\n",
      "373/373 [==============================] - 12s 31ms/step - loss: 0.0534 - accuracy: 0.9857 - val_loss: 0.0353 - val_accuracy: 0.9910\n",
      "Epoch 6/50\n",
      "373/373 [==============================] - 11s 30ms/step - loss: 0.0484 - accuracy: 0.9879 - val_loss: 0.0442 - val_accuracy: 0.9896\n",
      "Epoch 7/50\n",
      "373/373 [==============================] - 12s 32ms/step - loss: 0.0416 - accuracy: 0.9896 - val_loss: 0.0384 - val_accuracy: 0.9910\n",
      "Epoch 8/50\n",
      "373/373 [==============================] - 11s 30ms/step - loss: 0.0436 - accuracy: 0.9887 - val_loss: 0.0664 - val_accuracy: 0.9843\n",
      "Epoch 9/50\n",
      "373/373 [==============================] - 12s 33ms/step - loss: 0.0381 - accuracy: 0.9902 - val_loss: 0.0671 - val_accuracy: 0.9871\n",
      "Epoch 10/50\n",
      "373/373 [==============================] - 11s 29ms/step - loss: 0.0391 - accuracy: 0.9905 - val_loss: 0.0555 - val_accuracy: 0.9877\n",
      "Epoch 11/50\n",
      "373/373 [==============================] - 12s 32ms/step - loss: 0.0377 - accuracy: 0.9910 - val_loss: 0.0606 - val_accuracy: 0.9904\n",
      "Epoch 12/50\n",
      "373/373 [==============================] - 12s 33ms/step - loss: 0.0349 - accuracy: 0.9912 - val_loss: 0.0328 - val_accuracy: 0.9929\n",
      "Epoch 13/50\n",
      "373/373 [==============================] - 11s 29ms/step - loss: 0.0341 - accuracy: 0.9917 - val_loss: 0.0560 - val_accuracy: 0.9888\n",
      "Epoch 14/50\n",
      "373/373 [==============================] - 13s 34ms/step - loss: 0.0346 - accuracy: 0.9921 - val_loss: 0.0366 - val_accuracy: 0.9907\n",
      "Epoch 15/50\n",
      "373/373 [==============================] - 11s 30ms/step - loss: 0.0292 - accuracy: 0.9930 - val_loss: 0.0651 - val_accuracy: 0.9914\n",
      "Epoch 16/50\n",
      "373/373 [==============================] - 13s 34ms/step - loss: 0.0335 - accuracy: 0.9919 - val_loss: 0.0525 - val_accuracy: 0.9915\n",
      "Epoch 17/50\n",
      "373/373 [==============================] - 11s 30ms/step - loss: 0.0299 - accuracy: 0.9935 - val_loss: 0.0654 - val_accuracy: 0.9918\n",
      "Epoch 18/50\n",
      "373/373 [==============================] - 12s 32ms/step - loss: 0.0286 - accuracy: 0.9930 - val_loss: 0.1066 - val_accuracy: 0.9839\n",
      "Epoch 19/50\n",
      "373/373 [==============================] - 12s 31ms/step - loss: 0.0277 - accuracy: 0.9935 - val_loss: 0.0755 - val_accuracy: 0.9874\n",
      "Epoch 20/50\n",
      "373/373 [==============================] - 12s 31ms/step - loss: 0.0260 - accuracy: 0.9940 - val_loss: 0.0440 - val_accuracy: 0.9925\n",
      "Epoch 21/50\n",
      "373/373 [==============================] - 12s 31ms/step - loss: 0.0274 - accuracy: 0.9934 - val_loss: 0.0627 - val_accuracy: 0.9899\n",
      "Epoch 22/50\n",
      "373/373 [==============================] - 12s 32ms/step - loss: 0.0271 - accuracy: 0.9937 - val_loss: 0.0435 - val_accuracy: 0.9920\n",
      "Epoch 23/50\n",
      "373/373 [==============================] - 13s 34ms/step - loss: 0.0234 - accuracy: 0.9947 - val_loss: 0.0491 - val_accuracy: 0.9924\n",
      "Epoch 24/50\n",
      "373/373 [==============================] - 13s 35ms/step - loss: 0.0230 - accuracy: 0.9941 - val_loss: 0.0525 - val_accuracy: 0.9919\n",
      "Epoch 25/50\n",
      "373/373 [==============================] - 12s 33ms/step - loss: 0.0213 - accuracy: 0.9947 - val_loss: 0.0658 - val_accuracy: 0.9919\n",
      "Epoch 26/50\n",
      "373/373 [==============================] - 13s 36ms/step - loss: 0.0232 - accuracy: 0.9945 - val_loss: 0.0521 - val_accuracy: 0.9931\n",
      "Epoch 27/50\n",
      "373/373 [==============================] - 12s 31ms/step - loss: 0.0236 - accuracy: 0.9945 - val_loss: 0.0509 - val_accuracy: 0.9925\n",
      "Epoch 28/50\n",
      "373/373 [==============================] - 12s 33ms/step - loss: 0.0213 - accuracy: 0.9945 - val_loss: 0.0446 - val_accuracy: 0.9926\n",
      "Epoch 29/50\n",
      "373/373 [==============================] - 13s 34ms/step - loss: 0.0204 - accuracy: 0.9953 - val_loss: 0.0525 - val_accuracy: 0.9925\n",
      "Epoch 30/50\n",
      "373/373 [==============================] - 12s 33ms/step - loss: 0.0231 - accuracy: 0.9949 - val_loss: 0.0647 - val_accuracy: 0.9926\n",
      "Epoch 31/50\n",
      "373/373 [==============================] - 11s 30ms/step - loss: 0.0220 - accuracy: 0.9952 - val_loss: 0.0731 - val_accuracy: 0.9910\n",
      "Epoch 32/50\n",
      "373/373 [==============================] - 12s 33ms/step - loss: 0.0206 - accuracy: 0.9950 - val_loss: 0.0538 - val_accuracy: 0.9915\n",
      "Epoch 33/50\n",
      "373/373 [==============================] - 11s 30ms/step - loss: 0.0189 - accuracy: 0.9958 - val_loss: 0.0883 - val_accuracy: 0.9913\n",
      "Epoch 34/50\n",
      "373/373 [==============================] - 13s 35ms/step - loss: 0.0172 - accuracy: 0.9962 - val_loss: 0.0604 - val_accuracy: 0.9915\n",
      "Epoch 35/50\n",
      "373/373 [==============================] - 11s 30ms/step - loss: 0.0182 - accuracy: 0.9959 - val_loss: 0.0616 - val_accuracy: 0.9919\n",
      "Epoch 36/50\n",
      "373/373 [==============================] - 12s 33ms/step - loss: 0.0211 - accuracy: 0.9954 - val_loss: 0.0522 - val_accuracy: 0.9935\n",
      "Epoch 37/50\n",
      "373/373 [==============================] - 12s 31ms/step - loss: 0.0161 - accuracy: 0.9960 - val_loss: 0.0735 - val_accuracy: 0.9927\n",
      "Epoch 38/50\n",
      "373/373 [==============================] - 13s 35ms/step - loss: 0.0209 - accuracy: 0.9954 - val_loss: 0.0525 - val_accuracy: 0.9938\n",
      "Epoch 39/50\n",
      "373/373 [==============================] - 12s 32ms/step - loss: 0.0177 - accuracy: 0.9961 - val_loss: 0.0494 - val_accuracy: 0.9937\n",
      "Epoch 40/50\n",
      "373/373 [==============================] - 13s 35ms/step - loss: 0.0172 - accuracy: 0.9963 - val_loss: 0.0725 - val_accuracy: 0.9926\n",
      "Epoch 41/50\n",
      "373/373 [==============================] - 11s 29ms/step - loss: 0.0188 - accuracy: 0.9958 - val_loss: 0.0589 - val_accuracy: 0.9910\n",
      "Epoch 42/50\n",
      "373/373 [==============================] - 13s 36ms/step - loss: 0.0169 - accuracy: 0.9959 - val_loss: 0.0550 - val_accuracy: 0.9929\n",
      "Epoch 43/50\n",
      "373/373 [==============================] - 11s 29ms/step - loss: 0.0195 - accuracy: 0.9953 - val_loss: 0.0709 - val_accuracy: 0.9913\n",
      "Epoch 44/50\n",
      "373/373 [==============================] - 11s 30ms/step - loss: 0.0157 - accuracy: 0.9963 - val_loss: 0.0616 - val_accuracy: 0.9935\n",
      "Epoch 45/50\n",
      "373/373 [==============================] - 11s 29ms/step - loss: 0.0155 - accuracy: 0.9966 - val_loss: 0.0679 - val_accuracy: 0.9932\n",
      "Epoch 46/50\n",
      "373/373 [==============================] - 13s 36ms/step - loss: 0.0171 - accuracy: 0.9963 - val_loss: 0.0546 - val_accuracy: 0.9935\n",
      "Epoch 47/50\n",
      "373/373 [==============================] - 11s 29ms/step - loss: 0.0152 - accuracy: 0.9966 - val_loss: 0.0667 - val_accuracy: 0.9925\n",
      "Epoch 48/50\n",
      "373/373 [==============================] - 13s 35ms/step - loss: 0.0149 - accuracy: 0.9965 - val_loss: 0.0596 - val_accuracy: 0.9924\n",
      "Epoch 49/50\n",
      "373/373 [==============================] - 11s 29ms/step - loss: 0.0143 - accuracy: 0.9969 - val_loss: 0.0771 - val_accuracy: 0.9918\n",
      "Epoch 50/50\n",
      "373/373 [==============================] - 13s 36ms/step - loss: 0.0186 - accuracy: 0.9961 - val_loss: 0.0518 - val_accuracy: 0.9927\n"
     ]
    }
   ],
   "source": [
    "epochs = 50\n",
    "batch_size = 90\n",
    "\n",
    "history = model.fit(datagen.flow(x_train,y_train, batch_size=batch_size),\n",
    "                              epochs = epochs, validation_data = (x_test,y_test),\n",
    "                              verbose = 1, steps_per_epoch=x_train.shape[0] // batch_size,\n",
    "                              callbacks=[learning_rate_reduction])"
   ]
  },
  {
   "cell_type": "code",
   "execution_count": 13,
   "id": "333b6d00",
   "metadata": {
    "execution": {
     "iopub.execute_input": "2021-11-05T11:18:24.406691Z",
     "iopub.status.busy": "2021-11-05T11:18:24.405855Z",
     "iopub.status.idle": "2021-11-05T11:18:24.643632Z",
     "shell.execute_reply": "2021-11-05T11:18:24.643193Z",
     "shell.execute_reply.started": "2021-11-05T10:52:51.346056Z"
    },
    "papermill": {
     "duration": 2.933578,
     "end_time": "2021-11-05T11:18:24.643752",
     "exception": false,
     "start_time": "2021-11-05T11:18:21.710174",
     "status": "completed"
    },
    "tags": []
   },
   "outputs": [
    {
     "data": {
      "text/plain": [
       "<matplotlib.legend.Legend at 0x7f0c19787b10>"
      ]
     },
     "execution_count": 13,
     "metadata": {},
     "output_type": "execute_result"
    },
    {
     "data": {
      "image/png": "[encoded data removed]",
      "text/plain": [
       "<Figure size 432x288 with 1 Axes>"
      ]
     },
     "metadata": {
      "needs_background": "light"
     },
     "output_type": "display_data"
    }
   ],
   "source": [
    "# Plot loss per iteration\n",
    "import matplotlib.pyplot as plt\n",
    "plt.plot(history.history['loss'], label='loss')\n",
    "plt.plot(history.history['val_loss'], label='val_loss')\n",
    "plt.legend()"
   ]
  },
  {
   "cell_type": "code",
   "execution_count": 14,
   "id": "e5e2da3c",
   "metadata": {
    "execution": {
     "iopub.execute_input": "2021-11-05T11:18:29.533882Z",
     "iopub.status.busy": "2021-11-05T11:18:29.532938Z",
     "iopub.status.idle": "2021-11-05T11:18:29.729995Z",
     "shell.execute_reply": "2021-11-05T11:18:29.730591Z",
     "shell.execute_reply.started": "2021-11-05T10:52:51.595597Z"
    },
    "papermill": {
     "duration": 2.639384,
     "end_time": "2021-11-05T11:18:29.730744",
     "exception": false,
     "start_time": "2021-11-05T11:18:27.091360",
     "status": "completed"
    },
    "tags": []
   },
   "outputs": [
    {
     "data": {
      "text/plain": [
       "<matplotlib.legend.Legend at 0x7f0bfd814e10>"
      ]
     },
     "execution_count": 14,
     "metadata": {},
     "output_type": "execute_result"
    },
    {
     "data": {
      "image/png": "[encoded data removed]",
      "text/plain": [
       "<Figure size 432x288 with 1 Axes>"
      ]
     },
     "metadata": {
      "needs_background": "light"
     },
     "output_type": "display_data"
    }
   ],
   "source": [
    "# Plot accuracy per iteration\n",
    "plt.plot(history.history['accuracy'], label='acc')\n",
    "plt.plot(history.history['val_accuracy'], label='val_acc')\n",
    "plt.legend()"
   ]
  },
  {
   "cell_type": "code",
   "execution_count": 15,
   "id": "68691547",
   "metadata": {
    "execution": {
     "iopub.execute_input": "2021-11-05T11:18:35.393258Z",
     "iopub.status.busy": "2021-11-05T11:18:35.392311Z",
     "iopub.status.idle": "2021-11-05T11:18:38.313418Z",
     "shell.execute_reply": "2021-11-05T11:18:38.312955Z",
     "shell.execute_reply.started": "2021-11-05T10:52:51.801215Z"
    },
    "papermill": {
     "duration": 6.128255,
     "end_time": "2021-11-05T11:18:38.313555",
     "exception": false,
     "start_time": "2021-11-05T11:18:32.185300",
     "status": "completed"
    },
    "tags": []
   },
   "outputs": [
    {
     "data": {
      "text/html": [
       "<div>\n",
       "<style scoped>\n",
       "    .dataframe tbody tr th:only-of-type {\n",
       "        vertical-align: middle;\n",
       "    }\n",
       "\n",
       "    .dataframe tbody tr th {\n",
       "        vertical-align: top;\n",
       "    }\n",
       "\n",
       "    .dataframe thead th {\n",
       "        text-align: right;\n",
       "    }\n",
       "</style>\n",
       "<table border=\"1\" class=\"dataframe\">\n",
       "  <thead>\n",
       "    <tr style=\"text-align: right;\">\n",
       "      <th></th>\n",
       "      <th>ImageId</th>\n",
       "      <th>Label</th>\n",
       "    </tr>\n",
       "  </thead>\n",
       "  <tbody>\n",
       "    <tr>\n",
       "      <th>0</th>\n",
       "      <td>1</td>\n",
       "      <td>2</td>\n",
       "    </tr>\n",
       "    <tr>\n",
       "      <th>1</th>\n",
       "      <td>2</td>\n",
       "      <td>0</td>\n",
       "    </tr>\n",
       "    <tr>\n",
       "      <th>2</th>\n",
       "      <td>3</td>\n",
       "      <td>9</td>\n",
       "    </tr>\n",
       "    <tr>\n",
       "      <th>3</th>\n",
       "      <td>4</td>\n",
       "      <td>0</td>\n",
       "    </tr>\n",
       "    <tr>\n",
       "      <th>4</th>\n",
       "      <td>5</td>\n",
       "      <td>3</td>\n",
       "    </tr>\n",
       "    <tr>\n",
       "      <th>5</th>\n",
       "      <td>6</td>\n",
       "      <td>7</td>\n",
       "    </tr>\n",
       "    <tr>\n",
       "      <th>6</th>\n",
       "      <td>7</td>\n",
       "      <td>0</td>\n",
       "    </tr>\n",
       "    <tr>\n",
       "      <th>7</th>\n",
       "      <td>8</td>\n",
       "      <td>3</td>\n",
       "    </tr>\n",
       "    <tr>\n",
       "      <th>8</th>\n",
       "      <td>9</td>\n",
       "      <td>0</td>\n",
       "    </tr>\n",
       "    <tr>\n",
       "      <th>9</th>\n",
       "      <td>10</td>\n",
       "      <td>3</td>\n",
       "    </tr>\n",
       "  </tbody>\n",
       "</table>\n",
       "</div>"
      ],
      "text/plain": [
       "   ImageId  Label\n",
       "0        1      2\n",
       "1        2      0\n",
       "2        3      9\n",
       "3        4      0\n",
       "4        5      3\n",
       "5        6      7\n",
       "6        7      0\n",
       "7        8      3\n",
       "8        9      0\n",
       "9       10      3"
      ]
     },
     "execution_count": 15,
     "metadata": {},
     "output_type": "execute_result"
    }
   ],
   "source": [
    "res = model.predict(test)\n",
    "res = np.argmax(res,axis = 1)\n",
    "res = pd.Series(res, name=\"Label\")\n",
    "submission = pd.concat([pd.Series(range(1 ,28001) ,name = \"ImageId\"),   res],axis = 1)\n",
    "submission.head(10)"
   ]
  },
  {
   "cell_type": "code",
   "execution_count": 16,
   "id": "d95630d9",
   "metadata": {
    "execution": {
     "iopub.execute_input": "2021-11-05T11:18:43.248909Z",
     "iopub.status.busy": "2021-11-05T11:18:43.248045Z",
     "iopub.status.idle": "2021-11-05T11:18:43.294833Z",
     "shell.execute_reply": "2021-11-05T11:18:43.294401Z",
     "shell.execute_reply.started": "2021-11-05T10:52:53.569136Z"
    },
    "papermill": {
     "duration": 2.520182,
     "end_time": "2021-11-05T11:18:43.294955",
     "exception": false,
     "start_time": "2021-11-05T11:18:40.774773",
     "status": "completed"
    },
    "tags": []
   },
   "outputs": [],
   "source": [
    "submission.to_csv('submission.csv',index=False)\n"
   ]
  }
 ],
 "metadata": {
  "kernelspec": {
   "display_name": "Python 3",
   "language": "python",
   "name": "python3"
  },
  "language_info": {
   "codemirror_mode": {
    "name": "ipython",
    "version": 3
   },
   "file_extension": ".py",
   "mimetype": "text/x-python",
   "name": "python",
   "nbconvert_exporter": "python",
   "pygments_lexer": "ipython3",
   "version": "3.7.10"
  },
  "papermill": {
   "default_parameters": {},
   "duration": 938.499837,
   "end_time": "2021-11-05T11:18:49.049455",
   "environment_variables": {},
   "exception": null,
   "input_path": "__notebook__.ipynb",
   "output_path": "__notebook__.ipynb",
   "parameters": {},
   "start_time": "2021-11-05T11:03:10.549618",
   "version": "2.3.3"
  }
 },
 "nbformat": 4,
 "nbformat_minor": 5
}
