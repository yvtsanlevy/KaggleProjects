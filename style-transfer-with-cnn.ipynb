{
 "cells": [
  {
   "cell_type": "code",
   "execution_count": 1,
   "id": "2f2577d2",
   "metadata": {
    "_cell_guid": "bd0a0c10-6341-43dc-8003-67666d32ab54",
    "_uuid": "b67fe233-4c51-4117-b53c-52464898b24d",
    "collapsed": false,
    "execution": {
     "iopub.execute_input": "2021-11-27T19:47:15.113229Z",
     "iopub.status.busy": "2021-11-27T19:47:15.112150Z",
     "iopub.status.idle": "2021-11-27T19:47:21.232977Z",
     "shell.execute_reply": "2021-11-27T19:47:21.231908Z",
     "shell.execute_reply.started": "2021-11-27T19:44:46.156489Z"
    },
    "jupyter": {
     "outputs_hidden": false
    },
    "papermill": {
     "duration": 6.176691,
     "end_time": "2021-11-27T19:47:21.233234",
     "exception": false,
     "start_time": "2021-11-27T19:47:15.056543",
     "status": "completed"
    },
    "tags": []
   },
   "outputs": [],
   "source": [
    "from __future__ import print_function, division\n",
    "from builtins import range, input\n",
    "\n",
    "from keras.layers import Input, Lambda, Dense, Flatten\n",
    "from keras.layers import AveragePooling2D, MaxPooling2D\n",
    "from keras.layers.convolutional import Conv2D\n",
    "from keras.models import Model, Sequential\n",
    "from keras.applications.vgg16 import VGG16\n",
    "from keras.applications.vgg16 import preprocess_input\n",
    "from keras.preprocessing import image\n",
    "from skimage.transform import resize\n",
    "import tensorflow as tf\n",
    "\n",
    "import keras.backend as K\n",
    "import numpy as np\n",
    "import matplotlib.pyplot as plt\n",
    "\n",
    "from glob import glob\n",
    "import itertools\n",
    "from datetime import datetime\n",
    "\n",
    "import warnings\n",
    "warnings.filterwarnings(\"ignore\")\n",
    "\n",
    "from scipy.optimize import fmin_l_bfgs_b"
   ]
  },
  {
   "cell_type": "code",
   "execution_count": 2,
   "id": "f1460d9d",
   "metadata": {
    "_cell_guid": "bd0a0c10-6341-43dc-8003-67666d32ab54",
    "_uuid": "b67fe233-4c51-4117-b53c-52464898b24d",
    "collapsed": false,
    "execution": {
     "iopub.execute_input": "2021-11-27T19:47:21.290991Z",
     "iopub.status.busy": "2021-11-27T19:47:21.289901Z",
     "iopub.status.idle": "2021-11-27T19:47:21.293036Z",
     "shell.execute_reply": "2021-11-27T19:47:21.293612Z",
     "shell.execute_reply.started": "2021-11-27T19:44:46.253418Z"
    },
    "jupyter": {
     "outputs_hidden": false
    },
    "papermill": {
     "duration": 0.035621,
     "end_time": "2021-11-27T19:47:21.293760",
     "exception": false,
     "start_time": "2021-11-27T19:47:21.258139",
     "status": "completed"
    },
    "tags": []
   },
   "outputs": [],
   "source": [
    "def VGG16_AvgPool(shape):\n",
    "  # we want to account for features across the entire image\n",
    "  # so get rid of the maxpool which throws away information\n",
    "  vgg = VGG16(input_shape=shape, weights='imagenet', include_top=False)\n",
    "  i = vgg.input\n",
    "  x = i\n",
    "  for layer in vgg.layers:\n",
    "    if layer.__class__ == MaxPooling2D:\n",
    "      # replace it with average pooling\n",
    "      x = AveragePooling2D()(x)\n",
    "    else:\n",
    "      x = layer(x)\n",
    "\n",
    "  return Model(i, x)\n",
    "\n",
    "def VGG16_AvgPool_CutOff(shape, num_convs):\n",
    "  # there are 13 convolutions in total\n",
    "  # we can pick any of them as the \"output\"\n",
    "  # of our content model\n",
    "\n",
    "  if num_convs < 1 or num_convs > 13:\n",
    "    print(\"num_convs must be in the range [1, 13]\")\n",
    "    return None\n",
    "\n",
    "  model = VGG16_AvgPool(shape)\n",
    "  n = 0\n",
    "  output = None\n",
    "  for layer in model.layers:\n",
    "    if layer.__class__ == Conv2D:\n",
    "      n += 1\n",
    "    if n >= num_convs:\n",
    "      output = layer.output\n",
    "      break\n",
    "\n",
    "  return Model(model.input, output)"
   ]
  },
  {
   "cell_type": "code",
   "execution_count": 3,
   "id": "779882b4",
   "metadata": {
    "_cell_guid": "bd0a0c10-6341-43dc-8003-67666d32ab54",
    "_uuid": "b67fe233-4c51-4117-b53c-52464898b24d",
    "collapsed": false,
    "execution": {
     "iopub.execute_input": "2021-11-27T19:47:21.344746Z",
     "iopub.status.busy": "2021-11-27T19:47:21.343838Z",
     "iopub.status.idle": "2021-11-27T19:47:21.347443Z",
     "shell.execute_reply": "2021-11-27T19:47:21.347912Z",
     "shell.execute_reply.started": "2021-11-27T19:44:46.325061Z"
    },
    "jupyter": {
     "outputs_hidden": false
    },
    "papermill": {
     "duration": 0.032466,
     "end_time": "2021-11-27T19:47:21.348094",
     "exception": false,
     "start_time": "2021-11-27T19:47:21.315628",
     "status": "completed"
    },
    "tags": []
   },
   "outputs": [],
   "source": [
    "def unpreprocess(img):\n",
    "  img[..., 0] += 103.939\n",
    "  img[..., 1] += 116.779\n",
    "  img[..., 2] += 126.68\n",
    "  img = img[..., ::-1]\n",
    "  return img"
   ]
  },
  {
   "cell_type": "code",
   "execution_count": 4,
   "id": "76839b53",
   "metadata": {
    "_cell_guid": "bd0a0c10-6341-43dc-8003-67666d32ab54",
    "_uuid": "b67fe233-4c51-4117-b53c-52464898b24d",
    "collapsed": false,
    "execution": {
     "iopub.execute_input": "2021-11-27T19:47:21.400461Z",
     "iopub.status.busy": "2021-11-27T19:47:21.399448Z",
     "iopub.status.idle": "2021-11-27T19:47:21.403239Z",
     "shell.execute_reply": "2021-11-27T19:47:21.402669Z",
     "shell.execute_reply.started": "2021-11-27T19:44:47.129285Z"
    },
    "jupyter": {
     "outputs_hidden": false
    },
    "papermill": {
     "duration": 0.032396,
     "end_time": "2021-11-27T19:47:21.403368",
     "exception": false,
     "start_time": "2021-11-27T19:47:21.370972",
     "status": "completed"
    },
    "tags": []
   },
   "outputs": [],
   "source": [
    "def scale_img(x):\n",
    "  x = x - x.min()\n",
    "  x = x / x.max()\n",
    "  return x"
   ]
  },
  {
   "cell_type": "markdown",
   "id": "cb46228e",
   "metadata": {
    "papermill": {
     "duration": 0.023114,
     "end_time": "2021-11-27T19:47:21.449509",
     "exception": false,
     "start_time": "2021-11-27T19:47:21.426395",
     "status": "completed"
    },
    "tags": []
   },
   "source": [
    "**load the content image**"
   ]
  },
  {
   "cell_type": "code",
   "execution_count": 5,
   "id": "4bfce12a",
   "metadata": {
    "_cell_guid": "bd0a0c10-6341-43dc-8003-67666d32ab54",
    "_uuid": "b67fe233-4c51-4117-b53c-52464898b24d",
    "collapsed": false,
    "execution": {
     "iopub.execute_input": "2021-11-27T19:47:21.502688Z",
     "iopub.status.busy": "2021-11-27T19:47:21.501597Z",
     "iopub.status.idle": "2021-11-27T19:47:21.503848Z",
     "shell.execute_reply": "2021-11-27T19:47:21.504515Z",
     "shell.execute_reply.started": "2021-11-27T19:44:47.136279Z"
    },
    "jupyter": {
     "outputs_hidden": false
    },
    "papermill": {
     "duration": 0.032163,
     "end_time": "2021-11-27T19:47:21.504700",
     "exception": false,
     "start_time": "2021-11-27T19:47:21.472537",
     "status": "completed"
    },
    "tags": []
   },
   "outputs": [],
   "source": [
    "def load_img_and_preprocess(path, shape=None):\n",
    "  img = image.load_img(path, target_size=shape)\n",
    "\n",
    "  # convert image to array and preprocess for vgg\n",
    "  x = image.img_to_array(img)\n",
    "  x = np.expand_dims(x, axis=0)\n",
    "  x = preprocess_input(x)\n",
    "\n",
    "  return x"
   ]
  },
  {
   "cell_type": "code",
   "execution_count": 6,
   "id": "ee8b6cc0",
   "metadata": {
    "execution": {
     "iopub.execute_input": "2021-11-27T19:47:21.557686Z",
     "iopub.status.busy": "2021-11-27T19:47:21.556684Z",
     "iopub.status.idle": "2021-11-27T19:47:21.559622Z",
     "shell.execute_reply": "2021-11-27T19:47:21.560279Z",
     "shell.execute_reply.started": "2021-11-27T19:44:47.372349Z"
    },
    "papermill": {
     "duration": 0.032541,
     "end_time": "2021-11-27T19:47:21.560437",
     "exception": false,
     "start_time": "2021-11-27T19:47:21.527896",
     "status": "completed"
    },
    "tags": []
   },
   "outputs": [],
   "source": [
    "def gram_matrix(img):\n",
    "  # input is (H, W, C) (C = # feature maps)\n",
    "  # we first need to convert it to (C, H*W)\n",
    "  X = K.batch_flatten(K.permute_dimensions(img, (2, 0, 1)))\n",
    "  \n",
    "  # now, calculate the gram matrix\n",
    "  # gram = XX^T / N\n",
    "  # the constant is not important since we'll be weighting these\n",
    "  G = K.dot(X, K.transpose(X)) / img.get_shape().num_elements()\n",
    "  return G"
   ]
  },
  {
   "cell_type": "code",
   "execution_count": 7,
   "id": "d678f545",
   "metadata": {
    "execution": {
     "iopub.execute_input": "2021-11-27T19:47:21.616974Z",
     "iopub.status.busy": "2021-11-27T19:47:21.615795Z",
     "iopub.status.idle": "2021-11-27T19:47:21.618193Z",
     "shell.execute_reply": "2021-11-27T19:47:21.618869Z",
     "shell.execute_reply.started": "2021-11-27T19:44:47.380884Z"
    },
    "papermill": {
     "duration": 0.035724,
     "end_time": "2021-11-27T19:47:21.619048",
     "exception": false,
     "start_time": "2021-11-27T19:47:21.583324",
     "status": "completed"
    },
    "tags": []
   },
   "outputs": [],
   "source": [
    "def style_loss(y, t):\n",
    "  return K.mean(K.square(gram_matrix(y) - gram_matrix(t)))\n",
    "\n",
    "\n",
    "def minimize(fn, epochs, batch_shape):\n",
    "  t0 = datetime.now()\n",
    "  losses = []\n",
    "  x = np.random.randn(np.prod(batch_shape))\n",
    "  for i in range(epochs):\n",
    "    x, l, _ = fmin_l_bfgs_b(\n",
    "      func=fn,\n",
    "      x0=x,\n",
    "      maxfun=20\n",
    "    )\n",
    "    x = np.clip(x, -127, 127)\n",
    "    print(\"iter=%s, loss=%s\" % (i, l))\n",
    "    losses.append(l)\n",
    "\n",
    "  print(\"duration:\", datetime.now() - t0)\n",
    "  plt.plot(losses)\n",
    "  plt.show()\n",
    "\n",
    "  newimg = x.reshape(*batch_shape)\n",
    "  final_img = unpreprocess(newimg)\n",
    "  return final_img[0]"
   ]
  },
  {
   "cell_type": "code",
   "execution_count": 8,
   "id": "21131bc6",
   "metadata": {
    "execution": {
     "iopub.execute_input": "2021-11-27T19:47:21.670104Z",
     "iopub.status.busy": "2021-11-27T19:47:21.669203Z",
     "iopub.status.idle": "2021-11-27T19:47:21.672576Z",
     "shell.execute_reply": "2021-11-27T19:47:21.672001Z",
     "shell.execute_reply.started": "2021-11-27T19:44:47.416204Z"
    },
    "papermill": {
     "duration": 0.031009,
     "end_time": "2021-11-27T19:47:21.672721",
     "exception": false,
     "start_time": "2021-11-27T19:47:21.641712",
     "status": "completed"
    },
    "tags": []
   },
   "outputs": [],
   "source": [
    "style_path = '../input/tamil-nst/TamilStyleImages'\n",
    "content_path = '../input/tamil-nst/TamilContentImages'"
   ]
  },
  {
   "cell_type": "code",
   "execution_count": 9,
   "id": "806ace35",
   "metadata": {
    "execution": {
     "iopub.execute_input": "2021-11-27T19:47:21.723320Z",
     "iopub.status.busy": "2021-11-27T19:47:21.722439Z",
     "iopub.status.idle": "2021-11-27T19:47:21.738079Z",
     "shell.execute_reply": "2021-11-27T19:47:21.736756Z",
     "shell.execute_reply.started": "2021-11-27T19:44:47.425352Z"
    },
    "papermill": {
     "duration": 0.042623,
     "end_time": "2021-11-27T19:47:21.738212",
     "exception": false,
     "start_time": "2021-11-27T19:47:21.695589",
     "status": "completed"
    },
    "tags": []
   },
   "outputs": [],
   "source": [
    "# useful for getting number of files\n",
    "style_files = glob(style_path + '/*.jp*g')\n",
    "content_files = glob(content_path + '/*.jp*g')"
   ]
  },
  {
   "cell_type": "code",
   "execution_count": 10,
   "id": "2bef1458",
   "metadata": {
    "execution": {
     "iopub.execute_input": "2021-11-27T19:47:21.790349Z",
     "iopub.status.busy": "2021-11-27T19:47:21.789263Z",
     "iopub.status.idle": "2021-11-27T19:47:21.791801Z",
     "shell.execute_reply": "2021-11-27T19:47:21.792406Z",
     "shell.execute_reply.started": "2021-11-27T19:44:47.437732Z"
    },
    "papermill": {
     "duration": 0.031894,
     "end_time": "2021-11-27T19:47:21.792581",
     "exception": false,
     "start_time": "2021-11-27T19:47:21.760687",
     "status": "completed"
    },
    "tags": []
   },
   "outputs": [],
   "source": [
    "c_img = np.random.choice(content_files)\n",
    "s_img = np.random.choice(style_files)"
   ]
  },
  {
   "cell_type": "code",
   "execution_count": 11,
   "id": "d5cccb6a",
   "metadata": {
    "_cell_guid": "bd0a0c10-6341-43dc-8003-67666d32ab54",
    "_uuid": "b67fe233-4c51-4117-b53c-52464898b24d",
    "collapsed": false,
    "execution": {
     "iopub.execute_input": "2021-11-27T19:47:21.841494Z",
     "iopub.status.busy": "2021-11-27T19:47:21.840364Z",
     "iopub.status.idle": "2021-11-27T19:47:21.869700Z",
     "shell.execute_reply": "2021-11-27T19:47:21.869149Z",
     "shell.execute_reply.started": "2021-11-27T19:44:47.443099Z"
    },
    "jupyter": {
     "outputs_hidden": false
    },
    "papermill": {
     "duration": 0.054455,
     "end_time": "2021-11-27T19:47:21.869861",
     "exception": false,
     "start_time": "2021-11-27T19:47:21.815406",
     "status": "completed"
    },
    "tags": []
   },
   "outputs": [],
   "source": [
    "content_img = load_img_and_preprocess(\n",
    "  c_img,\n",
    "  #(225, 300),\n",
    ")"
   ]
  },
  {
   "cell_type": "markdown",
   "id": "859deb8f",
   "metadata": {
    "papermill": {
     "duration": 0.022719,
     "end_time": "2021-11-27T19:47:21.914394",
     "exception": false,
     "start_time": "2021-11-27T19:47:21.891675",
     "status": "completed"
    },
    "tags": []
   },
   "source": [
    "resize the style image\n",
    "since we don't care too much about warping it"
   ]
  },
  {
   "cell_type": "code",
   "execution_count": 12,
   "id": "e5bc86e2",
   "metadata": {
    "_cell_guid": "bd0a0c10-6341-43dc-8003-67666d32ab54",
    "_uuid": "b67fe233-4c51-4117-b53c-52464898b24d",
    "collapsed": false,
    "execution": {
     "iopub.execute_input": "2021-11-27T19:47:21.964424Z",
     "iopub.status.busy": "2021-11-27T19:47:21.963745Z",
     "iopub.status.idle": "2021-11-27T19:47:21.978915Z",
     "shell.execute_reply": "2021-11-27T19:47:21.978342Z",
     "shell.execute_reply.started": "2021-11-27T19:44:47.475176Z"
    },
    "jupyter": {
     "outputs_hidden": false
    },
    "papermill": {
     "duration": 0.041893,
     "end_time": "2021-11-27T19:47:21.979052",
     "exception": false,
     "start_time": "2021-11-27T19:47:21.937159",
     "status": "completed"
    },
    "tags": []
   },
   "outputs": [],
   "source": [
    "\n",
    "h, w = content_img.shape[1:3]\n",
    "style_img = load_img_and_preprocess(\n",
    "    s_img,\n",
    "  (h, w)\n",
    ")\n",
    "\n",
    "\n",
    "# we'll use this throughout the rest of the script\n",
    "batch_shape = content_img.shape\n",
    "shape = content_img.shape[1:]"
   ]
  },
  {
   "cell_type": "code",
   "execution_count": 13,
   "id": "e434bc22",
   "metadata": {
    "_cell_guid": "bd0a0c10-6341-43dc-8003-67666d32ab54",
    "_uuid": "b67fe233-4c51-4117-b53c-52464898b24d",
    "collapsed": false,
    "execution": {
     "iopub.execute_input": "2021-11-27T19:47:22.027579Z",
     "iopub.status.busy": "2021-11-27T19:47:22.026436Z",
     "iopub.status.idle": "2021-11-27T19:47:26.168744Z",
     "shell.execute_reply": "2021-11-27T19:47:26.167300Z",
     "shell.execute_reply.started": "2021-11-27T19:44:47.515520Z"
    },
    "jupyter": {
     "outputs_hidden": false
    },
    "papermill": {
     "duration": 4.168046,
     "end_time": "2021-11-27T19:47:26.168934",
     "exception": false,
     "start_time": "2021-11-27T19:47:22.000888",
     "status": "completed"
    },
    "tags": []
   },
   "outputs": [
    {
     "name": "stderr",
     "output_type": "stream",
     "text": [
      "2021-11-27 19:47:22.130366: I tensorflow/stream_executor/cuda/cuda_gpu_executor.cc:937] successful NUMA node read from SysFS had negative value (-1), but there must be at least one NUMA node, so returning NUMA node zero\n",
      "2021-11-27 19:47:22.249867: I tensorflow/stream_executor/cuda/cuda_gpu_executor.cc:937] successful NUMA node read from SysFS had negative value (-1), but there must be at least one NUMA node, so returning NUMA node zero\n",
      "2021-11-27 19:47:22.251135: I tensorflow/stream_executor/cuda/cuda_gpu_executor.cc:937] successful NUMA node read from SysFS had negative value (-1), but there must be at least one NUMA node, so returning NUMA node zero\n",
      "2021-11-27 19:47:22.252613: I tensorflow/core/platform/cpu_feature_guard.cc:142] This TensorFlow binary is optimized with oneAPI Deep Neural Network Library (oneDNN) to use the following CPU instructions in performance-critical operations:  AVX2 FMA\n",
      "To enable them in other operations, rebuild TensorFlow with the appropriate compiler flags.\n",
      "2021-11-27 19:47:22.259107: I tensorflow/stream_executor/cuda/cuda_gpu_executor.cc:937] successful NUMA node read from SysFS had negative value (-1), but there must be at least one NUMA node, so returning NUMA node zero\n",
      "2021-11-27 19:47:22.260035: I tensorflow/stream_executor/cuda/cuda_gpu_executor.cc:937] successful NUMA node read from SysFS had negative value (-1), but there must be at least one NUMA node, so returning NUMA node zero\n",
      "2021-11-27 19:47:22.260982: I tensorflow/stream_executor/cuda/cuda_gpu_executor.cc:937] successful NUMA node read from SysFS had negative value (-1), but there must be at least one NUMA node, so returning NUMA node zero\n",
      "2021-11-27 19:47:24.560080: I tensorflow/stream_executor/cuda/cuda_gpu_executor.cc:937] successful NUMA node read from SysFS had negative value (-1), but there must be at least one NUMA node, so returning NUMA node zero\n",
      "2021-11-27 19:47:24.561133: I tensorflow/stream_executor/cuda/cuda_gpu_executor.cc:937] successful NUMA node read from SysFS had negative value (-1), but there must be at least one NUMA node, so returning NUMA node zero\n",
      "2021-11-27 19:47:24.562188: I tensorflow/stream_executor/cuda/cuda_gpu_executor.cc:937] successful NUMA node read from SysFS had negative value (-1), but there must be at least one NUMA node, so returning NUMA node zero\n",
      "2021-11-27 19:47:24.563057: I tensorflow/core/common_runtime/gpu/gpu_device.cc:1510] Created device /job:localhost/replica:0/task:0/device:GPU:0 with 15403 MB memory:  -> device: 0, name: Tesla P100-PCIE-16GB, pci bus id: 0000:00:04.0, compute capability: 6.0\n"
     ]
    },
    {
     "name": "stdout",
     "output_type": "stream",
     "text": [
      "Downloading data from https://storage.googleapis.com/tensorflow/keras-applications/vgg16/vgg16_weights_tf_dim_ordering_tf_kernels_notop.h5\n",
      "58892288/58889256 [==============================] - 0s 0us/step\n",
      "58900480/58889256 [==============================] - 0s 0us/step\n"
     ]
    }
   ],
   "source": [
    "# we want to make only 1 VGG here\n",
    "# as you'll see later, the final model needs\n",
    "# to have a common input\n",
    "vgg = VGG16_AvgPool(shape)"
   ]
  },
  {
   "cell_type": "code",
   "execution_count": 14,
   "id": "6d3bb4aa",
   "metadata": {
    "_cell_guid": "bd0a0c10-6341-43dc-8003-67666d32ab54",
    "_uuid": "b67fe233-4c51-4117-b53c-52464898b24d",
    "collapsed": false,
    "execution": {
     "iopub.execute_input": "2021-11-27T19:47:26.234394Z",
     "iopub.status.busy": "2021-11-27T19:47:26.230189Z",
     "iopub.status.idle": "2021-11-27T19:47:33.254765Z",
     "shell.execute_reply": "2021-11-27T19:47:33.253866Z",
     "shell.execute_reply.started": "2021-11-27T19:44:48.319813Z"
    },
    "jupyter": {
     "outputs_hidden": false
    },
    "papermill": {
     "duration": 7.056261,
     "end_time": "2021-11-27T19:47:33.254936",
     "exception": false,
     "start_time": "2021-11-27T19:47:26.198675",
     "status": "completed"
    },
    "tags": []
   },
   "outputs": [
    {
     "name": "stderr",
     "output_type": "stream",
     "text": [
      "2021-11-27 19:47:26.313918: I tensorflow/compiler/mlir/mlir_graph_optimization_pass.cc:185] None of the MLIR Optimization Passes are enabled (registered 2)\n",
      "2021-11-27 19:47:27.349409: I tensorflow/stream_executor/cuda/cuda_dnn.cc:369] Loaded cuDNN version 8005\n"
     ]
    }
   ],
   "source": [
    "# create the content model\n",
    "# we only want 1 output\n",
    "content_model = Model(vgg.input, vgg.layers[13].get_output_at(0))\n",
    "content_target = K.variable(content_model.predict(content_img))"
   ]
  },
  {
   "cell_type": "code",
   "execution_count": 15,
   "id": "3e214be3",
   "metadata": {
    "_cell_guid": "bd0a0c10-6341-43dc-8003-67666d32ab54",
    "_uuid": "b67fe233-4c51-4117-b53c-52464898b24d",
    "collapsed": false,
    "execution": {
     "iopub.execute_input": "2021-11-27T19:47:33.322259Z",
     "iopub.status.busy": "2021-11-27T19:47:33.321151Z",
     "iopub.status.idle": "2021-11-27T19:47:33.871204Z",
     "shell.execute_reply": "2021-11-27T19:47:33.870285Z",
     "shell.execute_reply.started": "2021-11-27T19:44:49.598643Z"
    },
    "jupyter": {
     "outputs_hidden": false
    },
    "papermill": {
     "duration": 0.587113,
     "end_time": "2021-11-27T19:47:33.871351",
     "exception": false,
     "start_time": "2021-11-27T19:47:33.284238",
     "status": "completed"
    },
    "tags": []
   },
   "outputs": [],
   "source": [
    "# create the style model\n",
    "# we want multiple outputs\n",
    "symbolic_conv_outputs = [\n",
    "  layer.get_output_at(1) for layer in vgg.layers \\\n",
    "  if layer.name.endswith('conv1')\n",
    "]\n",
    "\n",
    "# make a big model that outputs multiple layers' outputs\n",
    "style_model = Model(vgg.input, symbolic_conv_outputs)\n",
    "\n",
    "# calculate the targets that are output at each layer\n",
    "style_layers_outputs = [K.variable(y) for y in style_model.predict(style_img)]\n",
    "\n",
    "# we will assume the weight of the content loss is 1\n",
    "# and only weight the style losses\n",
    "style_weights = [0.2,0.4,0.3,0.5,0.2]"
   ]
  },
  {
   "cell_type": "code",
   "execution_count": 16,
   "id": "ed99d192",
   "metadata": {
    "_cell_guid": "bd0a0c10-6341-43dc-8003-67666d32ab54",
    "_uuid": "b67fe233-4c51-4117-b53c-52464898b24d",
    "collapsed": false,
    "execution": {
     "iopub.execute_input": "2021-11-27T19:47:33.940323Z",
     "iopub.status.busy": "2021-11-27T19:47:33.939304Z",
     "iopub.status.idle": "2021-11-27T19:47:34.777362Z",
     "shell.execute_reply": "2021-11-27T19:47:34.776607Z",
     "shell.execute_reply.started": "2021-11-27T19:44:51.411290Z"
    },
    "jupyter": {
     "outputs_hidden": false
    },
    "papermill": {
     "duration": 0.878426,
     "end_time": "2021-11-27T19:47:34.777671",
     "exception": true,
     "start_time": "2021-11-27T19:47:33.899245",
     "status": "failed"
    },
    "tags": []
   },
   "outputs": [
    {
     "ename": "RuntimeError",
     "evalue": "tf.gradients is not supported when eager execution is enabled. Use tf.GradientTape instead.",
     "output_type": "error",
     "traceback": [
      "\u001b[0;31m---------------------------------------------------------------------------\u001b[0m",
      "\u001b[0;31mRuntimeError\u001b[0m                              Traceback (most recent call last)",
      "\u001b[0;32m/tmp/ipykernel_25/1995226815.py\u001b[0m in \u001b[0;36m<module>\u001b[0;34m\u001b[0m\n\u001b[1;32m     11\u001b[0m \u001b[0;31m# note: it doesn't matter which model's input you use\u001b[0m\u001b[0;34m\u001b[0m\u001b[0;34m\u001b[0m\u001b[0;34m\u001b[0m\u001b[0m\n\u001b[1;32m     12\u001b[0m \u001b[0;31m# they are both pointing to the same keras Input layer in memory\u001b[0m\u001b[0;34m\u001b[0m\u001b[0;34m\u001b[0m\u001b[0;34m\u001b[0m\u001b[0m\n\u001b[0;32m---> 13\u001b[0;31m \u001b[0mgrads\u001b[0m \u001b[0;34m=\u001b[0m \u001b[0mK\u001b[0m\u001b[0;34m.\u001b[0m\u001b[0mgradients\u001b[0m\u001b[0;34m(\u001b[0m\u001b[0mloss\u001b[0m\u001b[0;34m,\u001b[0m \u001b[0mvgg\u001b[0m\u001b[0;34m.\u001b[0m\u001b[0minput\u001b[0m\u001b[0;34m)\u001b[0m\u001b[0;34m\u001b[0m\u001b[0;34m\u001b[0m\u001b[0m\n\u001b[0m\u001b[1;32m     14\u001b[0m \u001b[0;34m\u001b[0m\u001b[0m\n\u001b[1;32m     15\u001b[0m get_loss_and_grads = K.function(\n",
      "\u001b[0;32m/opt/conda/lib/python3.7/site-packages/keras/backend.py\u001b[0m in \u001b[0;36mgradients\u001b[0;34m(loss, variables)\u001b[0m\n\u001b[1;32m   4107\u001b[0m   \"\"\"\n\u001b[1;32m   4108\u001b[0m   return tf.compat.v1.gradients(\n\u001b[0;32m-> 4109\u001b[0;31m       loss, variables, colocate_gradients_with_ops=True)\n\u001b[0m\u001b[1;32m   4110\u001b[0m \u001b[0;34m\u001b[0m\u001b[0m\n\u001b[1;32m   4111\u001b[0m \u001b[0;34m\u001b[0m\u001b[0m\n",
      "\u001b[0;32m/opt/conda/lib/python3.7/site-packages/tensorflow/python/ops/gradients_impl.py\u001b[0m in \u001b[0;36mgradients\u001b[0;34m(ys, xs, grad_ys, name, colocate_gradients_with_ops, gate_gradients, aggregation_method, stop_gradients, unconnected_gradients)\u001b[0m\n\u001b[1;32m    170\u001b[0m         \u001b[0mys\u001b[0m\u001b[0;34m,\u001b[0m \u001b[0mxs\u001b[0m\u001b[0;34m,\u001b[0m \u001b[0mgrad_ys\u001b[0m\u001b[0;34m,\u001b[0m \u001b[0mname\u001b[0m\u001b[0;34m,\u001b[0m \u001b[0mcolocate_gradients_with_ops\u001b[0m\u001b[0;34m,\u001b[0m\u001b[0;34m\u001b[0m\u001b[0;34m\u001b[0m\u001b[0m\n\u001b[1;32m    171\u001b[0m         \u001b[0mgate_gradients\u001b[0m\u001b[0;34m,\u001b[0m \u001b[0maggregation_method\u001b[0m\u001b[0;34m,\u001b[0m \u001b[0mstop_gradients\u001b[0m\u001b[0;34m,\u001b[0m\u001b[0;34m\u001b[0m\u001b[0;34m\u001b[0m\u001b[0m\n\u001b[0;32m--> 172\u001b[0;31m         unconnected_gradients)\n\u001b[0m\u001b[1;32m    173\u001b[0m   \u001b[0;31m# pylint: enable=protected-access\u001b[0m\u001b[0;34m\u001b[0m\u001b[0;34m\u001b[0m\u001b[0;34m\u001b[0m\u001b[0m\n\u001b[1;32m    174\u001b[0m \u001b[0;34m\u001b[0m\u001b[0m\n",
      "\u001b[0;32m/opt/conda/lib/python3.7/site-packages/tensorflow/python/ops/gradients_util.py\u001b[0m in \u001b[0;36m_GradientsHelper\u001b[0;34m(ys, xs, grad_ys, name, colocate_gradients_with_ops, gate_gradients, aggregation_method, stop_gradients, unconnected_gradients, src_graph)\u001b[0m\n\u001b[1;32m    488\u001b[0m   \u001b[0;34m\"\"\"Implementation of gradients().\"\"\"\u001b[0m\u001b[0;34m\u001b[0m\u001b[0;34m\u001b[0m\u001b[0m\n\u001b[1;32m    489\u001b[0m   \u001b[0;32mif\u001b[0m \u001b[0mcontext\u001b[0m\u001b[0;34m.\u001b[0m\u001b[0mexecuting_eagerly\u001b[0m\u001b[0;34m(\u001b[0m\u001b[0;34m)\u001b[0m\u001b[0;34m:\u001b[0m\u001b[0;34m\u001b[0m\u001b[0;34m\u001b[0m\u001b[0m\n\u001b[0;32m--> 490\u001b[0;31m     raise RuntimeError(\"tf.gradients is not supported when eager execution \"\n\u001b[0m\u001b[1;32m    491\u001b[0m                        \"is enabled. Use tf.GradientTape instead.\")\n\u001b[1;32m    492\u001b[0m   \u001b[0;32mif\u001b[0m \u001b[0msrc_graph\u001b[0m \u001b[0;32mis\u001b[0m \u001b[0;32mNone\u001b[0m\u001b[0;34m:\u001b[0m\u001b[0;34m\u001b[0m\u001b[0;34m\u001b[0m\u001b[0m\n",
      "\u001b[0;31mRuntimeError\u001b[0m: tf.gradients is not supported when eager execution is enabled. Use tf.GradientTape instead."
     ]
    }
   ],
   "source": [
    "# create the total loss which is the sum of content + style loss\n",
    "loss = K.mean(K.square(content_model.output - content_target))\n",
    "\n",
    "for w, symbolic, actual in zip(style_weights, symbolic_conv_outputs, style_layers_outputs):\n",
    "  # gram_matrix() expects a (H, W, C) as input\n",
    "  loss += w * style_loss(symbolic[0], actual[0])\n",
    "\n",
    "#tf.compat.v1.disable_eager_execution()\n",
    "\n",
    "# once again, create the gradients and loss + grads function\n",
    "# note: it doesn't matter which model's input you use\n",
    "# they are both pointing to the same keras Input layer in memory\n",
    "grads = K.gradients(loss, vgg.input)\n",
    "\n",
    "get_loss_and_grads = K.function(\n",
    "  inputs=[vgg.input],\n",
    "  outputs=[loss] + grads\n",
    ")"
   ]
  },
  {
   "cell_type": "code",
   "execution_count": null,
   "id": "712350c4",
   "metadata": {
    "_cell_guid": "bd0a0c10-6341-43dc-8003-67666d32ab54",
    "_uuid": "b67fe233-4c51-4117-b53c-52464898b24d",
    "collapsed": false,
    "execution": {
     "iopub.execute_input": "2021-11-27T19:44:51.732607Z",
     "iopub.status.busy": "2021-11-27T19:44:51.732107Z",
     "iopub.status.idle": "2021-11-27T19:44:51.737518Z",
     "shell.execute_reply": "2021-11-27T19:44:51.736618Z",
     "shell.execute_reply.started": "2021-11-27T19:44:51.732565Z"
    },
    "jupyter": {
     "outputs_hidden": false
    },
    "papermill": {
     "duration": null,
     "end_time": null,
     "exception": null,
     "start_time": null,
     "status": "pending"
    },
    "tags": []
   },
   "outputs": [],
   "source": [
    "def get_loss_and_grads_wrapper(x_vec):\n",
    "  l, g = get_loss_and_grads([x_vec.reshape(*batch_shape)])\n",
    "  return l.astype(np.float64), g.flatten().astype(np.float64)"
   ]
  },
  {
   "cell_type": "code",
   "execution_count": null,
   "id": "4b22399d",
   "metadata": {
    "_cell_guid": "bd0a0c10-6341-43dc-8003-67666d32ab54",
    "_uuid": "b67fe233-4c51-4117-b53c-52464898b24d",
    "collapsed": false,
    "execution": {
     "iopub.execute_input": "2021-11-27T19:44:51.739371Z",
     "iopub.status.busy": "2021-11-27T19:44:51.738580Z",
     "iopub.status.idle": "2021-11-27T19:46:23.760552Z",
     "shell.execute_reply": "2021-11-27T19:46:23.759883Z",
     "shell.execute_reply.started": "2021-11-27T19:44:51.739334Z"
    },
    "jupyter": {
     "outputs_hidden": false
    },
    "papermill": {
     "duration": null,
     "end_time": null,
     "exception": null,
     "start_time": null,
     "status": "pending"
    },
    "tags": []
   },
   "outputs": [],
   "source": [
    "final_img = minimize(get_loss_and_grads_wrapper, 10, batch_shape)"
   ]
  },
  {
   "cell_type": "markdown",
   "id": "3d4393dd",
   "metadata": {
    "papermill": {
     "duration": null,
     "end_time": null,
     "exception": null,
     "start_time": null,
     "status": "pending"
    },
    "tags": []
   },
   "source": [
    "# plot the content image"
   ]
  },
  {
   "cell_type": "code",
   "execution_count": null,
   "id": "2de4ec4a",
   "metadata": {
    "execution": {
     "iopub.execute_input": "2021-11-27T19:46:23.762175Z",
     "iopub.status.busy": "2021-11-27T19:46:23.761830Z",
     "iopub.status.idle": "2021-11-27T19:46:24.058276Z",
     "shell.execute_reply": "2021-11-27T19:46:24.057534Z",
     "shell.execute_reply.started": "2021-11-27T19:46:23.762134Z"
    },
    "papermill": {
     "duration": null,
     "end_time": null,
     "exception": null,
     "start_time": null,
     "status": "pending"
    },
    "tags": []
   },
   "outputs": [],
   "source": [
    "plt.imshow(image.load_img(c_img))"
   ]
  },
  {
   "cell_type": "markdown",
   "id": "130486bb",
   "metadata": {
    "papermill": {
     "duration": null,
     "end_time": null,
     "exception": null,
     "start_time": null,
     "status": "pending"
    },
    "tags": []
   },
   "source": [
    "# plot the style image"
   ]
  },
  {
   "cell_type": "code",
   "execution_count": null,
   "id": "f957839f",
   "metadata": {
    "execution": {
     "iopub.execute_input": "2021-11-27T19:46:24.060213Z",
     "iopub.status.busy": "2021-11-27T19:46:24.059496Z",
     "iopub.status.idle": "2021-11-27T19:46:24.305146Z",
     "shell.execute_reply": "2021-11-27T19:46:24.304542Z",
     "shell.execute_reply.started": "2021-11-27T19:46:24.060173Z"
    },
    "papermill": {
     "duration": null,
     "end_time": null,
     "exception": null,
     "start_time": null,
     "status": "pending"
    },
    "tags": []
   },
   "outputs": [],
   "source": [
    "plt.imshow(image.load_img(s_img))"
   ]
  },
  {
   "cell_type": "markdown",
   "id": "55d45e6b",
   "metadata": {
    "papermill": {
     "duration": null,
     "end_time": null,
     "exception": null,
     "start_time": null,
     "status": "pending"
    },
    "tags": []
   },
   "source": [
    "# plot the new image"
   ]
  },
  {
   "cell_type": "code",
   "execution_count": null,
   "id": "5563a06d",
   "metadata": {
    "_cell_guid": "bd0a0c10-6341-43dc-8003-67666d32ab54",
    "_uuid": "b67fe233-4c51-4117-b53c-52464898b24d",
    "collapsed": false,
    "execution": {
     "iopub.execute_input": "2021-11-27T19:46:24.306924Z",
     "iopub.status.busy": "2021-11-27T19:46:24.306491Z",
     "iopub.status.idle": "2021-11-27T19:46:24.584239Z",
     "shell.execute_reply": "2021-11-27T19:46:24.583552Z",
     "shell.execute_reply.started": "2021-11-27T19:46:24.306890Z"
    },
    "jupyter": {
     "outputs_hidden": false
    },
    "papermill": {
     "duration": null,
     "end_time": null,
     "exception": null,
     "start_time": null,
     "status": "pending"
    },
    "tags": []
   },
   "outputs": [],
   "source": [
    "plt.imshow(scale_img(final_img))\n",
    "plt.show()"
   ]
  }
 ],
 "metadata": {
  "kernelspec": {
   "display_name": "Python 3",
   "language": "python",
   "name": "python3"
  },
  "language_info": {
   "codemirror_mode": {
    "name": "ipython",
    "version": 3
   },
   "file_extension": ".py",
   "mimetype": "text/x-python",
   "name": "python",
   "nbconvert_exporter": "python",
   "pygments_lexer": "ipython3",
   "version": "3.7.10"
  },
  "papermill": {
   "default_parameters": {},
   "duration": 31.636151,
   "end_time": "2021-11-27T19:47:37.925379",
   "environment_variables": {},
   "exception": true,
   "input_path": "__notebook__.ipynb",
   "output_path": "__notebook__.ipynb",
   "parameters": {},
   "start_time": "2021-11-27T19:47:06.289228",
   "version": "2.3.3"
  }
 },
 "nbformat": 4,
 "nbformat_minor": 5
}
